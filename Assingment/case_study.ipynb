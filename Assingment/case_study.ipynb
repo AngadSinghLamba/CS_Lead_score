{
 "cells": [
  {
   "cell_type": "code",
   "execution_count": 295,
   "metadata": {},
   "outputs": [],
   "source": [
    "import pandas as pd\n",
    "import numpy as np\n",
    "import matplotlib.pyplot as plt\n",
    "import seaborn as sns"
   ]
  },
  {
   "cell_type": "code",
   "execution_count": 296,
   "metadata": {},
   "outputs": [],
   "source": [
    "df=pd.read_csv(\"Leads.csv\")"
   ]
  },
  {
   "cell_type": "markdown",
   "metadata": {},
   "source": [
    "### Step 1: Inspect the Data"
   ]
  },
  {
   "cell_type": "code",
   "execution_count": 297,
   "metadata": {},
   "outputs": [
    {
     "data": {
      "text/html": [
       "<div>\n",
       "<style scoped>\n",
       "    .dataframe tbody tr th:only-of-type {\n",
       "        vertical-align: middle;\n",
       "    }\n",
       "\n",
       "    .dataframe tbody tr th {\n",
       "        vertical-align: top;\n",
       "    }\n",
       "\n",
       "    .dataframe thead th {\n",
       "        text-align: right;\n",
       "    }\n",
       "</style>\n",
       "<table border=\"1\" class=\"dataframe\">\n",
       "  <thead>\n",
       "    <tr style=\"text-align: right;\">\n",
       "      <th></th>\n",
       "      <th>Prospect ID</th>\n",
       "      <th>Lead Number</th>\n",
       "      <th>Lead Origin</th>\n",
       "      <th>Lead Source</th>\n",
       "      <th>Do Not Email</th>\n",
       "      <th>Do Not Call</th>\n",
       "      <th>Converted</th>\n",
       "      <th>TotalVisits</th>\n",
       "      <th>Total Time Spent on Website</th>\n",
       "      <th>Page Views Per Visit</th>\n",
       "      <th>...</th>\n",
       "      <th>Get updates on DM Content</th>\n",
       "      <th>Lead Profile</th>\n",
       "      <th>City</th>\n",
       "      <th>Asymmetrique Activity Index</th>\n",
       "      <th>Asymmetrique Profile Index</th>\n",
       "      <th>Asymmetrique Activity Score</th>\n",
       "      <th>Asymmetrique Profile Score</th>\n",
       "      <th>I agree to pay the amount through cheque</th>\n",
       "      <th>A free copy of Mastering The Interview</th>\n",
       "      <th>Last Notable Activity</th>\n",
       "    </tr>\n",
       "  </thead>\n",
       "  <tbody>\n",
       "    <tr>\n",
       "      <th>0</th>\n",
       "      <td>7927b2df-8bba-4d29-b9a2-b6e0beafe620</td>\n",
       "      <td>660737</td>\n",
       "      <td>API</td>\n",
       "      <td>Olark Chat</td>\n",
       "      <td>No</td>\n",
       "      <td>No</td>\n",
       "      <td>0</td>\n",
       "      <td>0.0</td>\n",
       "      <td>0</td>\n",
       "      <td>0.0</td>\n",
       "      <td>...</td>\n",
       "      <td>No</td>\n",
       "      <td>Select</td>\n",
       "      <td>Select</td>\n",
       "      <td>02.Medium</td>\n",
       "      <td>02.Medium</td>\n",
       "      <td>15.0</td>\n",
       "      <td>15.0</td>\n",
       "      <td>No</td>\n",
       "      <td>No</td>\n",
       "      <td>Modified</td>\n",
       "    </tr>\n",
       "    <tr>\n",
       "      <th>1</th>\n",
       "      <td>2a272436-5132-4136-86fa-dcc88c88f482</td>\n",
       "      <td>660728</td>\n",
       "      <td>API</td>\n",
       "      <td>Organic Search</td>\n",
       "      <td>No</td>\n",
       "      <td>No</td>\n",
       "      <td>0</td>\n",
       "      <td>5.0</td>\n",
       "      <td>674</td>\n",
       "      <td>2.5</td>\n",
       "      <td>...</td>\n",
       "      <td>No</td>\n",
       "      <td>Select</td>\n",
       "      <td>Select</td>\n",
       "      <td>02.Medium</td>\n",
       "      <td>02.Medium</td>\n",
       "      <td>15.0</td>\n",
       "      <td>15.0</td>\n",
       "      <td>No</td>\n",
       "      <td>No</td>\n",
       "      <td>Email Opened</td>\n",
       "    </tr>\n",
       "    <tr>\n",
       "      <th>2</th>\n",
       "      <td>8cc8c611-a219-4f35-ad23-fdfd2656bd8a</td>\n",
       "      <td>660727</td>\n",
       "      <td>Landing Page Submission</td>\n",
       "      <td>Direct Traffic</td>\n",
       "      <td>No</td>\n",
       "      <td>No</td>\n",
       "      <td>1</td>\n",
       "      <td>2.0</td>\n",
       "      <td>1532</td>\n",
       "      <td>2.0</td>\n",
       "      <td>...</td>\n",
       "      <td>No</td>\n",
       "      <td>Potential Lead</td>\n",
       "      <td>Mumbai</td>\n",
       "      <td>02.Medium</td>\n",
       "      <td>01.High</td>\n",
       "      <td>14.0</td>\n",
       "      <td>20.0</td>\n",
       "      <td>No</td>\n",
       "      <td>Yes</td>\n",
       "      <td>Email Opened</td>\n",
       "    </tr>\n",
       "    <tr>\n",
       "      <th>3</th>\n",
       "      <td>0cc2df48-7cf4-4e39-9de9-19797f9b38cc</td>\n",
       "      <td>660719</td>\n",
       "      <td>Landing Page Submission</td>\n",
       "      <td>Direct Traffic</td>\n",
       "      <td>No</td>\n",
       "      <td>No</td>\n",
       "      <td>0</td>\n",
       "      <td>1.0</td>\n",
       "      <td>305</td>\n",
       "      <td>1.0</td>\n",
       "      <td>...</td>\n",
       "      <td>No</td>\n",
       "      <td>Select</td>\n",
       "      <td>Mumbai</td>\n",
       "      <td>02.Medium</td>\n",
       "      <td>01.High</td>\n",
       "      <td>13.0</td>\n",
       "      <td>17.0</td>\n",
       "      <td>No</td>\n",
       "      <td>No</td>\n",
       "      <td>Modified</td>\n",
       "    </tr>\n",
       "    <tr>\n",
       "      <th>4</th>\n",
       "      <td>3256f628-e534-4826-9d63-4a8b88782852</td>\n",
       "      <td>660681</td>\n",
       "      <td>Landing Page Submission</td>\n",
       "      <td>Google</td>\n",
       "      <td>No</td>\n",
       "      <td>No</td>\n",
       "      <td>1</td>\n",
       "      <td>2.0</td>\n",
       "      <td>1428</td>\n",
       "      <td>1.0</td>\n",
       "      <td>...</td>\n",
       "      <td>No</td>\n",
       "      <td>Select</td>\n",
       "      <td>Mumbai</td>\n",
       "      <td>02.Medium</td>\n",
       "      <td>01.High</td>\n",
       "      <td>15.0</td>\n",
       "      <td>18.0</td>\n",
       "      <td>No</td>\n",
       "      <td>No</td>\n",
       "      <td>Modified</td>\n",
       "    </tr>\n",
       "  </tbody>\n",
       "</table>\n",
       "<p>5 rows × 37 columns</p>\n",
       "</div>"
      ],
      "text/plain": [
       "                            Prospect ID  Lead Number              Lead Origin  \\\n",
       "0  7927b2df-8bba-4d29-b9a2-b6e0beafe620       660737                      API   \n",
       "1  2a272436-5132-4136-86fa-dcc88c88f482       660728                      API   \n",
       "2  8cc8c611-a219-4f35-ad23-fdfd2656bd8a       660727  Landing Page Submission   \n",
       "3  0cc2df48-7cf4-4e39-9de9-19797f9b38cc       660719  Landing Page Submission   \n",
       "4  3256f628-e534-4826-9d63-4a8b88782852       660681  Landing Page Submission   \n",
       "\n",
       "      Lead Source Do Not Email Do Not Call  Converted  TotalVisits  \\\n",
       "0      Olark Chat           No          No          0          0.0   \n",
       "1  Organic Search           No          No          0          5.0   \n",
       "2  Direct Traffic           No          No          1          2.0   \n",
       "3  Direct Traffic           No          No          0          1.0   \n",
       "4          Google           No          No          1          2.0   \n",
       "\n",
       "   Total Time Spent on Website  Page Views Per Visit  ...  \\\n",
       "0                            0                   0.0  ...   \n",
       "1                          674                   2.5  ...   \n",
       "2                         1532                   2.0  ...   \n",
       "3                          305                   1.0  ...   \n",
       "4                         1428                   1.0  ...   \n",
       "\n",
       "  Get updates on DM Content    Lead Profile    City  \\\n",
       "0                        No          Select  Select   \n",
       "1                        No          Select  Select   \n",
       "2                        No  Potential Lead  Mumbai   \n",
       "3                        No          Select  Mumbai   \n",
       "4                        No          Select  Mumbai   \n",
       "\n",
       "  Asymmetrique Activity Index Asymmetrique Profile Index  \\\n",
       "0                   02.Medium                  02.Medium   \n",
       "1                   02.Medium                  02.Medium   \n",
       "2                   02.Medium                    01.High   \n",
       "3                   02.Medium                    01.High   \n",
       "4                   02.Medium                    01.High   \n",
       "\n",
       "  Asymmetrique Activity Score Asymmetrique Profile Score  \\\n",
       "0                        15.0                       15.0   \n",
       "1                        15.0                       15.0   \n",
       "2                        14.0                       20.0   \n",
       "3                        13.0                       17.0   \n",
       "4                        15.0                       18.0   \n",
       "\n",
       "  I agree to pay the amount through cheque  \\\n",
       "0                                       No   \n",
       "1                                       No   \n",
       "2                                       No   \n",
       "3                                       No   \n",
       "4                                       No   \n",
       "\n",
       "  A free copy of Mastering The Interview Last Notable Activity  \n",
       "0                                     No              Modified  \n",
       "1                                     No          Email Opened  \n",
       "2                                    Yes          Email Opened  \n",
       "3                                     No              Modified  \n",
       "4                                     No              Modified  \n",
       "\n",
       "[5 rows x 37 columns]"
      ]
     },
     "execution_count": 297,
     "metadata": {},
     "output_type": "execute_result"
    }
   ],
   "source": [
    "df.head()"
   ]
  },
  {
   "cell_type": "code",
   "execution_count": 298,
   "metadata": {},
   "outputs": [
    {
     "name": "stdout",
     "output_type": "stream",
     "text": [
      "Number of duplicate rows: 0\n",
      "Duplicate rows:\n",
      "Empty DataFrame\n",
      "Columns: [Prospect ID, Lead Number, Lead Origin, Lead Source, Do Not Email, Do Not Call, Converted, TotalVisits, Total Time Spent on Website, Page Views Per Visit, Last Activity, Country, Specialization, How did you hear about X Education, What is your current occupation, What matters most to you in choosing a course, Search, Magazine, Newspaper Article, X Education Forums, Newspaper, Digital Advertisement, Through Recommendations, Receive More Updates About Our Courses, Tags, Lead Quality, Update me on Supply Chain Content, Get updates on DM Content, Lead Profile, City, Asymmetrique Activity Index, Asymmetrique Profile Index, Asymmetrique Activity Score, Asymmetrique Profile Score, I agree to pay the amount through cheque, A free copy of Mastering The Interview, Last Notable Activity]\n",
      "Index: []\n",
      "\n",
      "[0 rows x 37 columns]\n"
     ]
    }
   ],
   "source": [
    "\n",
    "# Check for duplicates\n",
    "duplicate_rows = df[df.duplicated()]\n",
    "\n",
    "# Count the number of duplicate rows\n",
    "num_duplicates = duplicate_rows.shape[0]\n",
    "\n",
    "print(f\"Number of duplicate rows: {num_duplicates}\")\n",
    "print(\"Duplicate rows:\")\n",
    "print(duplicate_rows)\n"
   ]
  },
  {
   "cell_type": "code",
   "execution_count": 299,
   "metadata": {},
   "outputs": [
    {
     "data": {
      "text/plain": [
       "38.53896103896104"
      ]
     },
     "execution_count": 299,
     "metadata": {},
     "output_type": "execute_result"
    }
   ],
   "source": [
    "### Checking the  conversion rate\n",
    "conversion_rate = (sum(df['Converted'])/len(df['Converted'].index))*100\n",
    "conversion_rate"
   ]
  },
  {
   "cell_type": "markdown",
   "metadata": {},
   "source": [
    "We have almost 40% conversion rate"
   ]
  },
  {
   "cell_type": "code",
   "execution_count": 300,
   "metadata": {},
   "outputs": [
    {
     "data": {
      "text/plain": [
       "(9240, 37)"
      ]
     },
     "execution_count": 300,
     "metadata": {},
     "output_type": "execute_result"
    }
   ],
   "source": [
    "# Let's check the dimensions of the dataframe\n",
    "df.shape"
   ]
  },
  {
   "cell_type": "code",
   "execution_count": 301,
   "metadata": {},
   "outputs": [
    {
     "data": {
      "text/html": [
       "<div>\n",
       "<style scoped>\n",
       "    .dataframe tbody tr th:only-of-type {\n",
       "        vertical-align: middle;\n",
       "    }\n",
       "\n",
       "    .dataframe tbody tr th {\n",
       "        vertical-align: top;\n",
       "    }\n",
       "\n",
       "    .dataframe thead th {\n",
       "        text-align: right;\n",
       "    }\n",
       "</style>\n",
       "<table border=\"1\" class=\"dataframe\">\n",
       "  <thead>\n",
       "    <tr style=\"text-align: right;\">\n",
       "      <th></th>\n",
       "      <th>Lead Number</th>\n",
       "      <th>Converted</th>\n",
       "      <th>TotalVisits</th>\n",
       "      <th>Total Time Spent on Website</th>\n",
       "      <th>Page Views Per Visit</th>\n",
       "      <th>Asymmetrique Activity Score</th>\n",
       "      <th>Asymmetrique Profile Score</th>\n",
       "    </tr>\n",
       "  </thead>\n",
       "  <tbody>\n",
       "    <tr>\n",
       "      <th>count</th>\n",
       "      <td>9240.000000</td>\n",
       "      <td>9240.000000</td>\n",
       "      <td>9103.000000</td>\n",
       "      <td>9240.000000</td>\n",
       "      <td>9103.000000</td>\n",
       "      <td>5022.000000</td>\n",
       "      <td>5022.000000</td>\n",
       "    </tr>\n",
       "    <tr>\n",
       "      <th>mean</th>\n",
       "      <td>617188.435606</td>\n",
       "      <td>0.385390</td>\n",
       "      <td>3.445238</td>\n",
       "      <td>487.698268</td>\n",
       "      <td>2.362820</td>\n",
       "      <td>14.306252</td>\n",
       "      <td>16.344883</td>\n",
       "    </tr>\n",
       "    <tr>\n",
       "      <th>std</th>\n",
       "      <td>23405.995698</td>\n",
       "      <td>0.486714</td>\n",
       "      <td>4.854853</td>\n",
       "      <td>548.021466</td>\n",
       "      <td>2.161418</td>\n",
       "      <td>1.386694</td>\n",
       "      <td>1.811395</td>\n",
       "    </tr>\n",
       "    <tr>\n",
       "      <th>min</th>\n",
       "      <td>579533.000000</td>\n",
       "      <td>0.000000</td>\n",
       "      <td>0.000000</td>\n",
       "      <td>0.000000</td>\n",
       "      <td>0.000000</td>\n",
       "      <td>7.000000</td>\n",
       "      <td>11.000000</td>\n",
       "    </tr>\n",
       "    <tr>\n",
       "      <th>25%</th>\n",
       "      <td>596484.500000</td>\n",
       "      <td>0.000000</td>\n",
       "      <td>1.000000</td>\n",
       "      <td>12.000000</td>\n",
       "      <td>1.000000</td>\n",
       "      <td>14.000000</td>\n",
       "      <td>15.000000</td>\n",
       "    </tr>\n",
       "    <tr>\n",
       "      <th>50%</th>\n",
       "      <td>615479.000000</td>\n",
       "      <td>0.000000</td>\n",
       "      <td>3.000000</td>\n",
       "      <td>248.000000</td>\n",
       "      <td>2.000000</td>\n",
       "      <td>14.000000</td>\n",
       "      <td>16.000000</td>\n",
       "    </tr>\n",
       "    <tr>\n",
       "      <th>75%</th>\n",
       "      <td>637387.250000</td>\n",
       "      <td>1.000000</td>\n",
       "      <td>5.000000</td>\n",
       "      <td>936.000000</td>\n",
       "      <td>3.000000</td>\n",
       "      <td>15.000000</td>\n",
       "      <td>18.000000</td>\n",
       "    </tr>\n",
       "    <tr>\n",
       "      <th>max</th>\n",
       "      <td>660737.000000</td>\n",
       "      <td>1.000000</td>\n",
       "      <td>251.000000</td>\n",
       "      <td>2272.000000</td>\n",
       "      <td>55.000000</td>\n",
       "      <td>18.000000</td>\n",
       "      <td>20.000000</td>\n",
       "    </tr>\n",
       "  </tbody>\n",
       "</table>\n",
       "</div>"
      ],
      "text/plain": [
       "         Lead Number    Converted  TotalVisits  Total Time Spent on Website  \\\n",
       "count    9240.000000  9240.000000  9103.000000                  9240.000000   \n",
       "mean   617188.435606     0.385390     3.445238                   487.698268   \n",
       "std     23405.995698     0.486714     4.854853                   548.021466   \n",
       "min    579533.000000     0.000000     0.000000                     0.000000   \n",
       "25%    596484.500000     0.000000     1.000000                    12.000000   \n",
       "50%    615479.000000     0.000000     3.000000                   248.000000   \n",
       "75%    637387.250000     1.000000     5.000000                   936.000000   \n",
       "max    660737.000000     1.000000   251.000000                  2272.000000   \n",
       "\n",
       "       Page Views Per Visit  Asymmetrique Activity Score  \\\n",
       "count           9103.000000                  5022.000000   \n",
       "mean               2.362820                    14.306252   \n",
       "std                2.161418                     1.386694   \n",
       "min                0.000000                     7.000000   \n",
       "25%                1.000000                    14.000000   \n",
       "50%                2.000000                    14.000000   \n",
       "75%                3.000000                    15.000000   \n",
       "max               55.000000                    18.000000   \n",
       "\n",
       "       Asymmetrique Profile Score  \n",
       "count                 5022.000000  \n",
       "mean                    16.344883  \n",
       "std                      1.811395  \n",
       "min                     11.000000  \n",
       "25%                     15.000000  \n",
       "50%                     16.000000  \n",
       "75%                     18.000000  \n",
       "max                     20.000000  "
      ]
     },
     "execution_count": 301,
     "metadata": {},
     "output_type": "execute_result"
    }
   ],
   "source": [
    "# let's look at the statistical aspects of the dataframe\n",
    "df.describe()"
   ]
  },
  {
   "cell_type": "code",
   "execution_count": 302,
   "metadata": {},
   "outputs": [
    {
     "name": "stdout",
     "output_type": "stream",
     "text": [
      "<class 'pandas.core.frame.DataFrame'>\n",
      "RangeIndex: 9240 entries, 0 to 9239\n",
      "Data columns (total 37 columns):\n",
      " #   Column                                         Non-Null Count  Dtype  \n",
      "---  ------                                         --------------  -----  \n",
      " 0   Prospect ID                                    9240 non-null   object \n",
      " 1   Lead Number                                    9240 non-null   int64  \n",
      " 2   Lead Origin                                    9240 non-null   object \n",
      " 3   Lead Source                                    9204 non-null   object \n",
      " 4   Do Not Email                                   9240 non-null   object \n",
      " 5   Do Not Call                                    9240 non-null   object \n",
      " 6   Converted                                      9240 non-null   int64  \n",
      " 7   TotalVisits                                    9103 non-null   float64\n",
      " 8   Total Time Spent on Website                    9240 non-null   int64  \n",
      " 9   Page Views Per Visit                           9103 non-null   float64\n",
      " 10  Last Activity                                  9137 non-null   object \n",
      " 11  Country                                        6779 non-null   object \n",
      " 12  Specialization                                 7802 non-null   object \n",
      " 13  How did you hear about X Education             7033 non-null   object \n",
      " 14  What is your current occupation                6550 non-null   object \n",
      " 15  What matters most to you in choosing a course  6531 non-null   object \n",
      " 16  Search                                         9240 non-null   object \n",
      " 17  Magazine                                       9240 non-null   object \n",
      " 18  Newspaper Article                              9240 non-null   object \n",
      " 19  X Education Forums                             9240 non-null   object \n",
      " 20  Newspaper                                      9240 non-null   object \n",
      " 21  Digital Advertisement                          9240 non-null   object \n",
      " 22  Through Recommendations                        9240 non-null   object \n",
      " 23  Receive More Updates About Our Courses         9240 non-null   object \n",
      " 24  Tags                                           5887 non-null   object \n",
      " 25  Lead Quality                                   4473 non-null   object \n",
      " 26  Update me on Supply Chain Content              9240 non-null   object \n",
      " 27  Get updates on DM Content                      9240 non-null   object \n",
      " 28  Lead Profile                                   6531 non-null   object \n",
      " 29  City                                           7820 non-null   object \n",
      " 30  Asymmetrique Activity Index                    5022 non-null   object \n",
      " 31  Asymmetrique Profile Index                     5022 non-null   object \n",
      " 32  Asymmetrique Activity Score                    5022 non-null   float64\n",
      " 33  Asymmetrique Profile Score                     5022 non-null   float64\n",
      " 34  I agree to pay the amount through cheque       9240 non-null   object \n",
      " 35  A free copy of Mastering The Interview         9240 non-null   object \n",
      " 36  Last Notable Activity                          9240 non-null   object \n",
      "dtypes: float64(4), int64(3), object(30)\n",
      "memory usage: 2.6+ MB\n"
     ]
    }
   ],
   "source": [
    "# Let's see the type of each column\n",
    "df.info()"
   ]
  },
  {
   "cell_type": "markdown",
   "metadata": {},
   "source": [
    "#### Drop Irrelevant Columns\n"
   ]
  },
  {
   "cell_type": "code",
   "execution_count": 303,
   "metadata": {},
   "outputs": [],
   "source": [
    "\n",
    "df=df.drop([\"Prospect ID\",\"Lead Number\"  ],axis=1)"
   ]
  },
  {
   "cell_type": "markdown",
   "metadata": {},
   "source": [
    "#### Imbalance Analysis- Threshold 90%"
   ]
  },
  {
   "cell_type": "code",
   "execution_count": 304,
   "metadata": {},
   "outputs": [
    {
     "name": "stdout",
     "output_type": "stream",
     "text": [
      "Column 'Do Not Email' is imbalanced with 92.06% of values being 'No'.\n",
      "Column 'Do Not Call' is imbalanced with 99.98% of values being 'No'.\n",
      "Column 'Country' is imbalanced with 95.77% of values being 'India'.\n",
      "Column 'What matters most to you in choosing a course' is imbalanced with 99.95% of values being 'Better Career Prospects'.\n",
      "Column 'Search' is imbalanced with 99.85% of values being 'No'.\n",
      "Column 'Magazine' is imbalanced with 100.00% of values being 'No'.\n",
      "Column 'Newspaper Article' is imbalanced with 99.98% of values being 'No'.\n",
      "Column 'X Education Forums' is imbalanced with 99.99% of values being 'No'.\n",
      "Column 'Newspaper' is imbalanced with 99.99% of values being 'No'.\n",
      "Column 'Digital Advertisement' is imbalanced with 99.96% of values being 'No'.\n",
      "Column 'Through Recommendations' is imbalanced with 99.92% of values being 'No'.\n",
      "Column 'Receive More Updates About Our Courses' is imbalanced with 100.00% of values being 'No'.\n",
      "Column 'Update me on Supply Chain Content' is imbalanced with 100.00% of values being 'No'.\n",
      "Column 'Get updates on DM Content' is imbalanced with 100.00% of values being 'No'.\n",
      "Column 'I agree to pay the amount through cheque' is imbalanced with 100.00% of values being 'No'.\n"
     ]
    }
   ],
   "source": [
    "\n",
    "def check_imbalance(df, threshold=0.9):\n",
    "    imbalance_report = {}\n",
    "    \n",
    "    for column in df.columns:\n",
    "        value_counts = df[column].value_counts(normalize=True)\n",
    "        most_frequent_value_proportion = value_counts.iloc[0]\n",
    "        \n",
    "        if most_frequent_value_proportion > threshold:\n",
    "            imbalance_report[column] = {\n",
    "                'Most Frequent Value': value_counts.index[0],\n",
    "                'Proportion': most_frequent_value_proportion\n",
    "            }\n",
    "    \n",
    "    return imbalance_report\n",
    "\n",
    "# Example usage\n",
    "imbalance_report = check_imbalance(df)\n",
    "if imbalance_report:\n",
    "    for column, info in imbalance_report.items():\n",
    "        print(f\"Column '{column}' is imbalanced with {info['Proportion'] * 100:.2f}% of values being '{info['Most Frequent Value']}'.\")\n",
    "else:\n",
    "    print(\"No imbalanced columns found.\")\n"
   ]
  },
  {
   "cell_type": "code",
   "execution_count": 305,
   "metadata": {},
   "outputs": [],
   "source": [
    "# Dropping imbalanced columns\n",
    "columns_to_drop = list(imbalance_report.keys())\n",
    "df = df.drop(columns=columns_to_drop)"
   ]
  },
  {
   "cell_type": "markdown",
   "metadata": {},
   "source": [
    "#### Handling 'Select' in Categorical Variables\n"
   ]
  },
  {
   "cell_type": "code",
   "execution_count": 306,
   "metadata": {},
   "outputs": [
    {
     "name": "stdout",
     "output_type": "stream",
     "text": [
      "                               Column  Percentage Containing Select\n",
      "0                      Specialization                     21.017316\n",
      "1  How did you hear about X Education                     54.577922\n",
      "2                        Lead Profile                     44.870130\n",
      "3                                City                     24.339827\n"
     ]
    }
   ],
   "source": [
    "\n",
    "# Calculate percentage of rows containing 'Select' in each column\n",
    "select_columns_percentage = {column: df[column].astype(str).apply(lambda x: 'Select' in x).mean() * 100 for column in df.columns if any(df[column].astype(str).apply(lambda x: 'Select' in x))}\n",
    "\n",
    "# Convert to DataFrame for better visualization\n",
    "select_percentage_df = pd.DataFrame(list(select_columns_percentage.items()), columns=['Column', 'Percentage Containing Select'])\n",
    "\n",
    "# Display the DataFrame\n",
    "print(select_percentage_df)\n"
   ]
  },
  {
   "cell_type": "code",
   "execution_count": 307,
   "metadata": {},
   "outputs": [],
   "source": [
    "# convert Select into null\n",
    "df.replace(\"Select\", None, inplace=True)\n",
    "\n",
    "\n"
   ]
  },
  {
   "cell_type": "markdown",
   "metadata": {},
   "source": [
    "#### Find Missing Values and Handling them\n"
   ]
  },
  {
   "cell_type": "code",
   "execution_count": 308,
   "metadata": {},
   "outputs": [
    {
     "data": {
      "text/plain": [
       "How did you hear about X Education        78.463203\n",
       "Lead Profile                              74.188312\n",
       "Lead Quality                              51.590909\n",
       "Asymmetrique Activity Index               45.649351\n",
       "Asymmetrique Activity Score               45.649351\n",
       "Asymmetrique Profile Index                45.649351\n",
       "Asymmetrique Profile Score                45.649351\n",
       "City                                      39.707792\n",
       "Specialization                            36.580087\n",
       "Tags                                      36.287879\n",
       "What is your current occupation           29.112554\n",
       "TotalVisits                                1.482684\n",
       "Page Views Per Visit                       1.482684\n",
       "Last Activity                              1.114719\n",
       "Lead Source                                0.389610\n",
       "Lead Origin                                0.000000\n",
       "Converted                                  0.000000\n",
       "Total Time Spent on Website                0.000000\n",
       "A free copy of Mastering The Interview     0.000000\n",
       "Last Notable Activity                      0.000000\n",
       "dtype: float64"
      ]
     },
     "execution_count": 308,
     "metadata": {},
     "output_type": "execute_result"
    }
   ],
   "source": [
    "missing_percentages = (df.isnull().sum() / len(df)) * 100\n",
    "missing_percentages.sort_values(ascending=False, inplace=True)\n",
    "missing_percentages"
   ]
  },
  {
   "cell_type": "code",
   "execution_count": 309,
   "metadata": {},
   "outputs": [],
   "source": [
    "# Drop columns with more than 25% missing values\n",
    "missing_percentages_threshold = [col for col in df.columns if missing_percentages[col] > 25]\n"
   ]
  },
  {
   "cell_type": "code",
   "execution_count": 310,
   "metadata": {},
   "outputs": [],
   "source": [
    "df.drop(missing_percentages_threshold,axis=1,inplace=True)"
   ]
  },
  {
   "cell_type": "code",
   "execution_count": 311,
   "metadata": {},
   "outputs": [
    {
     "data": {
      "text/plain": [
       "(9240, 9)"
      ]
     },
     "execution_count": 311,
     "metadata": {},
     "output_type": "execute_result"
    }
   ],
   "source": [
    "df.shape"
   ]
  },
  {
   "cell_type": "code",
   "execution_count": 312,
   "metadata": {},
   "outputs": [
    {
     "data": {
      "text/html": [
       "<div>\n",
       "<style scoped>\n",
       "    .dataframe tbody tr th:only-of-type {\n",
       "        vertical-align: middle;\n",
       "    }\n",
       "\n",
       "    .dataframe tbody tr th {\n",
       "        vertical-align: top;\n",
       "    }\n",
       "\n",
       "    .dataframe thead th {\n",
       "        text-align: right;\n",
       "    }\n",
       "</style>\n",
       "<table border=\"1\" class=\"dataframe\">\n",
       "  <thead>\n",
       "    <tr style=\"text-align: right;\">\n",
       "      <th></th>\n",
       "      <th>Lead Origin</th>\n",
       "      <th>Lead Source</th>\n",
       "      <th>Converted</th>\n",
       "      <th>TotalVisits</th>\n",
       "      <th>Total Time Spent on Website</th>\n",
       "      <th>Page Views Per Visit</th>\n",
       "      <th>Last Activity</th>\n",
       "      <th>A free copy of Mastering The Interview</th>\n",
       "      <th>Last Notable Activity</th>\n",
       "    </tr>\n",
       "  </thead>\n",
       "  <tbody>\n",
       "    <tr>\n",
       "      <th>0</th>\n",
       "      <td>API</td>\n",
       "      <td>Olark Chat</td>\n",
       "      <td>0</td>\n",
       "      <td>0.0</td>\n",
       "      <td>0</td>\n",
       "      <td>0.0</td>\n",
       "      <td>Page Visited on Website</td>\n",
       "      <td>No</td>\n",
       "      <td>Modified</td>\n",
       "    </tr>\n",
       "    <tr>\n",
       "      <th>1</th>\n",
       "      <td>API</td>\n",
       "      <td>Organic Search</td>\n",
       "      <td>0</td>\n",
       "      <td>5.0</td>\n",
       "      <td>674</td>\n",
       "      <td>2.5</td>\n",
       "      <td>Email Opened</td>\n",
       "      <td>No</td>\n",
       "      <td>Email Opened</td>\n",
       "    </tr>\n",
       "    <tr>\n",
       "      <th>2</th>\n",
       "      <td>Landing Page Submission</td>\n",
       "      <td>Direct Traffic</td>\n",
       "      <td>1</td>\n",
       "      <td>2.0</td>\n",
       "      <td>1532</td>\n",
       "      <td>2.0</td>\n",
       "      <td>Email Opened</td>\n",
       "      <td>Yes</td>\n",
       "      <td>Email Opened</td>\n",
       "    </tr>\n",
       "    <tr>\n",
       "      <th>3</th>\n",
       "      <td>Landing Page Submission</td>\n",
       "      <td>Direct Traffic</td>\n",
       "      <td>0</td>\n",
       "      <td>1.0</td>\n",
       "      <td>305</td>\n",
       "      <td>1.0</td>\n",
       "      <td>Unreachable</td>\n",
       "      <td>No</td>\n",
       "      <td>Modified</td>\n",
       "    </tr>\n",
       "    <tr>\n",
       "      <th>4</th>\n",
       "      <td>Landing Page Submission</td>\n",
       "      <td>Google</td>\n",
       "      <td>1</td>\n",
       "      <td>2.0</td>\n",
       "      <td>1428</td>\n",
       "      <td>1.0</td>\n",
       "      <td>Converted to Lead</td>\n",
       "      <td>No</td>\n",
       "      <td>Modified</td>\n",
       "    </tr>\n",
       "  </tbody>\n",
       "</table>\n",
       "</div>"
      ],
      "text/plain": [
       "               Lead Origin     Lead Source  Converted  TotalVisits  \\\n",
       "0                      API      Olark Chat          0          0.0   \n",
       "1                      API  Organic Search          0          5.0   \n",
       "2  Landing Page Submission  Direct Traffic          1          2.0   \n",
       "3  Landing Page Submission  Direct Traffic          0          1.0   \n",
       "4  Landing Page Submission          Google          1          2.0   \n",
       "\n",
       "   Total Time Spent on Website  Page Views Per Visit            Last Activity  \\\n",
       "0                            0                   0.0  Page Visited on Website   \n",
       "1                          674                   2.5             Email Opened   \n",
       "2                         1532                   2.0             Email Opened   \n",
       "3                          305                   1.0              Unreachable   \n",
       "4                         1428                   1.0        Converted to Lead   \n",
       "\n",
       "  A free copy of Mastering The Interview Last Notable Activity  \n",
       "0                                     No              Modified  \n",
       "1                                     No          Email Opened  \n",
       "2                                    Yes          Email Opened  \n",
       "3                                     No              Modified  \n",
       "4                                     No              Modified  "
      ]
     },
     "execution_count": 312,
     "metadata": {},
     "output_type": "execute_result"
    }
   ],
   "source": [
    "df.head()"
   ]
  },
  {
   "cell_type": "code",
   "execution_count": 313,
   "metadata": {},
   "outputs": [
    {
     "data": {
      "text/plain": [
       "TotalVisits                               1.482684\n",
       "Page Views Per Visit                      1.482684\n",
       "Last Activity                             1.114719\n",
       "Lead Source                               0.389610\n",
       "Lead Origin                               0.000000\n",
       "Total Time Spent on Website               0.000000\n",
       "Converted                                 0.000000\n",
       "A free copy of Mastering The Interview    0.000000\n",
       "Last Notable Activity                     0.000000\n",
       "dtype: float64"
      ]
     },
     "execution_count": 313,
     "metadata": {},
     "output_type": "execute_result"
    }
   ],
   "source": [
    "missing_percentages = (df.isnull().sum() / len(df) * 100).sort_values(ascending=False)\n",
    "missing_percentages"
   ]
  },
  {
   "cell_type": "code",
   "execution_count": 314,
   "metadata": {},
   "outputs": [
    {
     "data": {
      "text/html": [
       "<div>\n",
       "<style scoped>\n",
       "    .dataframe tbody tr th:only-of-type {\n",
       "        vertical-align: middle;\n",
       "    }\n",
       "\n",
       "    .dataframe tbody tr th {\n",
       "        vertical-align: top;\n",
       "    }\n",
       "\n",
       "    .dataframe thead th {\n",
       "        text-align: right;\n",
       "    }\n",
       "</style>\n",
       "<table border=\"1\" class=\"dataframe\">\n",
       "  <thead>\n",
       "    <tr style=\"text-align: right;\">\n",
       "      <th></th>\n",
       "      <th>TotalVisits</th>\n",
       "      <th>Page Views Per Visit</th>\n",
       "      <th>Last Activity</th>\n",
       "      <th>Lead Source</th>\n",
       "    </tr>\n",
       "  </thead>\n",
       "  <tbody>\n",
       "    <tr>\n",
       "      <th>0</th>\n",
       "      <td>0.0</td>\n",
       "      <td>0.0</td>\n",
       "      <td>Page Visited on Website</td>\n",
       "      <td>Olark Chat</td>\n",
       "    </tr>\n",
       "    <tr>\n",
       "      <th>1</th>\n",
       "      <td>5.0</td>\n",
       "      <td>2.5</td>\n",
       "      <td>Email Opened</td>\n",
       "      <td>Organic Search</td>\n",
       "    </tr>\n",
       "    <tr>\n",
       "      <th>2</th>\n",
       "      <td>2.0</td>\n",
       "      <td>2.0</td>\n",
       "      <td>Email Opened</td>\n",
       "      <td>Direct Traffic</td>\n",
       "    </tr>\n",
       "    <tr>\n",
       "      <th>3</th>\n",
       "      <td>1.0</td>\n",
       "      <td>1.0</td>\n",
       "      <td>Unreachable</td>\n",
       "      <td>Direct Traffic</td>\n",
       "    </tr>\n",
       "    <tr>\n",
       "      <th>4</th>\n",
       "      <td>2.0</td>\n",
       "      <td>1.0</td>\n",
       "      <td>Converted to Lead</td>\n",
       "      <td>Google</td>\n",
       "    </tr>\n",
       "  </tbody>\n",
       "</table>\n",
       "</div>"
      ],
      "text/plain": [
       "   TotalVisits  Page Views Per Visit            Last Activity     Lead Source\n",
       "0          0.0                   0.0  Page Visited on Website      Olark Chat\n",
       "1          5.0                   2.5             Email Opened  Organic Search\n",
       "2          2.0                   2.0             Email Opened  Direct Traffic\n",
       "3          1.0                   1.0              Unreachable  Direct Traffic\n",
       "4          2.0                   1.0        Converted to Lead          Google"
      ]
     },
     "execution_count": 314,
     "metadata": {},
     "output_type": "execute_result"
    }
   ],
   "source": [
    "df[[\"TotalVisits\",\"Page Views Per Visit\",\"Last Activity\",\"Lead Source\"]].head()"
   ]
  },
  {
   "cell_type": "code",
   "execution_count": 315,
   "metadata": {},
   "outputs": [
    {
     "data": {
      "text/html": [
       "<div>\n",
       "<style scoped>\n",
       "    .dataframe tbody tr th:only-of-type {\n",
       "        vertical-align: middle;\n",
       "    }\n",
       "\n",
       "    .dataframe tbody tr th {\n",
       "        vertical-align: top;\n",
       "    }\n",
       "\n",
       "    .dataframe thead th {\n",
       "        text-align: right;\n",
       "    }\n",
       "</style>\n",
       "<table border=\"1\" class=\"dataframe\">\n",
       "  <thead>\n",
       "    <tr style=\"text-align: right;\">\n",
       "      <th></th>\n",
       "      <th>TotalVisits</th>\n",
       "      <th>Page Views Per Visit</th>\n",
       "      <th>Last Activity</th>\n",
       "      <th>Lead Source</th>\n",
       "    </tr>\n",
       "  </thead>\n",
       "  <tbody>\n",
       "    <tr>\n",
       "      <th>count</th>\n",
       "      <td>9103.000000</td>\n",
       "      <td>9103.000000</td>\n",
       "      <td>9137</td>\n",
       "      <td>9204</td>\n",
       "    </tr>\n",
       "    <tr>\n",
       "      <th>unique</th>\n",
       "      <td>NaN</td>\n",
       "      <td>NaN</td>\n",
       "      <td>17</td>\n",
       "      <td>21</td>\n",
       "    </tr>\n",
       "    <tr>\n",
       "      <th>top</th>\n",
       "      <td>NaN</td>\n",
       "      <td>NaN</td>\n",
       "      <td>Email Opened</td>\n",
       "      <td>Google</td>\n",
       "    </tr>\n",
       "    <tr>\n",
       "      <th>freq</th>\n",
       "      <td>NaN</td>\n",
       "      <td>NaN</td>\n",
       "      <td>3437</td>\n",
       "      <td>2868</td>\n",
       "    </tr>\n",
       "    <tr>\n",
       "      <th>mean</th>\n",
       "      <td>3.445238</td>\n",
       "      <td>2.362820</td>\n",
       "      <td>NaN</td>\n",
       "      <td>NaN</td>\n",
       "    </tr>\n",
       "    <tr>\n",
       "      <th>std</th>\n",
       "      <td>4.854853</td>\n",
       "      <td>2.161418</td>\n",
       "      <td>NaN</td>\n",
       "      <td>NaN</td>\n",
       "    </tr>\n",
       "    <tr>\n",
       "      <th>min</th>\n",
       "      <td>0.000000</td>\n",
       "      <td>0.000000</td>\n",
       "      <td>NaN</td>\n",
       "      <td>NaN</td>\n",
       "    </tr>\n",
       "    <tr>\n",
       "      <th>25%</th>\n",
       "      <td>1.000000</td>\n",
       "      <td>1.000000</td>\n",
       "      <td>NaN</td>\n",
       "      <td>NaN</td>\n",
       "    </tr>\n",
       "    <tr>\n",
       "      <th>50%</th>\n",
       "      <td>3.000000</td>\n",
       "      <td>2.000000</td>\n",
       "      <td>NaN</td>\n",
       "      <td>NaN</td>\n",
       "    </tr>\n",
       "    <tr>\n",
       "      <th>75%</th>\n",
       "      <td>5.000000</td>\n",
       "      <td>3.000000</td>\n",
       "      <td>NaN</td>\n",
       "      <td>NaN</td>\n",
       "    </tr>\n",
       "    <tr>\n",
       "      <th>max</th>\n",
       "      <td>251.000000</td>\n",
       "      <td>55.000000</td>\n",
       "      <td>NaN</td>\n",
       "      <td>NaN</td>\n",
       "    </tr>\n",
       "  </tbody>\n",
       "</table>\n",
       "</div>"
      ],
      "text/plain": [
       "        TotalVisits  Page Views Per Visit Last Activity Lead Source\n",
       "count   9103.000000           9103.000000          9137        9204\n",
       "unique          NaN                   NaN            17          21\n",
       "top             NaN                   NaN  Email Opened      Google\n",
       "freq            NaN                   NaN          3437        2868\n",
       "mean       3.445238              2.362820           NaN         NaN\n",
       "std        4.854853              2.161418           NaN         NaN\n",
       "min        0.000000              0.000000           NaN         NaN\n",
       "25%        1.000000              1.000000           NaN         NaN\n",
       "50%        3.000000              2.000000           NaN         NaN\n",
       "75%        5.000000              3.000000           NaN         NaN\n",
       "max      251.000000             55.000000           NaN         NaN"
      ]
     },
     "execution_count": 315,
     "metadata": {},
     "output_type": "execute_result"
    }
   ],
   "source": [
    "df[[\"TotalVisits\",\"Page Views Per Visit\",\"Last Activity\",\"Lead Source\"]].describe(include=\"all\")             "
   ]
  },
  {
   "cell_type": "markdown",
   "metadata": {},
   "source": [
    "#### Imputing Missing Values"
   ]
  },
  {
   "cell_type": "code",
   "execution_count": 316,
   "metadata": {},
   "outputs": [],
   "source": [
    "# Impute TotalVisit and Page Views Per Visit with mean but since these values needs to be s whole number so we will be using the round() function.\n",
    "df['TotalVisits'] = df['TotalVisits'].fillna(round(df['TotalVisits'].mean()))\n",
    "df['Page Views Per Visit'] = df['Page Views Per Visit'].fillna(round(df['Page Views Per Visit'].mean()))\n",
    "\n",
    "\n"
   ]
  },
  {
   "cell_type": "code",
   "execution_count": 317,
   "metadata": {},
   "outputs": [],
   "source": [
    "# Impute missing values for categorical columns using mode\n",
    "df['Last Activity']=df['Last Activity'].fillna(df['Last Activity'].mode()[0])\n",
    "df['Lead Source']=df['Lead Source'].fillna(df['Lead Source'].mode()[0])"
   ]
  },
  {
   "cell_type": "code",
   "execution_count": 318,
   "metadata": {},
   "outputs": [
    {
     "data": {
      "text/plain": [
       "Lead Origin                               0.0\n",
       "Lead Source                               0.0\n",
       "Converted                                 0.0\n",
       "TotalVisits                               0.0\n",
       "Total Time Spent on Website               0.0\n",
       "Page Views Per Visit                      0.0\n",
       "Last Activity                             0.0\n",
       "A free copy of Mastering The Interview    0.0\n",
       "Last Notable Activity                     0.0\n",
       "dtype: float64"
      ]
     },
     "execution_count": 318,
     "metadata": {},
     "output_type": "execute_result"
    }
   ],
   "source": [
    "missing_percentages = (df.isnull().sum() / len(df) * 100).sort_values(ascending=False)\n",
    "missing_percentages"
   ]
  },
  {
   "cell_type": "markdown",
   "metadata": {},
   "source": [
    "### Step 2: Data Preparation"
   ]
  },
  {
   "cell_type": "markdown",
   "metadata": {},
   "source": [
    "#### Converting binary variables (Yes/No) to 1/0\n"
   ]
  },
  {
   "cell_type": "code",
   "execution_count": 319,
   "metadata": {},
   "outputs": [],
   "source": [
    "\n",
    "def convert_binary_columns_to_numeric(df):\n",
    "    \"\"\"\n",
    "    Convert binary columns (Yes/No) to 1/0 in a pandas DataFrame.\n",
    "\n",
    "    Parameters:\n",
    "    - df: pandas DataFrame containing the data\n",
    "\n",
    "    Returns:\n",
    "    - None (modifies df in place)\n",
    "    \"\"\"\n",
    "    for column in df.columns:\n",
    "        if df[column].isin(['Yes', 'No']).all():\n",
    "            df[column] = df[column].map({'Yes': 1, 'No': 0})"
   ]
  },
  {
   "cell_type": "code",
   "execution_count": 320,
   "metadata": {},
   "outputs": [
    {
     "data": {
      "text/html": [
       "<div>\n",
       "<style scoped>\n",
       "    .dataframe tbody tr th:only-of-type {\n",
       "        vertical-align: middle;\n",
       "    }\n",
       "\n",
       "    .dataframe tbody tr th {\n",
       "        vertical-align: top;\n",
       "    }\n",
       "\n",
       "    .dataframe thead th {\n",
       "        text-align: right;\n",
       "    }\n",
       "</style>\n",
       "<table border=\"1\" class=\"dataframe\">\n",
       "  <thead>\n",
       "    <tr style=\"text-align: right;\">\n",
       "      <th></th>\n",
       "      <th>Lead Origin</th>\n",
       "      <th>Lead Source</th>\n",
       "      <th>Converted</th>\n",
       "      <th>TotalVisits</th>\n",
       "      <th>Total Time Spent on Website</th>\n",
       "      <th>Page Views Per Visit</th>\n",
       "      <th>Last Activity</th>\n",
       "      <th>A free copy of Mastering The Interview</th>\n",
       "      <th>Last Notable Activity</th>\n",
       "    </tr>\n",
       "  </thead>\n",
       "  <tbody>\n",
       "    <tr>\n",
       "      <th>0</th>\n",
       "      <td>API</td>\n",
       "      <td>Olark Chat</td>\n",
       "      <td>0</td>\n",
       "      <td>0.0</td>\n",
       "      <td>0</td>\n",
       "      <td>0.0</td>\n",
       "      <td>Page Visited on Website</td>\n",
       "      <td>0</td>\n",
       "      <td>Modified</td>\n",
       "    </tr>\n",
       "    <tr>\n",
       "      <th>1</th>\n",
       "      <td>API</td>\n",
       "      <td>Organic Search</td>\n",
       "      <td>0</td>\n",
       "      <td>5.0</td>\n",
       "      <td>674</td>\n",
       "      <td>2.5</td>\n",
       "      <td>Email Opened</td>\n",
       "      <td>0</td>\n",
       "      <td>Email Opened</td>\n",
       "    </tr>\n",
       "    <tr>\n",
       "      <th>2</th>\n",
       "      <td>Landing Page Submission</td>\n",
       "      <td>Direct Traffic</td>\n",
       "      <td>1</td>\n",
       "      <td>2.0</td>\n",
       "      <td>1532</td>\n",
       "      <td>2.0</td>\n",
       "      <td>Email Opened</td>\n",
       "      <td>1</td>\n",
       "      <td>Email Opened</td>\n",
       "    </tr>\n",
       "    <tr>\n",
       "      <th>3</th>\n",
       "      <td>Landing Page Submission</td>\n",
       "      <td>Direct Traffic</td>\n",
       "      <td>0</td>\n",
       "      <td>1.0</td>\n",
       "      <td>305</td>\n",
       "      <td>1.0</td>\n",
       "      <td>Unreachable</td>\n",
       "      <td>0</td>\n",
       "      <td>Modified</td>\n",
       "    </tr>\n",
       "    <tr>\n",
       "      <th>4</th>\n",
       "      <td>Landing Page Submission</td>\n",
       "      <td>Google</td>\n",
       "      <td>1</td>\n",
       "      <td>2.0</td>\n",
       "      <td>1428</td>\n",
       "      <td>1.0</td>\n",
       "      <td>Converted to Lead</td>\n",
       "      <td>0</td>\n",
       "      <td>Modified</td>\n",
       "    </tr>\n",
       "  </tbody>\n",
       "</table>\n",
       "</div>"
      ],
      "text/plain": [
       "               Lead Origin     Lead Source  Converted  TotalVisits  \\\n",
       "0                      API      Olark Chat          0          0.0   \n",
       "1                      API  Organic Search          0          5.0   \n",
       "2  Landing Page Submission  Direct Traffic          1          2.0   \n",
       "3  Landing Page Submission  Direct Traffic          0          1.0   \n",
       "4  Landing Page Submission          Google          1          2.0   \n",
       "\n",
       "   Total Time Spent on Website  Page Views Per Visit            Last Activity  \\\n",
       "0                            0                   0.0  Page Visited on Website   \n",
       "1                          674                   2.5             Email Opened   \n",
       "2                         1532                   2.0             Email Opened   \n",
       "3                          305                   1.0              Unreachable   \n",
       "4                         1428                   1.0        Converted to Lead   \n",
       "\n",
       "   A free copy of Mastering The Interview Last Notable Activity  \n",
       "0                                       0              Modified  \n",
       "1                                       0          Email Opened  \n",
       "2                                       1          Email Opened  \n",
       "3                                       0              Modified  \n",
       "4                                       0              Modified  "
      ]
     },
     "execution_count": 320,
     "metadata": {},
     "output_type": "execute_result"
    }
   ],
   "source": [
    "convert_binary_columns_to_numeric(df)\n",
    "df.head() # Print first few rows to verify"
   ]
  },
  {
   "cell_type": "code",
   "execution_count": 321,
   "metadata": {},
   "outputs": [
    {
     "name": "stdout",
     "output_type": "stream",
     "text": [
      "<class 'pandas.core.frame.DataFrame'>\n",
      "RangeIndex: 9240 entries, 0 to 9239\n",
      "Data columns (total 9 columns):\n",
      " #   Column                                  Non-Null Count  Dtype  \n",
      "---  ------                                  --------------  -----  \n",
      " 0   Lead Origin                             9240 non-null   object \n",
      " 1   Lead Source                             9240 non-null   object \n",
      " 2   Converted                               9240 non-null   int64  \n",
      " 3   TotalVisits                             9240 non-null   float64\n",
      " 4   Total Time Spent on Website             9240 non-null   int64  \n",
      " 5   Page Views Per Visit                    9240 non-null   float64\n",
      " 6   Last Activity                           9240 non-null   object \n",
      " 7   A free copy of Mastering The Interview  9240 non-null   int64  \n",
      " 8   Last Notable Activity                   9240 non-null   object \n",
      "dtypes: float64(2), int64(3), object(4)\n",
      "memory usage: 649.8+ KB\n"
     ]
    }
   ],
   "source": [
    "df.info()"
   ]
  },
  {
   "cell_type": "markdown",
   "metadata": {},
   "source": [
    "#### For categorical variables with multiple levels, create dummy features (one-hot encoded)\n"
   ]
  },
  {
   "cell_type": "code",
   "execution_count": 322,
   "metadata": {},
   "outputs": [],
   "source": [
    "# Find Categorical Columns with more than two unique values\n",
    "\n",
    "categorical_columns = df.select_dtypes(include=['object']).columns\n",
    "\n",
    "# Strip leading and trailing spaces from categorical columns (if any)\n",
    "df[categorical_columns] = df[categorical_columns].apply(lambda x: x.str.strip())\n",
    "\n"
   ]
  },
  {
   "cell_type": "code",
   "execution_count": 323,
   "metadata": {},
   "outputs": [
    {
     "data": {
      "text/html": [
       "<div>\n",
       "<style scoped>\n",
       "    .dataframe tbody tr th:only-of-type {\n",
       "        vertical-align: middle;\n",
       "    }\n",
       "\n",
       "    .dataframe tbody tr th {\n",
       "        vertical-align: top;\n",
       "    }\n",
       "\n",
       "    .dataframe thead th {\n",
       "        text-align: right;\n",
       "    }\n",
       "</style>\n",
       "<table border=\"1\" class=\"dataframe\">\n",
       "  <thead>\n",
       "    <tr style=\"text-align: right;\">\n",
       "      <th></th>\n",
       "      <th>Lead Origin</th>\n",
       "      <th>Lead Source</th>\n",
       "      <th>Last Activity</th>\n",
       "      <th>Last Notable Activity</th>\n",
       "    </tr>\n",
       "  </thead>\n",
       "  <tbody>\n",
       "    <tr>\n",
       "      <th>0</th>\n",
       "      <td>API</td>\n",
       "      <td>Olark Chat</td>\n",
       "      <td>Page Visited on Website</td>\n",
       "      <td>Modified</td>\n",
       "    </tr>\n",
       "    <tr>\n",
       "      <th>1</th>\n",
       "      <td>API</td>\n",
       "      <td>Organic Search</td>\n",
       "      <td>Email Opened</td>\n",
       "      <td>Email Opened</td>\n",
       "    </tr>\n",
       "    <tr>\n",
       "      <th>2</th>\n",
       "      <td>Landing Page Submission</td>\n",
       "      <td>Direct Traffic</td>\n",
       "      <td>Email Opened</td>\n",
       "      <td>Email Opened</td>\n",
       "    </tr>\n",
       "    <tr>\n",
       "      <th>3</th>\n",
       "      <td>Landing Page Submission</td>\n",
       "      <td>Direct Traffic</td>\n",
       "      <td>Unreachable</td>\n",
       "      <td>Modified</td>\n",
       "    </tr>\n",
       "    <tr>\n",
       "      <th>4</th>\n",
       "      <td>Landing Page Submission</td>\n",
       "      <td>Google</td>\n",
       "      <td>Converted to Lead</td>\n",
       "      <td>Modified</td>\n",
       "    </tr>\n",
       "    <tr>\n",
       "      <th>...</th>\n",
       "      <td>...</td>\n",
       "      <td>...</td>\n",
       "      <td>...</td>\n",
       "      <td>...</td>\n",
       "    </tr>\n",
       "    <tr>\n",
       "      <th>9235</th>\n",
       "      <td>Landing Page Submission</td>\n",
       "      <td>Direct Traffic</td>\n",
       "      <td>Email Marked Spam</td>\n",
       "      <td>Email Marked Spam</td>\n",
       "    </tr>\n",
       "    <tr>\n",
       "      <th>9236</th>\n",
       "      <td>Landing Page Submission</td>\n",
       "      <td>Direct Traffic</td>\n",
       "      <td>SMS Sent</td>\n",
       "      <td>SMS Sent</td>\n",
       "    </tr>\n",
       "    <tr>\n",
       "      <th>9237</th>\n",
       "      <td>Landing Page Submission</td>\n",
       "      <td>Direct Traffic</td>\n",
       "      <td>SMS Sent</td>\n",
       "      <td>SMS Sent</td>\n",
       "    </tr>\n",
       "    <tr>\n",
       "      <th>9238</th>\n",
       "      <td>Landing Page Submission</td>\n",
       "      <td>Google</td>\n",
       "      <td>SMS Sent</td>\n",
       "      <td>SMS Sent</td>\n",
       "    </tr>\n",
       "    <tr>\n",
       "      <th>9239</th>\n",
       "      <td>Landing Page Submission</td>\n",
       "      <td>Direct Traffic</td>\n",
       "      <td>SMS Sent</td>\n",
       "      <td>Modified</td>\n",
       "    </tr>\n",
       "  </tbody>\n",
       "</table>\n",
       "<p>9240 rows × 4 columns</p>\n",
       "</div>"
      ],
      "text/plain": [
       "                  Lead Origin     Lead Source            Last Activity  \\\n",
       "0                         API      Olark Chat  Page Visited on Website   \n",
       "1                         API  Organic Search             Email Opened   \n",
       "2     Landing Page Submission  Direct Traffic             Email Opened   \n",
       "3     Landing Page Submission  Direct Traffic              Unreachable   \n",
       "4     Landing Page Submission          Google        Converted to Lead   \n",
       "...                       ...             ...                      ...   \n",
       "9235  Landing Page Submission  Direct Traffic        Email Marked Spam   \n",
       "9236  Landing Page Submission  Direct Traffic                 SMS Sent   \n",
       "9237  Landing Page Submission  Direct Traffic                 SMS Sent   \n",
       "9238  Landing Page Submission          Google                 SMS Sent   \n",
       "9239  Landing Page Submission  Direct Traffic                 SMS Sent   \n",
       "\n",
       "     Last Notable Activity  \n",
       "0                 Modified  \n",
       "1             Email Opened  \n",
       "2             Email Opened  \n",
       "3                 Modified  \n",
       "4                 Modified  \n",
       "...                    ...  \n",
       "9235     Email Marked Spam  \n",
       "9236              SMS Sent  \n",
       "9237              SMS Sent  \n",
       "9238              SMS Sent  \n",
       "9239              Modified  \n",
       "\n",
       "[9240 rows x 4 columns]"
      ]
     },
     "execution_count": 323,
     "metadata": {},
     "output_type": "execute_result"
    }
   ],
   "source": [
    "df[categorical_columns]"
   ]
  },
  {
   "cell_type": "code",
   "execution_count": 324,
   "metadata": {},
   "outputs": [
    {
     "name": "stdout",
     "output_type": "stream",
     "text": [
      "Unique values in 'Lead Origin': ['API' 'Landing Page Submission' 'Lead Add Form' 'Lead Import'\n",
      " 'Quick Add Form']\n",
      "Unique values in 'Lead Source': ['Olark Chat' 'Organic Search' 'Direct Traffic' 'Google' 'Referral Sites'\n",
      " 'Welingak Website' 'Reference' 'google' 'Facebook' 'blog'\n",
      " 'Pay per Click Ads' 'bing' 'Social Media' 'WeLearn' 'Click2call'\n",
      " 'Live Chat' 'welearnblog_Home' 'youtubechannel' 'testone' 'Press_Release'\n",
      " 'NC_EDM']\n",
      "Unique values in 'Last Activity': ['Page Visited on Website' 'Email Opened' 'Unreachable'\n",
      " 'Converted to Lead' 'Olark Chat Conversation' 'Email Bounced'\n",
      " 'Email Link Clicked' 'Form Submitted on Website' 'Unsubscribed'\n",
      " 'Had a Phone Conversation' 'View in browser link Clicked'\n",
      " 'Approached upfront' 'SMS Sent' 'Visited Booth in Tradeshow'\n",
      " 'Resubscribed to emails' 'Email Received' 'Email Marked Spam']\n",
      "Unique values in 'Last Notable Activity': ['Modified' 'Email Opened' 'Page Visited on Website' 'Email Bounced'\n",
      " 'Email Link Clicked' 'Unreachable' 'Unsubscribed'\n",
      " 'Had a Phone Conversation' 'Olark Chat Conversation' 'SMS Sent'\n",
      " 'Approached upfront' 'Resubscribed to emails'\n",
      " 'View in browser link Clicked' 'Form Submitted on Website'\n",
      " 'Email Received' 'Email Marked Spam']\n"
     ]
    }
   ],
   "source": [
    "for column in categorical_columns:\n",
    "    unique_values = df[column].unique()\n",
    "    print(f\"Unique values in '{column}': {unique_values}\")"
   ]
  },
  {
   "cell_type": "markdown",
   "metadata": {},
   "source": [
    "#### Short Abbrevations of the values "
   ]
  },
  {
   "cell_type": "code",
   "execution_count": 325,
   "metadata": {},
   "outputs": [],
   "source": [
    "# Dictionary mapping for abbreviations\n",
    "abbreviations = {\n",
    "    'Lead Origin': {'API': 'API', 'Landing Page Submission': 'LPS', 'Lead Add Form': 'LAF', 'Lead Import': 'LI', 'Quick Add Form': 'QAF'},\n",
    "    'Lead Source': {'Olark Chat': 'Olark', 'Organic Search': 'Organic', 'Direct Traffic': 'Direct', 'Google': 'Google', 'Referral Sites': 'Referral'},\n",
    "    'Last Activity': {'Page Visited on Website': 'Visit', 'Email Opened': 'Open', 'Unreachable': 'Unreach', 'Converted to Lead': 'Convert', 'Olark Chat Conversation': 'Olark Chat'},\n",
    "    'Last Notable Activity': {'Modified': 'Modified', 'Email Opened': 'Open', 'Page Visited on Website': 'Visit', 'Email Bounced': 'Bounce', 'Unreachable': 'Unreach'}\n",
    "}"
   ]
  },
  {
   "cell_type": "code",
   "execution_count": 326,
   "metadata": {},
   "outputs": [],
   "source": [
    "# Replace values in each categorical column with abbreviations\n",
    "for column in df.columns:\n",
    "    if column in abbreviations:\n",
    "        df[column] = df[column].map(abbreviations[column])"
   ]
  },
  {
   "cell_type": "code",
   "execution_count": 327,
   "metadata": {},
   "outputs": [
    {
     "data": {
      "text/html": [
       "<div>\n",
       "<style scoped>\n",
       "    .dataframe tbody tr th:only-of-type {\n",
       "        vertical-align: middle;\n",
       "    }\n",
       "\n",
       "    .dataframe tbody tr th {\n",
       "        vertical-align: top;\n",
       "    }\n",
       "\n",
       "    .dataframe thead th {\n",
       "        text-align: right;\n",
       "    }\n",
       "</style>\n",
       "<table border=\"1\" class=\"dataframe\">\n",
       "  <thead>\n",
       "    <tr style=\"text-align: right;\">\n",
       "      <th></th>\n",
       "      <th>Lead Origin</th>\n",
       "      <th>Lead Source</th>\n",
       "      <th>Converted</th>\n",
       "      <th>TotalVisits</th>\n",
       "      <th>Total Time Spent on Website</th>\n",
       "      <th>Page Views Per Visit</th>\n",
       "      <th>Last Activity</th>\n",
       "      <th>A free copy of Mastering The Interview</th>\n",
       "      <th>Last Notable Activity</th>\n",
       "    </tr>\n",
       "  </thead>\n",
       "  <tbody>\n",
       "    <tr>\n",
       "      <th>0</th>\n",
       "      <td>API</td>\n",
       "      <td>Olark</td>\n",
       "      <td>0</td>\n",
       "      <td>0.0</td>\n",
       "      <td>0</td>\n",
       "      <td>0.0</td>\n",
       "      <td>Visit</td>\n",
       "      <td>0</td>\n",
       "      <td>Modified</td>\n",
       "    </tr>\n",
       "    <tr>\n",
       "      <th>1</th>\n",
       "      <td>API</td>\n",
       "      <td>Organic</td>\n",
       "      <td>0</td>\n",
       "      <td>5.0</td>\n",
       "      <td>674</td>\n",
       "      <td>2.5</td>\n",
       "      <td>Open</td>\n",
       "      <td>0</td>\n",
       "      <td>Open</td>\n",
       "    </tr>\n",
       "    <tr>\n",
       "      <th>2</th>\n",
       "      <td>LPS</td>\n",
       "      <td>Direct</td>\n",
       "      <td>1</td>\n",
       "      <td>2.0</td>\n",
       "      <td>1532</td>\n",
       "      <td>2.0</td>\n",
       "      <td>Open</td>\n",
       "      <td>1</td>\n",
       "      <td>Open</td>\n",
       "    </tr>\n",
       "    <tr>\n",
       "      <th>3</th>\n",
       "      <td>LPS</td>\n",
       "      <td>Direct</td>\n",
       "      <td>0</td>\n",
       "      <td>1.0</td>\n",
       "      <td>305</td>\n",
       "      <td>1.0</td>\n",
       "      <td>Unreach</td>\n",
       "      <td>0</td>\n",
       "      <td>Modified</td>\n",
       "    </tr>\n",
       "    <tr>\n",
       "      <th>4</th>\n",
       "      <td>LPS</td>\n",
       "      <td>Google</td>\n",
       "      <td>1</td>\n",
       "      <td>2.0</td>\n",
       "      <td>1428</td>\n",
       "      <td>1.0</td>\n",
       "      <td>Convert</td>\n",
       "      <td>0</td>\n",
       "      <td>Modified</td>\n",
       "    </tr>\n",
       "  </tbody>\n",
       "</table>\n",
       "</div>"
      ],
      "text/plain": [
       "  Lead Origin Lead Source  Converted  TotalVisits  \\\n",
       "0         API       Olark          0          0.0   \n",
       "1         API     Organic          0          5.0   \n",
       "2         LPS      Direct          1          2.0   \n",
       "3         LPS      Direct          0          1.0   \n",
       "4         LPS      Google          1          2.0   \n",
       "\n",
       "   Total Time Spent on Website  Page Views Per Visit Last Activity  \\\n",
       "0                            0                   0.0         Visit   \n",
       "1                          674                   2.5          Open   \n",
       "2                         1532                   2.0          Open   \n",
       "3                          305                   1.0       Unreach   \n",
       "4                         1428                   1.0       Convert   \n",
       "\n",
       "   A free copy of Mastering The Interview Last Notable Activity  \n",
       "0                                       0              Modified  \n",
       "1                                       0                  Open  \n",
       "2                                       1                  Open  \n",
       "3                                       0              Modified  \n",
       "4                                       0              Modified  "
      ]
     },
     "execution_count": 327,
     "metadata": {},
     "output_type": "execute_result"
    }
   ],
   "source": [
    "df.head()"
   ]
  },
  {
   "cell_type": "code",
   "execution_count": 328,
   "metadata": {},
   "outputs": [],
   "source": [
    "\n",
    "# Creating a dummy variable for some of the categorical variables and dropping the first one.\n",
    "dummy1 = pd.get_dummies(df[categorical_columns],prefix_sep=\"_\", dtype=\"int\", drop_first=True)\n",
    "\n"
   ]
  },
  {
   "cell_type": "code",
   "execution_count": 329,
   "metadata": {},
   "outputs": [],
   "source": [
    "df = pd.concat([df, dummy1], axis=1)"
   ]
  },
  {
   "cell_type": "code",
   "execution_count": 330,
   "metadata": {},
   "outputs": [
    {
     "data": {
      "text/html": [
       "<div>\n",
       "<style scoped>\n",
       "    .dataframe tbody tr th:only-of-type {\n",
       "        vertical-align: middle;\n",
       "    }\n",
       "\n",
       "    .dataframe tbody tr th {\n",
       "        vertical-align: top;\n",
       "    }\n",
       "\n",
       "    .dataframe thead th {\n",
       "        text-align: right;\n",
       "    }\n",
       "</style>\n",
       "<table border=\"1\" class=\"dataframe\">\n",
       "  <thead>\n",
       "    <tr style=\"text-align: right;\">\n",
       "      <th></th>\n",
       "      <th>Lead Origin</th>\n",
       "      <th>Lead Source</th>\n",
       "      <th>Converted</th>\n",
       "      <th>TotalVisits</th>\n",
       "      <th>Total Time Spent on Website</th>\n",
       "      <th>Page Views Per Visit</th>\n",
       "      <th>Last Activity</th>\n",
       "      <th>A free copy of Mastering The Interview</th>\n",
       "      <th>Last Notable Activity</th>\n",
       "      <th>Lead Origin_LAF</th>\n",
       "      <th>...</th>\n",
       "      <th>Lead Source_Organic</th>\n",
       "      <th>Lead Source_Referral</th>\n",
       "      <th>Last Activity_Olark Chat</th>\n",
       "      <th>Last Activity_Open</th>\n",
       "      <th>Last Activity_Unreach</th>\n",
       "      <th>Last Activity_Visit</th>\n",
       "      <th>Last Notable Activity_Modified</th>\n",
       "      <th>Last Notable Activity_Open</th>\n",
       "      <th>Last Notable Activity_Unreach</th>\n",
       "      <th>Last Notable Activity_Visit</th>\n",
       "    </tr>\n",
       "  </thead>\n",
       "  <tbody>\n",
       "    <tr>\n",
       "      <th>0</th>\n",
       "      <td>API</td>\n",
       "      <td>Olark</td>\n",
       "      <td>0</td>\n",
       "      <td>0.0</td>\n",
       "      <td>0</td>\n",
       "      <td>0.0</td>\n",
       "      <td>Visit</td>\n",
       "      <td>0</td>\n",
       "      <td>Modified</td>\n",
       "      <td>0</td>\n",
       "      <td>...</td>\n",
       "      <td>0</td>\n",
       "      <td>0</td>\n",
       "      <td>0</td>\n",
       "      <td>0</td>\n",
       "      <td>0</td>\n",
       "      <td>1</td>\n",
       "      <td>1</td>\n",
       "      <td>0</td>\n",
       "      <td>0</td>\n",
       "      <td>0</td>\n",
       "    </tr>\n",
       "    <tr>\n",
       "      <th>1</th>\n",
       "      <td>API</td>\n",
       "      <td>Organic</td>\n",
       "      <td>0</td>\n",
       "      <td>5.0</td>\n",
       "      <td>674</td>\n",
       "      <td>2.5</td>\n",
       "      <td>Open</td>\n",
       "      <td>0</td>\n",
       "      <td>Open</td>\n",
       "      <td>0</td>\n",
       "      <td>...</td>\n",
       "      <td>1</td>\n",
       "      <td>0</td>\n",
       "      <td>0</td>\n",
       "      <td>1</td>\n",
       "      <td>0</td>\n",
       "      <td>0</td>\n",
       "      <td>0</td>\n",
       "      <td>1</td>\n",
       "      <td>0</td>\n",
       "      <td>0</td>\n",
       "    </tr>\n",
       "    <tr>\n",
       "      <th>2</th>\n",
       "      <td>LPS</td>\n",
       "      <td>Direct</td>\n",
       "      <td>1</td>\n",
       "      <td>2.0</td>\n",
       "      <td>1532</td>\n",
       "      <td>2.0</td>\n",
       "      <td>Open</td>\n",
       "      <td>1</td>\n",
       "      <td>Open</td>\n",
       "      <td>0</td>\n",
       "      <td>...</td>\n",
       "      <td>0</td>\n",
       "      <td>0</td>\n",
       "      <td>0</td>\n",
       "      <td>1</td>\n",
       "      <td>0</td>\n",
       "      <td>0</td>\n",
       "      <td>0</td>\n",
       "      <td>1</td>\n",
       "      <td>0</td>\n",
       "      <td>0</td>\n",
       "    </tr>\n",
       "    <tr>\n",
       "      <th>3</th>\n",
       "      <td>LPS</td>\n",
       "      <td>Direct</td>\n",
       "      <td>0</td>\n",
       "      <td>1.0</td>\n",
       "      <td>305</td>\n",
       "      <td>1.0</td>\n",
       "      <td>Unreach</td>\n",
       "      <td>0</td>\n",
       "      <td>Modified</td>\n",
       "      <td>0</td>\n",
       "      <td>...</td>\n",
       "      <td>0</td>\n",
       "      <td>0</td>\n",
       "      <td>0</td>\n",
       "      <td>0</td>\n",
       "      <td>1</td>\n",
       "      <td>0</td>\n",
       "      <td>1</td>\n",
       "      <td>0</td>\n",
       "      <td>0</td>\n",
       "      <td>0</td>\n",
       "    </tr>\n",
       "    <tr>\n",
       "      <th>4</th>\n",
       "      <td>LPS</td>\n",
       "      <td>Google</td>\n",
       "      <td>1</td>\n",
       "      <td>2.0</td>\n",
       "      <td>1428</td>\n",
       "      <td>1.0</td>\n",
       "      <td>Convert</td>\n",
       "      <td>0</td>\n",
       "      <td>Modified</td>\n",
       "      <td>0</td>\n",
       "      <td>...</td>\n",
       "      <td>0</td>\n",
       "      <td>0</td>\n",
       "      <td>0</td>\n",
       "      <td>0</td>\n",
       "      <td>0</td>\n",
       "      <td>0</td>\n",
       "      <td>1</td>\n",
       "      <td>0</td>\n",
       "      <td>0</td>\n",
       "      <td>0</td>\n",
       "    </tr>\n",
       "  </tbody>\n",
       "</table>\n",
       "<p>5 rows × 25 columns</p>\n",
       "</div>"
      ],
      "text/plain": [
       "  Lead Origin Lead Source  Converted  TotalVisits  \\\n",
       "0         API       Olark          0          0.0   \n",
       "1         API     Organic          0          5.0   \n",
       "2         LPS      Direct          1          2.0   \n",
       "3         LPS      Direct          0          1.0   \n",
       "4         LPS      Google          1          2.0   \n",
       "\n",
       "   Total Time Spent on Website  Page Views Per Visit Last Activity  \\\n",
       "0                            0                   0.0         Visit   \n",
       "1                          674                   2.5          Open   \n",
       "2                         1532                   2.0          Open   \n",
       "3                          305                   1.0       Unreach   \n",
       "4                         1428                   1.0       Convert   \n",
       "\n",
       "   A free copy of Mastering The Interview Last Notable Activity  \\\n",
       "0                                       0              Modified   \n",
       "1                                       0                  Open   \n",
       "2                                       1                  Open   \n",
       "3                                       0              Modified   \n",
       "4                                       0              Modified   \n",
       "\n",
       "   Lead Origin_LAF  ...  Lead Source_Organic  Lead Source_Referral  \\\n",
       "0                0  ...                    0                     0   \n",
       "1                0  ...                    1                     0   \n",
       "2                0  ...                    0                     0   \n",
       "3                0  ...                    0                     0   \n",
       "4                0  ...                    0                     0   \n",
       "\n",
       "   Last Activity_Olark Chat  Last Activity_Open  Last Activity_Unreach  \\\n",
       "0                         0                   0                      0   \n",
       "1                         0                   1                      0   \n",
       "2                         0                   1                      0   \n",
       "3                         0                   0                      1   \n",
       "4                         0                   0                      0   \n",
       "\n",
       "   Last Activity_Visit  Last Notable Activity_Modified  \\\n",
       "0                    1                               1   \n",
       "1                    0                               0   \n",
       "2                    0                               0   \n",
       "3                    0                               1   \n",
       "4                    0                               1   \n",
       "\n",
       "   Last Notable Activity_Open  Last Notable Activity_Unreach  \\\n",
       "0                           0                              0   \n",
       "1                           1                              0   \n",
       "2                           1                              0   \n",
       "3                           0                              0   \n",
       "4                           0                              0   \n",
       "\n",
       "   Last Notable Activity_Visit  \n",
       "0                            0  \n",
       "1                            0  \n",
       "2                            0  \n",
       "3                            0  \n",
       "4                            0  \n",
       "\n",
       "[5 rows x 25 columns]"
      ]
     },
     "execution_count": 330,
     "metadata": {},
     "output_type": "execute_result"
    }
   ],
   "source": [
    "df.head()"
   ]
  },
  {
   "cell_type": "markdown",
   "metadata": {},
   "source": [
    "#### Drop the categorical columns"
   ]
  },
  {
   "cell_type": "code",
   "execution_count": 331,
   "metadata": {},
   "outputs": [],
   "source": [
    "df=df.drop(categorical_columns,axis=1)"
   ]
  },
  {
   "cell_type": "code",
   "execution_count": 332,
   "metadata": {},
   "outputs": [
    {
     "data": {
      "text/html": [
       "<div>\n",
       "<style scoped>\n",
       "    .dataframe tbody tr th:only-of-type {\n",
       "        vertical-align: middle;\n",
       "    }\n",
       "\n",
       "    .dataframe tbody tr th {\n",
       "        vertical-align: top;\n",
       "    }\n",
       "\n",
       "    .dataframe thead th {\n",
       "        text-align: right;\n",
       "    }\n",
       "</style>\n",
       "<table border=\"1\" class=\"dataframe\">\n",
       "  <thead>\n",
       "    <tr style=\"text-align: right;\">\n",
       "      <th></th>\n",
       "      <th>Converted</th>\n",
       "      <th>TotalVisits</th>\n",
       "      <th>Total Time Spent on Website</th>\n",
       "      <th>Page Views Per Visit</th>\n",
       "      <th>A free copy of Mastering The Interview</th>\n",
       "      <th>Lead Origin_LAF</th>\n",
       "      <th>Lead Origin_LI</th>\n",
       "      <th>Lead Origin_LPS</th>\n",
       "      <th>Lead Origin_QAF</th>\n",
       "      <th>Lead Source_Google</th>\n",
       "      <th>...</th>\n",
       "      <th>Lead Source_Organic</th>\n",
       "      <th>Lead Source_Referral</th>\n",
       "      <th>Last Activity_Olark Chat</th>\n",
       "      <th>Last Activity_Open</th>\n",
       "      <th>Last Activity_Unreach</th>\n",
       "      <th>Last Activity_Visit</th>\n",
       "      <th>Last Notable Activity_Modified</th>\n",
       "      <th>Last Notable Activity_Open</th>\n",
       "      <th>Last Notable Activity_Unreach</th>\n",
       "      <th>Last Notable Activity_Visit</th>\n",
       "    </tr>\n",
       "  </thead>\n",
       "  <tbody>\n",
       "    <tr>\n",
       "      <th>0</th>\n",
       "      <td>0</td>\n",
       "      <td>0.0</td>\n",
       "      <td>0</td>\n",
       "      <td>0.0</td>\n",
       "      <td>0</td>\n",
       "      <td>0</td>\n",
       "      <td>0</td>\n",
       "      <td>0</td>\n",
       "      <td>0</td>\n",
       "      <td>0</td>\n",
       "      <td>...</td>\n",
       "      <td>0</td>\n",
       "      <td>0</td>\n",
       "      <td>0</td>\n",
       "      <td>0</td>\n",
       "      <td>0</td>\n",
       "      <td>1</td>\n",
       "      <td>1</td>\n",
       "      <td>0</td>\n",
       "      <td>0</td>\n",
       "      <td>0</td>\n",
       "    </tr>\n",
       "    <tr>\n",
       "      <th>1</th>\n",
       "      <td>0</td>\n",
       "      <td>5.0</td>\n",
       "      <td>674</td>\n",
       "      <td>2.5</td>\n",
       "      <td>0</td>\n",
       "      <td>0</td>\n",
       "      <td>0</td>\n",
       "      <td>0</td>\n",
       "      <td>0</td>\n",
       "      <td>0</td>\n",
       "      <td>...</td>\n",
       "      <td>1</td>\n",
       "      <td>0</td>\n",
       "      <td>0</td>\n",
       "      <td>1</td>\n",
       "      <td>0</td>\n",
       "      <td>0</td>\n",
       "      <td>0</td>\n",
       "      <td>1</td>\n",
       "      <td>0</td>\n",
       "      <td>0</td>\n",
       "    </tr>\n",
       "    <tr>\n",
       "      <th>2</th>\n",
       "      <td>1</td>\n",
       "      <td>2.0</td>\n",
       "      <td>1532</td>\n",
       "      <td>2.0</td>\n",
       "      <td>1</td>\n",
       "      <td>0</td>\n",
       "      <td>0</td>\n",
       "      <td>1</td>\n",
       "      <td>0</td>\n",
       "      <td>0</td>\n",
       "      <td>...</td>\n",
       "      <td>0</td>\n",
       "      <td>0</td>\n",
       "      <td>0</td>\n",
       "      <td>1</td>\n",
       "      <td>0</td>\n",
       "      <td>0</td>\n",
       "      <td>0</td>\n",
       "      <td>1</td>\n",
       "      <td>0</td>\n",
       "      <td>0</td>\n",
       "    </tr>\n",
       "    <tr>\n",
       "      <th>3</th>\n",
       "      <td>0</td>\n",
       "      <td>1.0</td>\n",
       "      <td>305</td>\n",
       "      <td>1.0</td>\n",
       "      <td>0</td>\n",
       "      <td>0</td>\n",
       "      <td>0</td>\n",
       "      <td>1</td>\n",
       "      <td>0</td>\n",
       "      <td>0</td>\n",
       "      <td>...</td>\n",
       "      <td>0</td>\n",
       "      <td>0</td>\n",
       "      <td>0</td>\n",
       "      <td>0</td>\n",
       "      <td>1</td>\n",
       "      <td>0</td>\n",
       "      <td>1</td>\n",
       "      <td>0</td>\n",
       "      <td>0</td>\n",
       "      <td>0</td>\n",
       "    </tr>\n",
       "    <tr>\n",
       "      <th>4</th>\n",
       "      <td>1</td>\n",
       "      <td>2.0</td>\n",
       "      <td>1428</td>\n",
       "      <td>1.0</td>\n",
       "      <td>0</td>\n",
       "      <td>0</td>\n",
       "      <td>0</td>\n",
       "      <td>1</td>\n",
       "      <td>0</td>\n",
       "      <td>1</td>\n",
       "      <td>...</td>\n",
       "      <td>0</td>\n",
       "      <td>0</td>\n",
       "      <td>0</td>\n",
       "      <td>0</td>\n",
       "      <td>0</td>\n",
       "      <td>0</td>\n",
       "      <td>1</td>\n",
       "      <td>0</td>\n",
       "      <td>0</td>\n",
       "      <td>0</td>\n",
       "    </tr>\n",
       "  </tbody>\n",
       "</table>\n",
       "<p>5 rows × 21 columns</p>\n",
       "</div>"
      ],
      "text/plain": [
       "   Converted  TotalVisits  Total Time Spent on Website  Page Views Per Visit  \\\n",
       "0          0          0.0                            0                   0.0   \n",
       "1          0          5.0                          674                   2.5   \n",
       "2          1          2.0                         1532                   2.0   \n",
       "3          0          1.0                          305                   1.0   \n",
       "4          1          2.0                         1428                   1.0   \n",
       "\n",
       "   A free copy of Mastering The Interview  Lead Origin_LAF  Lead Origin_LI  \\\n",
       "0                                       0                0               0   \n",
       "1                                       0                0               0   \n",
       "2                                       1                0               0   \n",
       "3                                       0                0               0   \n",
       "4                                       0                0               0   \n",
       "\n",
       "   Lead Origin_LPS  Lead Origin_QAF  Lead Source_Google  ...  \\\n",
       "0                0                0                   0  ...   \n",
       "1                0                0                   0  ...   \n",
       "2                1                0                   0  ...   \n",
       "3                1                0                   0  ...   \n",
       "4                1                0                   1  ...   \n",
       "\n",
       "   Lead Source_Organic  Lead Source_Referral  Last Activity_Olark Chat  \\\n",
       "0                    0                     0                         0   \n",
       "1                    1                     0                         0   \n",
       "2                    0                     0                         0   \n",
       "3                    0                     0                         0   \n",
       "4                    0                     0                         0   \n",
       "\n",
       "   Last Activity_Open  Last Activity_Unreach  Last Activity_Visit  \\\n",
       "0                   0                      0                    1   \n",
       "1                   1                      0                    0   \n",
       "2                   1                      0                    0   \n",
       "3                   0                      1                    0   \n",
       "4                   0                      0                    0   \n",
       "\n",
       "   Last Notable Activity_Modified  Last Notable Activity_Open  \\\n",
       "0                               1                           0   \n",
       "1                               0                           1   \n",
       "2                               0                           1   \n",
       "3                               1                           0   \n",
       "4                               1                           0   \n",
       "\n",
       "   Last Notable Activity_Unreach  Last Notable Activity_Visit  \n",
       "0                              0                            0  \n",
       "1                              0                            0  \n",
       "2                              0                            0  \n",
       "3                              0                            0  \n",
       "4                              0                            0  \n",
       "\n",
       "[5 rows x 21 columns]"
      ]
     },
     "execution_count": 332,
     "metadata": {},
     "output_type": "execute_result"
    }
   ],
   "source": [
    "df.head()"
   ]
  },
  {
   "cell_type": "code",
   "execution_count": 333,
   "metadata": {},
   "outputs": [
    {
     "data": {
      "text/plain": [
       "(9240, 21)"
      ]
     },
     "execution_count": 333,
     "metadata": {},
     "output_type": "execute_result"
    }
   ],
   "source": [
    "df.shape"
   ]
  },
  {
   "cell_type": "code",
   "execution_count": 334,
   "metadata": {},
   "outputs": [
    {
     "name": "stdout",
     "output_type": "stream",
     "text": [
      "<class 'pandas.core.frame.DataFrame'>\n",
      "RangeIndex: 9240 entries, 0 to 9239\n",
      "Data columns (total 21 columns):\n",
      " #   Column                                  Non-Null Count  Dtype  \n",
      "---  ------                                  --------------  -----  \n",
      " 0   Converted                               9240 non-null   int64  \n",
      " 1   TotalVisits                             9240 non-null   float64\n",
      " 2   Total Time Spent on Website             9240 non-null   int64  \n",
      " 3   Page Views Per Visit                    9240 non-null   float64\n",
      " 4   A free copy of Mastering The Interview  9240 non-null   int64  \n",
      " 5   Lead Origin_LAF                         9240 non-null   int64  \n",
      " 6   Lead Origin_LI                          9240 non-null   int64  \n",
      " 7   Lead Origin_LPS                         9240 non-null   int64  \n",
      " 8   Lead Origin_QAF                         9240 non-null   int64  \n",
      " 9   Lead Source_Google                      9240 non-null   int64  \n",
      " 10  Lead Source_Olark                       9240 non-null   int64  \n",
      " 11  Lead Source_Organic                     9240 non-null   int64  \n",
      " 12  Lead Source_Referral                    9240 non-null   int64  \n",
      " 13  Last Activity_Olark Chat                9240 non-null   int64  \n",
      " 14  Last Activity_Open                      9240 non-null   int64  \n",
      " 15  Last Activity_Unreach                   9240 non-null   int64  \n",
      " 16  Last Activity_Visit                     9240 non-null   int64  \n",
      " 17  Last Notable Activity_Modified          9240 non-null   int64  \n",
      " 18  Last Notable Activity_Open              9240 non-null   int64  \n",
      " 19  Last Notable Activity_Unreach           9240 non-null   int64  \n",
      " 20  Last Notable Activity_Visit             9240 non-null   int64  \n",
      "dtypes: float64(2), int64(19)\n",
      "memory usage: 1.5 MB\n"
     ]
    }
   ],
   "source": [
    "df.info(verbose=True)"
   ]
  },
  {
   "cell_type": "markdown",
   "metadata": {},
   "source": [
    "#### Checking for Outliers"
   ]
  },
  {
   "cell_type": "code",
   "execution_count": 335,
   "metadata": {},
   "outputs": [
    {
     "data": {
      "text/html": [
       "<div>\n",
       "<style scoped>\n",
       "    .dataframe tbody tr th:only-of-type {\n",
       "        vertical-align: middle;\n",
       "    }\n",
       "\n",
       "    .dataframe tbody tr th {\n",
       "        vertical-align: top;\n",
       "    }\n",
       "\n",
       "    .dataframe thead th {\n",
       "        text-align: right;\n",
       "    }\n",
       "</style>\n",
       "<table border=\"1\" class=\"dataframe\">\n",
       "  <thead>\n",
       "    <tr style=\"text-align: right;\">\n",
       "      <th></th>\n",
       "      <th>Converted</th>\n",
       "      <th>TotalVisits</th>\n",
       "      <th>Total Time Spent on Website</th>\n",
       "      <th>Page Views Per Visit</th>\n",
       "      <th>A free copy of Mastering The Interview</th>\n",
       "      <th>Lead Origin_LAF</th>\n",
       "      <th>Lead Origin_LI</th>\n",
       "      <th>Lead Origin_LPS</th>\n",
       "      <th>Lead Origin_QAF</th>\n",
       "      <th>Lead Source_Google</th>\n",
       "      <th>...</th>\n",
       "      <th>Lead Source_Organic</th>\n",
       "      <th>Lead Source_Referral</th>\n",
       "      <th>Last Activity_Olark Chat</th>\n",
       "      <th>Last Activity_Open</th>\n",
       "      <th>Last Activity_Unreach</th>\n",
       "      <th>Last Activity_Visit</th>\n",
       "      <th>Last Notable Activity_Modified</th>\n",
       "      <th>Last Notable Activity_Open</th>\n",
       "      <th>Last Notable Activity_Unreach</th>\n",
       "      <th>Last Notable Activity_Visit</th>\n",
       "    </tr>\n",
       "  </thead>\n",
       "  <tbody>\n",
       "    <tr>\n",
       "      <th>count</th>\n",
       "      <td>9240.000000</td>\n",
       "      <td>9240.000000</td>\n",
       "      <td>9240.000000</td>\n",
       "      <td>9240.000000</td>\n",
       "      <td>9240.000000</td>\n",
       "      <td>9240.000000</td>\n",
       "      <td>9240.000000</td>\n",
       "      <td>9240.000000</td>\n",
       "      <td>9240.000000</td>\n",
       "      <td>9240.000000</td>\n",
       "      <td>...</td>\n",
       "      <td>9240.000000</td>\n",
       "      <td>9240.000000</td>\n",
       "      <td>9240.000000</td>\n",
       "      <td>9240.000000</td>\n",
       "      <td>9240.000000</td>\n",
       "      <td>9240.000000</td>\n",
       "      <td>9240.000000</td>\n",
       "      <td>9240.000000</td>\n",
       "      <td>9240.000000</td>\n",
       "      <td>9240.000000</td>\n",
       "    </tr>\n",
       "    <tr>\n",
       "      <th>mean</th>\n",
       "      <td>0.385390</td>\n",
       "      <td>3.438636</td>\n",
       "      <td>487.698268</td>\n",
       "      <td>2.357440</td>\n",
       "      <td>0.312554</td>\n",
       "      <td>0.077706</td>\n",
       "      <td>0.005952</td>\n",
       "      <td>0.528788</td>\n",
       "      <td>0.000108</td>\n",
       "      <td>0.314286</td>\n",
       "      <td>...</td>\n",
       "      <td>0.124892</td>\n",
       "      <td>0.013528</td>\n",
       "      <td>0.105303</td>\n",
       "      <td>0.383117</td>\n",
       "      <td>0.010065</td>\n",
       "      <td>0.069264</td>\n",
       "      <td>0.368723</td>\n",
       "      <td>0.305952</td>\n",
       "      <td>0.003463</td>\n",
       "      <td>0.034416</td>\n",
       "    </tr>\n",
       "    <tr>\n",
       "      <th>std</th>\n",
       "      <td>0.486714</td>\n",
       "      <td>4.819024</td>\n",
       "      <td>548.021466</td>\n",
       "      <td>2.145781</td>\n",
       "      <td>0.463559</td>\n",
       "      <td>0.267722</td>\n",
       "      <td>0.076926</td>\n",
       "      <td>0.499198</td>\n",
       "      <td>0.010403</td>\n",
       "      <td>0.464256</td>\n",
       "      <td>...</td>\n",
       "      <td>0.330614</td>\n",
       "      <td>0.115527</td>\n",
       "      <td>0.306960</td>\n",
       "      <td>0.486173</td>\n",
       "      <td>0.099823</td>\n",
       "      <td>0.253916</td>\n",
       "      <td>0.482485</td>\n",
       "      <td>0.460835</td>\n",
       "      <td>0.058750</td>\n",
       "      <td>0.182304</td>\n",
       "    </tr>\n",
       "    <tr>\n",
       "      <th>min</th>\n",
       "      <td>0.000000</td>\n",
       "      <td>0.000000</td>\n",
       "      <td>0.000000</td>\n",
       "      <td>0.000000</td>\n",
       "      <td>0.000000</td>\n",
       "      <td>0.000000</td>\n",
       "      <td>0.000000</td>\n",
       "      <td>0.000000</td>\n",
       "      <td>0.000000</td>\n",
       "      <td>0.000000</td>\n",
       "      <td>...</td>\n",
       "      <td>0.000000</td>\n",
       "      <td>0.000000</td>\n",
       "      <td>0.000000</td>\n",
       "      <td>0.000000</td>\n",
       "      <td>0.000000</td>\n",
       "      <td>0.000000</td>\n",
       "      <td>0.000000</td>\n",
       "      <td>0.000000</td>\n",
       "      <td>0.000000</td>\n",
       "      <td>0.000000</td>\n",
       "    </tr>\n",
       "    <tr>\n",
       "      <th>25%</th>\n",
       "      <td>0.000000</td>\n",
       "      <td>1.000000</td>\n",
       "      <td>12.000000</td>\n",
       "      <td>1.000000</td>\n",
       "      <td>0.000000</td>\n",
       "      <td>0.000000</td>\n",
       "      <td>0.000000</td>\n",
       "      <td>0.000000</td>\n",
       "      <td>0.000000</td>\n",
       "      <td>0.000000</td>\n",
       "      <td>...</td>\n",
       "      <td>0.000000</td>\n",
       "      <td>0.000000</td>\n",
       "      <td>0.000000</td>\n",
       "      <td>0.000000</td>\n",
       "      <td>0.000000</td>\n",
       "      <td>0.000000</td>\n",
       "      <td>0.000000</td>\n",
       "      <td>0.000000</td>\n",
       "      <td>0.000000</td>\n",
       "      <td>0.000000</td>\n",
       "    </tr>\n",
       "    <tr>\n",
       "      <th>50%</th>\n",
       "      <td>0.000000</td>\n",
       "      <td>3.000000</td>\n",
       "      <td>248.000000</td>\n",
       "      <td>2.000000</td>\n",
       "      <td>0.000000</td>\n",
       "      <td>0.000000</td>\n",
       "      <td>0.000000</td>\n",
       "      <td>1.000000</td>\n",
       "      <td>0.000000</td>\n",
       "      <td>0.000000</td>\n",
       "      <td>...</td>\n",
       "      <td>0.000000</td>\n",
       "      <td>0.000000</td>\n",
       "      <td>0.000000</td>\n",
       "      <td>0.000000</td>\n",
       "      <td>0.000000</td>\n",
       "      <td>0.000000</td>\n",
       "      <td>0.000000</td>\n",
       "      <td>0.000000</td>\n",
       "      <td>0.000000</td>\n",
       "      <td>0.000000</td>\n",
       "    </tr>\n",
       "    <tr>\n",
       "      <th>75%</th>\n",
       "      <td>1.000000</td>\n",
       "      <td>5.000000</td>\n",
       "      <td>936.000000</td>\n",
       "      <td>3.000000</td>\n",
       "      <td>1.000000</td>\n",
       "      <td>0.000000</td>\n",
       "      <td>0.000000</td>\n",
       "      <td>1.000000</td>\n",
       "      <td>0.000000</td>\n",
       "      <td>1.000000</td>\n",
       "      <td>...</td>\n",
       "      <td>0.000000</td>\n",
       "      <td>0.000000</td>\n",
       "      <td>0.000000</td>\n",
       "      <td>1.000000</td>\n",
       "      <td>0.000000</td>\n",
       "      <td>0.000000</td>\n",
       "      <td>1.000000</td>\n",
       "      <td>1.000000</td>\n",
       "      <td>0.000000</td>\n",
       "      <td>0.000000</td>\n",
       "    </tr>\n",
       "    <tr>\n",
       "      <th>max</th>\n",
       "      <td>1.000000</td>\n",
       "      <td>251.000000</td>\n",
       "      <td>2272.000000</td>\n",
       "      <td>55.000000</td>\n",
       "      <td>1.000000</td>\n",
       "      <td>1.000000</td>\n",
       "      <td>1.000000</td>\n",
       "      <td>1.000000</td>\n",
       "      <td>1.000000</td>\n",
       "      <td>1.000000</td>\n",
       "      <td>...</td>\n",
       "      <td>1.000000</td>\n",
       "      <td>1.000000</td>\n",
       "      <td>1.000000</td>\n",
       "      <td>1.000000</td>\n",
       "      <td>1.000000</td>\n",
       "      <td>1.000000</td>\n",
       "      <td>1.000000</td>\n",
       "      <td>1.000000</td>\n",
       "      <td>1.000000</td>\n",
       "      <td>1.000000</td>\n",
       "    </tr>\n",
       "  </tbody>\n",
       "</table>\n",
       "<p>8 rows × 21 columns</p>\n",
       "</div>"
      ],
      "text/plain": [
       "         Converted  TotalVisits  Total Time Spent on Website  \\\n",
       "count  9240.000000  9240.000000                  9240.000000   \n",
       "mean      0.385390     3.438636                   487.698268   \n",
       "std       0.486714     4.819024                   548.021466   \n",
       "min       0.000000     0.000000                     0.000000   \n",
       "25%       0.000000     1.000000                    12.000000   \n",
       "50%       0.000000     3.000000                   248.000000   \n",
       "75%       1.000000     5.000000                   936.000000   \n",
       "max       1.000000   251.000000                  2272.000000   \n",
       "\n",
       "       Page Views Per Visit  A free copy of Mastering The Interview  \\\n",
       "count           9240.000000                             9240.000000   \n",
       "mean               2.357440                                0.312554   \n",
       "std                2.145781                                0.463559   \n",
       "min                0.000000                                0.000000   \n",
       "25%                1.000000                                0.000000   \n",
       "50%                2.000000                                0.000000   \n",
       "75%                3.000000                                1.000000   \n",
       "max               55.000000                                1.000000   \n",
       "\n",
       "       Lead Origin_LAF  Lead Origin_LI  Lead Origin_LPS  Lead Origin_QAF  \\\n",
       "count      9240.000000     9240.000000      9240.000000      9240.000000   \n",
       "mean          0.077706        0.005952         0.528788         0.000108   \n",
       "std           0.267722        0.076926         0.499198         0.010403   \n",
       "min           0.000000        0.000000         0.000000         0.000000   \n",
       "25%           0.000000        0.000000         0.000000         0.000000   \n",
       "50%           0.000000        0.000000         1.000000         0.000000   \n",
       "75%           0.000000        0.000000         1.000000         0.000000   \n",
       "max           1.000000        1.000000         1.000000         1.000000   \n",
       "\n",
       "       Lead Source_Google  ...  Lead Source_Organic  Lead Source_Referral  \\\n",
       "count         9240.000000  ...          9240.000000           9240.000000   \n",
       "mean             0.314286  ...             0.124892              0.013528   \n",
       "std              0.464256  ...             0.330614              0.115527   \n",
       "min              0.000000  ...             0.000000              0.000000   \n",
       "25%              0.000000  ...             0.000000              0.000000   \n",
       "50%              0.000000  ...             0.000000              0.000000   \n",
       "75%              1.000000  ...             0.000000              0.000000   \n",
       "max              1.000000  ...             1.000000              1.000000   \n",
       "\n",
       "       Last Activity_Olark Chat  Last Activity_Open  Last Activity_Unreach  \\\n",
       "count               9240.000000         9240.000000            9240.000000   \n",
       "mean                   0.105303            0.383117               0.010065   \n",
       "std                    0.306960            0.486173               0.099823   \n",
       "min                    0.000000            0.000000               0.000000   \n",
       "25%                    0.000000            0.000000               0.000000   \n",
       "50%                    0.000000            0.000000               0.000000   \n",
       "75%                    0.000000            1.000000               0.000000   \n",
       "max                    1.000000            1.000000               1.000000   \n",
       "\n",
       "       Last Activity_Visit  Last Notable Activity_Modified  \\\n",
       "count          9240.000000                     9240.000000   \n",
       "mean              0.069264                        0.368723   \n",
       "std               0.253916                        0.482485   \n",
       "min               0.000000                        0.000000   \n",
       "25%               0.000000                        0.000000   \n",
       "50%               0.000000                        0.000000   \n",
       "75%               0.000000                        1.000000   \n",
       "max               1.000000                        1.000000   \n",
       "\n",
       "       Last Notable Activity_Open  Last Notable Activity_Unreach  \\\n",
       "count                 9240.000000                    9240.000000   \n",
       "mean                     0.305952                       0.003463   \n",
       "std                      0.460835                       0.058750   \n",
       "min                      0.000000                       0.000000   \n",
       "25%                      0.000000                       0.000000   \n",
       "50%                      0.000000                       0.000000   \n",
       "75%                      1.000000                       0.000000   \n",
       "max                      1.000000                       1.000000   \n",
       "\n",
       "       Last Notable Activity_Visit  \n",
       "count                  9240.000000  \n",
       "mean                      0.034416  \n",
       "std                       0.182304  \n",
       "min                       0.000000  \n",
       "25%                       0.000000  \n",
       "50%                       0.000000  \n",
       "75%                       0.000000  \n",
       "max                       1.000000  \n",
       "\n",
       "[8 rows x 21 columns]"
      ]
     },
     "execution_count": 335,
     "metadata": {},
     "output_type": "execute_result"
    }
   ],
   "source": [
    "df.describe()"
   ]
  },
  {
   "cell_type": "code",
   "execution_count": 336,
   "metadata": {},
   "outputs": [
    {
     "name": "stdout",
     "output_type": "stream",
     "text": [
      "Continuous numerical columns:\n",
      "['TotalVisits', 'Total Time Spent on Website', 'Page Views Per Visit']\n"
     ]
    }
   ],
   "source": [
    "continuous_numeric_columns = []\n",
    "\n",
    "for column in df.columns:\n",
    "    if pd.api.types.is_numeric_dtype(df[column]) and df[column].nunique() >2:\n",
    "        continuous_numeric_columns.append(column)\n",
    "\n",
    "print(\"Continuous numerical columns:\")\n",
    "print(continuous_numeric_columns)"
   ]
  },
  {
   "cell_type": "code",
   "execution_count": 337,
   "metadata": {},
   "outputs": [],
   "source": [
    "num_df=df[continuous_numeric_columns]"
   ]
  },
  {
   "cell_type": "code",
   "execution_count": 338,
   "metadata": {},
   "outputs": [
    {
     "data": {
      "text/html": [
       "<div>\n",
       "<style scoped>\n",
       "    .dataframe tbody tr th:only-of-type {\n",
       "        vertical-align: middle;\n",
       "    }\n",
       "\n",
       "    .dataframe tbody tr th {\n",
       "        vertical-align: top;\n",
       "    }\n",
       "\n",
       "    .dataframe thead th {\n",
       "        text-align: right;\n",
       "    }\n",
       "</style>\n",
       "<table border=\"1\" class=\"dataframe\">\n",
       "  <thead>\n",
       "    <tr style=\"text-align: right;\">\n",
       "      <th></th>\n",
       "      <th>TotalVisits</th>\n",
       "      <th>Total Time Spent on Website</th>\n",
       "      <th>Page Views Per Visit</th>\n",
       "    </tr>\n",
       "  </thead>\n",
       "  <tbody>\n",
       "    <tr>\n",
       "      <th>count</th>\n",
       "      <td>9240.000000</td>\n",
       "      <td>9240.000000</td>\n",
       "      <td>9240.000000</td>\n",
       "    </tr>\n",
       "    <tr>\n",
       "      <th>mean</th>\n",
       "      <td>3.438636</td>\n",
       "      <td>487.698268</td>\n",
       "      <td>2.357440</td>\n",
       "    </tr>\n",
       "    <tr>\n",
       "      <th>std</th>\n",
       "      <td>4.819024</td>\n",
       "      <td>548.021466</td>\n",
       "      <td>2.145781</td>\n",
       "    </tr>\n",
       "    <tr>\n",
       "      <th>min</th>\n",
       "      <td>0.000000</td>\n",
       "      <td>0.000000</td>\n",
       "      <td>0.000000</td>\n",
       "    </tr>\n",
       "    <tr>\n",
       "      <th>25%</th>\n",
       "      <td>1.000000</td>\n",
       "      <td>12.000000</td>\n",
       "      <td>1.000000</td>\n",
       "    </tr>\n",
       "    <tr>\n",
       "      <th>50%</th>\n",
       "      <td>3.000000</td>\n",
       "      <td>248.000000</td>\n",
       "      <td>2.000000</td>\n",
       "    </tr>\n",
       "    <tr>\n",
       "      <th>75%</th>\n",
       "      <td>5.000000</td>\n",
       "      <td>936.000000</td>\n",
       "      <td>3.000000</td>\n",
       "    </tr>\n",
       "    <tr>\n",
       "      <th>90%</th>\n",
       "      <td>7.000000</td>\n",
       "      <td>1380.000000</td>\n",
       "      <td>5.000000</td>\n",
       "    </tr>\n",
       "    <tr>\n",
       "      <th>95%</th>\n",
       "      <td>10.000000</td>\n",
       "      <td>1562.000000</td>\n",
       "      <td>6.000000</td>\n",
       "    </tr>\n",
       "    <tr>\n",
       "      <th>99%</th>\n",
       "      <td>17.000000</td>\n",
       "      <td>1840.610000</td>\n",
       "      <td>9.000000</td>\n",
       "    </tr>\n",
       "    <tr>\n",
       "      <th>max</th>\n",
       "      <td>251.000000</td>\n",
       "      <td>2272.000000</td>\n",
       "      <td>55.000000</td>\n",
       "    </tr>\n",
       "  </tbody>\n",
       "</table>\n",
       "</div>"
      ],
      "text/plain": [
       "       TotalVisits  Total Time Spent on Website  Page Views Per Visit\n",
       "count  9240.000000                  9240.000000           9240.000000\n",
       "mean      3.438636                   487.698268              2.357440\n",
       "std       4.819024                   548.021466              2.145781\n",
       "min       0.000000                     0.000000              0.000000\n",
       "25%       1.000000                    12.000000              1.000000\n",
       "50%       3.000000                   248.000000              2.000000\n",
       "75%       5.000000                   936.000000              3.000000\n",
       "90%       7.000000                  1380.000000              5.000000\n",
       "95%      10.000000                  1562.000000              6.000000\n",
       "99%      17.000000                  1840.610000              9.000000\n",
       "max     251.000000                  2272.000000             55.000000"
      ]
     },
     "execution_count": 338,
     "metadata": {},
     "output_type": "execute_result"
    }
   ],
   "source": [
    "# Checking outliers at 25%, 50%, 75%, 90%, 95% and 99%\n",
    "num_df.describe(percentiles=[.25, .5, .75, .90, .95, .99])"
   ]
  },
  {
   "cell_type": "markdown",
   "metadata": {},
   "source": [
    "#### Insights:\n",
    "\n",
    "- Leads visiting the website typically make around 3.44 visits and view approximately 2.36 pages per visit, with significant variability and occasional outliers indicating deeper engagement.\n",
    "\n",
    "- Outliers in engagement metrics (like total visits and time spent) could skew the data distribution. Applying robust methods like IQR  may help normalize the data for more reliable logistic regression modeling, reducing the potential impact of extreme values on model accuracy and interpretation.\n",
    "\n"
   ]
  },
  {
   "cell_type": "markdown",
   "metadata": {},
   "source": [
    "#### Apply IQR to replace outliers with upper and lower bound`"
   ]
  },
  {
   "cell_type": "code",
   "execution_count": 339,
   "metadata": {},
   "outputs": [],
   "source": [
    "def apply_iqr(df, columns):\n",
    "    for col in columns:\n",
    "        Q1 = df[col].quantile(0.25)\n",
    "        Q3 = df[col].quantile(0.75)\n",
    "        IQR = Q3 - Q1\n",
    "        \n",
    "        # Define upper and lower bounds\n",
    "        lower_bound = Q1 - 1.5 * IQR\n",
    "        upper_bound = Q3 + 1.5 * IQR\n",
    "        \n",
    "        # Filter outliers\n",
    "        outliers = (df[col] < lower_bound) | (df[col] > upper_bound)\n",
    "        \n",
    "        # Option 1: Remove outliers\n",
    "        # df = df[~outliers]\n",
    "        \n",
    "        # Option 2: Cap outliers at the bounds\n",
    "        df[col] = df[col].clip(lower=lower_bound, upper=upper_bound)\n",
    "    \n",
    "    return df\n",
    "\n",
    "# Applying IQR method to specified columns\n",
    "columns_to_process = ['TotalVisits', 'Page Views Per Visit']\n",
    "df= apply_iqr(df, columns_to_process)\n"
   ]
  },
  {
   "cell_type": "code",
   "execution_count": 340,
   "metadata": {},
   "outputs": [
    {
     "data": {
      "image/png": "[encoded data removed]",
      "text/plain": [
       "<Figure size 1500x500 with 3 Axes>"
      ]
     },
     "metadata": {},
     "output_type": "display_data"
    }
   ],
   "source": [
    "def plot_boxplot_subplots(df, columns):\n",
    "    fig, axes = plt.subplots(1, len(columns), figsize=(15, 5))\n",
    "\n",
    "    for i, col in enumerate(columns):\n",
    "        sns.boxplot(y=df[col], ax=axes[i])\n",
    "        axes[i].set_title(f'Boxplot of {col}')\n",
    "\n",
    "    plt.tight_layout()\n",
    "    plt.show()\n",
    "\n",
    "# Example usage:\n",
    "plot_boxplot_subplots(df, continuous_numeric_columns)"
   ]
  },
  {
   "cell_type": "code",
   "execution_count": 341,
   "metadata": {},
   "outputs": [
    {
     "data": {
      "text/html": [
       "<div>\n",
       "<style scoped>\n",
       "    .dataframe tbody tr th:only-of-type {\n",
       "        vertical-align: middle;\n",
       "    }\n",
       "\n",
       "    .dataframe tbody tr th {\n",
       "        vertical-align: top;\n",
       "    }\n",
       "\n",
       "    .dataframe thead th {\n",
       "        text-align: right;\n",
       "    }\n",
       "</style>\n",
       "<table border=\"1\" class=\"dataframe\">\n",
       "  <thead>\n",
       "    <tr style=\"text-align: right;\">\n",
       "      <th></th>\n",
       "      <th>Converted</th>\n",
       "      <th>TotalVisits</th>\n",
       "      <th>Total Time Spent on Website</th>\n",
       "      <th>Page Views Per Visit</th>\n",
       "      <th>A free copy of Mastering The Interview</th>\n",
       "      <th>Lead Origin_LAF</th>\n",
       "      <th>Lead Origin_LI</th>\n",
       "      <th>Lead Origin_LPS</th>\n",
       "      <th>Lead Origin_QAF</th>\n",
       "      <th>Lead Source_Google</th>\n",
       "      <th>...</th>\n",
       "      <th>Lead Source_Organic</th>\n",
       "      <th>Lead Source_Referral</th>\n",
       "      <th>Last Activity_Olark Chat</th>\n",
       "      <th>Last Activity_Open</th>\n",
       "      <th>Last Activity_Unreach</th>\n",
       "      <th>Last Activity_Visit</th>\n",
       "      <th>Last Notable Activity_Modified</th>\n",
       "      <th>Last Notable Activity_Open</th>\n",
       "      <th>Last Notable Activity_Unreach</th>\n",
       "      <th>Last Notable Activity_Visit</th>\n",
       "    </tr>\n",
       "  </thead>\n",
       "  <tbody>\n",
       "    <tr>\n",
       "      <th>0</th>\n",
       "      <td>0</td>\n",
       "      <td>0.0</td>\n",
       "      <td>0</td>\n",
       "      <td>0.0</td>\n",
       "      <td>0</td>\n",
       "      <td>0</td>\n",
       "      <td>0</td>\n",
       "      <td>0</td>\n",
       "      <td>0</td>\n",
       "      <td>0</td>\n",
       "      <td>...</td>\n",
       "      <td>0</td>\n",
       "      <td>0</td>\n",
       "      <td>0</td>\n",
       "      <td>0</td>\n",
       "      <td>0</td>\n",
       "      <td>1</td>\n",
       "      <td>1</td>\n",
       "      <td>0</td>\n",
       "      <td>0</td>\n",
       "      <td>0</td>\n",
       "    </tr>\n",
       "    <tr>\n",
       "      <th>1</th>\n",
       "      <td>0</td>\n",
       "      <td>5.0</td>\n",
       "      <td>674</td>\n",
       "      <td>2.5</td>\n",
       "      <td>0</td>\n",
       "      <td>0</td>\n",
       "      <td>0</td>\n",
       "      <td>0</td>\n",
       "      <td>0</td>\n",
       "      <td>0</td>\n",
       "      <td>...</td>\n",
       "      <td>1</td>\n",
       "      <td>0</td>\n",
       "      <td>0</td>\n",
       "      <td>1</td>\n",
       "      <td>0</td>\n",
       "      <td>0</td>\n",
       "      <td>0</td>\n",
       "      <td>1</td>\n",
       "      <td>0</td>\n",
       "      <td>0</td>\n",
       "    </tr>\n",
       "    <tr>\n",
       "      <th>2</th>\n",
       "      <td>1</td>\n",
       "      <td>2.0</td>\n",
       "      <td>1532</td>\n",
       "      <td>2.0</td>\n",
       "      <td>1</td>\n",
       "      <td>0</td>\n",
       "      <td>0</td>\n",
       "      <td>1</td>\n",
       "      <td>0</td>\n",
       "      <td>0</td>\n",
       "      <td>...</td>\n",
       "      <td>0</td>\n",
       "      <td>0</td>\n",
       "      <td>0</td>\n",
       "      <td>1</td>\n",
       "      <td>0</td>\n",
       "      <td>0</td>\n",
       "      <td>0</td>\n",
       "      <td>1</td>\n",
       "      <td>0</td>\n",
       "      <td>0</td>\n",
       "    </tr>\n",
       "    <tr>\n",
       "      <th>3</th>\n",
       "      <td>0</td>\n",
       "      <td>1.0</td>\n",
       "      <td>305</td>\n",
       "      <td>1.0</td>\n",
       "      <td>0</td>\n",
       "      <td>0</td>\n",
       "      <td>0</td>\n",
       "      <td>1</td>\n",
       "      <td>0</td>\n",
       "      <td>0</td>\n",
       "      <td>...</td>\n",
       "      <td>0</td>\n",
       "      <td>0</td>\n",
       "      <td>0</td>\n",
       "      <td>0</td>\n",
       "      <td>1</td>\n",
       "      <td>0</td>\n",
       "      <td>1</td>\n",
       "      <td>0</td>\n",
       "      <td>0</td>\n",
       "      <td>0</td>\n",
       "    </tr>\n",
       "    <tr>\n",
       "      <th>4</th>\n",
       "      <td>1</td>\n",
       "      <td>2.0</td>\n",
       "      <td>1428</td>\n",
       "      <td>1.0</td>\n",
       "      <td>0</td>\n",
       "      <td>0</td>\n",
       "      <td>0</td>\n",
       "      <td>1</td>\n",
       "      <td>0</td>\n",
       "      <td>1</td>\n",
       "      <td>...</td>\n",
       "      <td>0</td>\n",
       "      <td>0</td>\n",
       "      <td>0</td>\n",
       "      <td>0</td>\n",
       "      <td>0</td>\n",
       "      <td>0</td>\n",
       "      <td>1</td>\n",
       "      <td>0</td>\n",
       "      <td>0</td>\n",
       "      <td>0</td>\n",
       "    </tr>\n",
       "  </tbody>\n",
       "</table>\n",
       "<p>5 rows × 21 columns</p>\n",
       "</div>"
      ],
      "text/plain": [
       "   Converted  TotalVisits  Total Time Spent on Website  Page Views Per Visit  \\\n",
       "0          0          0.0                            0                   0.0   \n",
       "1          0          5.0                          674                   2.5   \n",
       "2          1          2.0                         1532                   2.0   \n",
       "3          0          1.0                          305                   1.0   \n",
       "4          1          2.0                         1428                   1.0   \n",
       "\n",
       "   A free copy of Mastering The Interview  Lead Origin_LAF  Lead Origin_LI  \\\n",
       "0                                       0                0               0   \n",
       "1                                       0                0               0   \n",
       "2                                       1                0               0   \n",
       "3                                       0                0               0   \n",
       "4                                       0                0               0   \n",
       "\n",
       "   Lead Origin_LPS  Lead Origin_QAF  Lead Source_Google  ...  \\\n",
       "0                0                0                   0  ...   \n",
       "1                0                0                   0  ...   \n",
       "2                1                0                   0  ...   \n",
       "3                1                0                   0  ...   \n",
       "4                1                0                   1  ...   \n",
       "\n",
       "   Lead Source_Organic  Lead Source_Referral  Last Activity_Olark Chat  \\\n",
       "0                    0                     0                         0   \n",
       "1                    1                     0                         0   \n",
       "2                    0                     0                         0   \n",
       "3                    0                     0                         0   \n",
       "4                    0                     0                         0   \n",
       "\n",
       "   Last Activity_Open  Last Activity_Unreach  Last Activity_Visit  \\\n",
       "0                   0                      0                    1   \n",
       "1                   1                      0                    0   \n",
       "2                   1                      0                    0   \n",
       "3                   0                      1                    0   \n",
       "4                   0                      0                    0   \n",
       "\n",
       "   Last Notable Activity_Modified  Last Notable Activity_Open  \\\n",
       "0                               1                           0   \n",
       "1                               0                           1   \n",
       "2                               0                           1   \n",
       "3                               1                           0   \n",
       "4                               1                           0   \n",
       "\n",
       "   Last Notable Activity_Unreach  Last Notable Activity_Visit  \n",
       "0                              0                            0  \n",
       "1                              0                            0  \n",
       "2                              0                            0  \n",
       "3                              0                            0  \n",
       "4                              0                            0  \n",
       "\n",
       "[5 rows x 21 columns]"
      ]
     },
     "execution_count": 341,
     "metadata": {},
     "output_type": "execute_result"
    }
   ],
   "source": [
    "df.head()"
   ]
  },
  {
   "cell_type": "markdown",
   "metadata": {},
   "source": [
    "### Step 3: Looking at Correlations"
   ]
  },
  {
   "cell_type": "code",
   "execution_count": 342,
   "metadata": {},
   "outputs": [
    {
     "name": "stdout",
     "output_type": "stream",
     "text": [
      "Top 5 unique correlations among features:\n",
      "                         Feature 1              Feature 2  Correlation\n",
      "392     Last Notable Activity_Open     Last Activity_Open     0.842496\n",
      "64            Page Views Per Visit            TotalVisits     0.753953\n",
      "436    Last Notable Activity_Visit    Last Activity_Visit     0.692057\n",
      "414  Last Notable Activity_Unreach  Last Activity_Unreach     0.584642\n",
      "213              Lead Source_Olark   Page Views Per Visit     0.573334\n",
      "\n",
      "Top 5 correlations with the target variable 'Converted':\n",
      "Total Time Spent on Website       0.362483\n",
      "Lead Origin_LAF                   0.321702\n",
      "Last Notable Activity_Modified    0.244294\n",
      "Last Activity_Olark Chat          0.210809\n",
      "Lead Source_Olark                 0.129459\n",
      "Name: Converted, dtype: float64\n"
     ]
    }
   ],
   "source": [
    "\n",
    "\n",
    "# Assuming df is your DataFrame containing numeric features and 'Converted' target variable\n",
    "\n",
    "# Step 1: Calculate correlation matrix among features\n",
    "corr_matrix = df.corr().abs()\n",
    "\n",
    "# Step 2: Find top 5 unique correlations among features\n",
    "# Stack the correlation matrix, exclude self-correlation (1.0), and reset index\n",
    "stacked_corr = corr_matrix.stack().reset_index()\n",
    "stacked_corr.columns = ['Feature 1', 'Feature 2', 'Correlation']\n",
    "# Exclude where Feature 1 equals Feature 2 to remove self-correlations\n",
    "top_corr_among_features = (stacked_corr[stacked_corr['Feature 1'] != stacked_corr['Feature 2']]\n",
    "                           .sort_values(by='Correlation', ascending=False)\n",
    "                           .drop_duplicates(subset=['Correlation'], keep='first')\n",
    "                           .head(5))\n",
    "\n",
    "# Step 3: Calculate correlations with the target variable 'Converted'\n",
    "correlations_with_target = corr_matrix['Converted'].drop('Converted').sort_values(ascending=False)\n",
    "\n",
    "# Step 4: Find top 5 correlations with the target variable 'Converted' (excluding self-correlation)\n",
    "top_5_corr_with_target = correlations_with_target.head(5)\n",
    "\n",
    "# Print results\n",
    "print(\"Top 5 unique correlations among features:\")\n",
    "print(top_corr_among_features)\n",
    "print(\"\\nTop 5 correlations with the target variable 'Converted':\")\n",
    "print(top_5_corr_with_target)\n"
   ]
  },
  {
   "cell_type": "code",
   "execution_count": 343,
   "metadata": {},
   "outputs": [
    {
     "data": {
      "image/png": "[encoded data removed]",
      "text/plain": [
       "<Figure size 1200x1000 with 2 Axes>"
      ]
     },
     "metadata": {},
     "output_type": "display_data"
    }
   ],
   "source": [
    "# Visualization of the correlation matrix\n",
    "plt.figure(figsize=(12, 10))\n",
    "sns.heatmap(corr_matrix, annot=True, cmap='coolwarm', fmt='.2f', linewidths=.5)\n",
    "plt.title('Correlation Matrix')\n",
    "plt.show()"
   ]
  },
  {
   "cell_type": "markdown",
   "metadata": {},
   "source": [
    "Insights:\n",
    "\n",
    "- **TotalVisits** & **Page Views Per Visit**  has high correlation of 75 % so we are going to drop **Page Views Per Visit**"
   ]
  },
  {
   "cell_type": "code",
   "execution_count": 344,
   "metadata": {},
   "outputs": [],
   "source": [
    "df=df.drop(\"Page Views Per Visit\",axis=1)"
   ]
  },
  {
   "cell_type": "code",
   "execution_count": 345,
   "metadata": {},
   "outputs": [
    {
     "data": {
      "text/plain": [
       "(9240, 20)"
      ]
     },
     "execution_count": 345,
     "metadata": {},
     "output_type": "execute_result"
    }
   ],
   "source": [
    "df.shape"
   ]
  },
  {
   "cell_type": "markdown",
   "metadata": {},
   "source": [
    "### Step 4: Test-Train Split"
   ]
  },
  {
   "cell_type": "code",
   "execution_count": 346,
   "metadata": {},
   "outputs": [],
   "source": [
    "from sklearn.model_selection import train_test_split"
   ]
  },
  {
   "cell_type": "code",
   "execution_count": 347,
   "metadata": {},
   "outputs": [
    {
     "data": {
      "text/html": [
       "<div>\n",
       "<style scoped>\n",
       "    .dataframe tbody tr th:only-of-type {\n",
       "        vertical-align: middle;\n",
       "    }\n",
       "\n",
       "    .dataframe tbody tr th {\n",
       "        vertical-align: top;\n",
       "    }\n",
       "\n",
       "    .dataframe thead th {\n",
       "        text-align: right;\n",
       "    }\n",
       "</style>\n",
       "<table border=\"1\" class=\"dataframe\">\n",
       "  <thead>\n",
       "    <tr style=\"text-align: right;\">\n",
       "      <th></th>\n",
       "      <th>TotalVisits</th>\n",
       "      <th>Total Time Spent on Website</th>\n",
       "      <th>A free copy of Mastering The Interview</th>\n",
       "      <th>Lead Origin_LAF</th>\n",
       "      <th>Lead Origin_LI</th>\n",
       "      <th>Lead Origin_LPS</th>\n",
       "      <th>Lead Origin_QAF</th>\n",
       "      <th>Lead Source_Google</th>\n",
       "      <th>Lead Source_Olark</th>\n",
       "      <th>Lead Source_Organic</th>\n",
       "      <th>Lead Source_Referral</th>\n",
       "      <th>Last Activity_Olark Chat</th>\n",
       "      <th>Last Activity_Open</th>\n",
       "      <th>Last Activity_Unreach</th>\n",
       "      <th>Last Activity_Visit</th>\n",
       "      <th>Last Notable Activity_Modified</th>\n",
       "      <th>Last Notable Activity_Open</th>\n",
       "      <th>Last Notable Activity_Unreach</th>\n",
       "      <th>Last Notable Activity_Visit</th>\n",
       "    </tr>\n",
       "  </thead>\n",
       "  <tbody>\n",
       "    <tr>\n",
       "      <th>0</th>\n",
       "      <td>0.0</td>\n",
       "      <td>0</td>\n",
       "      <td>0</td>\n",
       "      <td>0</td>\n",
       "      <td>0</td>\n",
       "      <td>0</td>\n",
       "      <td>0</td>\n",
       "      <td>0</td>\n",
       "      <td>1</td>\n",
       "      <td>0</td>\n",
       "      <td>0</td>\n",
       "      <td>0</td>\n",
       "      <td>0</td>\n",
       "      <td>0</td>\n",
       "      <td>1</td>\n",
       "      <td>1</td>\n",
       "      <td>0</td>\n",
       "      <td>0</td>\n",
       "      <td>0</td>\n",
       "    </tr>\n",
       "    <tr>\n",
       "      <th>1</th>\n",
       "      <td>5.0</td>\n",
       "      <td>674</td>\n",
       "      <td>0</td>\n",
       "      <td>0</td>\n",
       "      <td>0</td>\n",
       "      <td>0</td>\n",
       "      <td>0</td>\n",
       "      <td>0</td>\n",
       "      <td>0</td>\n",
       "      <td>1</td>\n",
       "      <td>0</td>\n",
       "      <td>0</td>\n",
       "      <td>1</td>\n",
       "      <td>0</td>\n",
       "      <td>0</td>\n",
       "      <td>0</td>\n",
       "      <td>1</td>\n",
       "      <td>0</td>\n",
       "      <td>0</td>\n",
       "    </tr>\n",
       "    <tr>\n",
       "      <th>2</th>\n",
       "      <td>2.0</td>\n",
       "      <td>1532</td>\n",
       "      <td>1</td>\n",
       "      <td>0</td>\n",
       "      <td>0</td>\n",
       "      <td>1</td>\n",
       "      <td>0</td>\n",
       "      <td>0</td>\n",
       "      <td>0</td>\n",
       "      <td>0</td>\n",
       "      <td>0</td>\n",
       "      <td>0</td>\n",
       "      <td>1</td>\n",
       "      <td>0</td>\n",
       "      <td>0</td>\n",
       "      <td>0</td>\n",
       "      <td>1</td>\n",
       "      <td>0</td>\n",
       "      <td>0</td>\n",
       "    </tr>\n",
       "    <tr>\n",
       "      <th>3</th>\n",
       "      <td>1.0</td>\n",
       "      <td>305</td>\n",
       "      <td>0</td>\n",
       "      <td>0</td>\n",
       "      <td>0</td>\n",
       "      <td>1</td>\n",
       "      <td>0</td>\n",
       "      <td>0</td>\n",
       "      <td>0</td>\n",
       "      <td>0</td>\n",
       "      <td>0</td>\n",
       "      <td>0</td>\n",
       "      <td>0</td>\n",
       "      <td>1</td>\n",
       "      <td>0</td>\n",
       "      <td>1</td>\n",
       "      <td>0</td>\n",
       "      <td>0</td>\n",
       "      <td>0</td>\n",
       "    </tr>\n",
       "    <tr>\n",
       "      <th>4</th>\n",
       "      <td>2.0</td>\n",
       "      <td>1428</td>\n",
       "      <td>0</td>\n",
       "      <td>0</td>\n",
       "      <td>0</td>\n",
       "      <td>1</td>\n",
       "      <td>0</td>\n",
       "      <td>1</td>\n",
       "      <td>0</td>\n",
       "      <td>0</td>\n",
       "      <td>0</td>\n",
       "      <td>0</td>\n",
       "      <td>0</td>\n",
       "      <td>0</td>\n",
       "      <td>0</td>\n",
       "      <td>1</td>\n",
       "      <td>0</td>\n",
       "      <td>0</td>\n",
       "      <td>0</td>\n",
       "    </tr>\n",
       "  </tbody>\n",
       "</table>\n",
       "</div>"
      ],
      "text/plain": [
       "   TotalVisits  Total Time Spent on Website  \\\n",
       "0          0.0                            0   \n",
       "1          5.0                          674   \n",
       "2          2.0                         1532   \n",
       "3          1.0                          305   \n",
       "4          2.0                         1428   \n",
       "\n",
       "   A free copy of Mastering The Interview  Lead Origin_LAF  Lead Origin_LI  \\\n",
       "0                                       0                0               0   \n",
       "1                                       0                0               0   \n",
       "2                                       1                0               0   \n",
       "3                                       0                0               0   \n",
       "4                                       0                0               0   \n",
       "\n",
       "   Lead Origin_LPS  Lead Origin_QAF  Lead Source_Google  Lead Source_Olark  \\\n",
       "0                0                0                   0                  1   \n",
       "1                0                0                   0                  0   \n",
       "2                1                0                   0                  0   \n",
       "3                1                0                   0                  0   \n",
       "4                1                0                   1                  0   \n",
       "\n",
       "   Lead Source_Organic  Lead Source_Referral  Last Activity_Olark Chat  \\\n",
       "0                    0                     0                         0   \n",
       "1                    1                     0                         0   \n",
       "2                    0                     0                         0   \n",
       "3                    0                     0                         0   \n",
       "4                    0                     0                         0   \n",
       "\n",
       "   Last Activity_Open  Last Activity_Unreach  Last Activity_Visit  \\\n",
       "0                   0                      0                    1   \n",
       "1                   1                      0                    0   \n",
       "2                   1                      0                    0   \n",
       "3                   0                      1                    0   \n",
       "4                   0                      0                    0   \n",
       "\n",
       "   Last Notable Activity_Modified  Last Notable Activity_Open  \\\n",
       "0                               1                           0   \n",
       "1                               0                           1   \n",
       "2                               0                           1   \n",
       "3                               1                           0   \n",
       "4                               1                           0   \n",
       "\n",
       "   Last Notable Activity_Unreach  Last Notable Activity_Visit  \n",
       "0                              0                            0  \n",
       "1                              0                            0  \n",
       "2                              0                            0  \n",
       "3                              0                            0  \n",
       "4                              0                            0  "
      ]
     },
     "execution_count": 347,
     "metadata": {},
     "output_type": "execute_result"
    }
   ],
   "source": [
    "# Putting feature variable to X\n",
    "X = df.drop(\"Converted\", axis=1)\n",
    "\n",
    "X.head()"
   ]
  },
  {
   "cell_type": "code",
   "execution_count": 348,
   "metadata": {},
   "outputs": [],
   "source": [
    "y=df[\"Converted\"]"
   ]
  },
  {
   "cell_type": "code",
   "execution_count": 349,
   "metadata": {},
   "outputs": [
    {
     "data": {
      "text/plain": [
       "0    0\n",
       "1    0\n",
       "2    1\n",
       "3    0\n",
       "4    1\n",
       "Name: Converted, dtype: int64"
      ]
     },
     "execution_count": 349,
     "metadata": {},
     "output_type": "execute_result"
    }
   ],
   "source": [
    "y.head()"
   ]
  },
  {
   "cell_type": "code",
   "execution_count": 350,
   "metadata": {},
   "outputs": [],
   "source": [
    "# Splitting the data into train and test\n",
    "X_train, X_test, y_train, y_test = train_test_split(X, y, train_size=0.7, test_size=0.3, random_state=42)"
   ]
  },
  {
   "cell_type": "markdown",
   "metadata": {},
   "source": [
    "### Step 5: Feature Scaling"
   ]
  },
  {
   "cell_type": "code",
   "execution_count": 351,
   "metadata": {},
   "outputs": [],
   "source": [
    "from sklearn.preprocessing import StandardScaler"
   ]
  },
  {
   "cell_type": "code",
   "execution_count": 352,
   "metadata": {},
   "outputs": [],
   "source": [
    "scaler = StandardScaler()\n",
    "X_train[['TotalVisits', 'Total Time Spent on Website']]=scaler.fit_transform(X_train[['TotalVisits', 'Total Time Spent on Website']])"
   ]
  },
  {
   "cell_type": "code",
   "execution_count": 353,
   "metadata": {},
   "outputs": [
    {
     "data": {
      "text/html": [
       "<div>\n",
       "<style scoped>\n",
       "    .dataframe tbody tr th:only-of-type {\n",
       "        vertical-align: middle;\n",
       "    }\n",
       "\n",
       "    .dataframe tbody tr th {\n",
       "        vertical-align: top;\n",
       "    }\n",
       "\n",
       "    .dataframe thead th {\n",
       "        text-align: right;\n",
       "    }\n",
       "</style>\n",
       "<table border=\"1\" class=\"dataframe\">\n",
       "  <thead>\n",
       "    <tr style=\"text-align: right;\">\n",
       "      <th></th>\n",
       "      <th>TotalVisits</th>\n",
       "      <th>Total Time Spent on Website</th>\n",
       "      <th>A free copy of Mastering The Interview</th>\n",
       "      <th>Lead Origin_LAF</th>\n",
       "      <th>Lead Origin_LI</th>\n",
       "      <th>Lead Origin_LPS</th>\n",
       "      <th>Lead Origin_QAF</th>\n",
       "      <th>Lead Source_Google</th>\n",
       "      <th>Lead Source_Olark</th>\n",
       "      <th>Lead Source_Organic</th>\n",
       "      <th>Lead Source_Referral</th>\n",
       "      <th>Last Activity_Olark Chat</th>\n",
       "      <th>Last Activity_Open</th>\n",
       "      <th>Last Activity_Unreach</th>\n",
       "      <th>Last Activity_Visit</th>\n",
       "      <th>Last Notable Activity_Modified</th>\n",
       "      <th>Last Notable Activity_Open</th>\n",
       "      <th>Last Notable Activity_Unreach</th>\n",
       "      <th>Last Notable Activity_Visit</th>\n",
       "    </tr>\n",
       "  </thead>\n",
       "  <tbody>\n",
       "    <tr>\n",
       "      <th>4715</th>\n",
       "      <td>-1.128195</td>\n",
       "      <td>-0.887525</td>\n",
       "      <td>0</td>\n",
       "      <td>0</td>\n",
       "      <td>0</td>\n",
       "      <td>0</td>\n",
       "      <td>0</td>\n",
       "      <td>0</td>\n",
       "      <td>1</td>\n",
       "      <td>0</td>\n",
       "      <td>0</td>\n",
       "      <td>0</td>\n",
       "      <td>1</td>\n",
       "      <td>0</td>\n",
       "      <td>0</td>\n",
       "      <td>0</td>\n",
       "      <td>1</td>\n",
       "      <td>0</td>\n",
       "      <td>0</td>\n",
       "    </tr>\n",
       "    <tr>\n",
       "      <th>7132</th>\n",
       "      <td>-0.433491</td>\n",
       "      <td>1.386983</td>\n",
       "      <td>0</td>\n",
       "      <td>0</td>\n",
       "      <td>0</td>\n",
       "      <td>0</td>\n",
       "      <td>0</td>\n",
       "      <td>0</td>\n",
       "      <td>0</td>\n",
       "      <td>1</td>\n",
       "      <td>0</td>\n",
       "      <td>0</td>\n",
       "      <td>1</td>\n",
       "      <td>0</td>\n",
       "      <td>0</td>\n",
       "      <td>0</td>\n",
       "      <td>1</td>\n",
       "      <td>0</td>\n",
       "      <td>0</td>\n",
       "    </tr>\n",
       "    <tr>\n",
       "      <th>8954</th>\n",
       "      <td>0.261212</td>\n",
       "      <td>-0.182209</td>\n",
       "      <td>1</td>\n",
       "      <td>0</td>\n",
       "      <td>0</td>\n",
       "      <td>1</td>\n",
       "      <td>0</td>\n",
       "      <td>0</td>\n",
       "      <td>0</td>\n",
       "      <td>0</td>\n",
       "      <td>0</td>\n",
       "      <td>0</td>\n",
       "      <td>0</td>\n",
       "      <td>0</td>\n",
       "      <td>0</td>\n",
       "      <td>0</td>\n",
       "      <td>0</td>\n",
       "      <td>0</td>\n",
       "      <td>0</td>\n",
       "    </tr>\n",
       "    <tr>\n",
       "      <th>5283</th>\n",
       "      <td>2.692673</td>\n",
       "      <td>1.315905</td>\n",
       "      <td>0</td>\n",
       "      <td>0</td>\n",
       "      <td>0</td>\n",
       "      <td>1</td>\n",
       "      <td>0</td>\n",
       "      <td>0</td>\n",
       "      <td>0</td>\n",
       "      <td>0</td>\n",
       "      <td>0</td>\n",
       "      <td>0</td>\n",
       "      <td>0</td>\n",
       "      <td>0</td>\n",
       "      <td>1</td>\n",
       "      <td>0</td>\n",
       "      <td>0</td>\n",
       "      <td>0</td>\n",
       "      <td>1</td>\n",
       "    </tr>\n",
       "    <tr>\n",
       "      <th>3003</th>\n",
       "      <td>-0.086140</td>\n",
       "      <td>1.580170</td>\n",
       "      <td>1</td>\n",
       "      <td>0</td>\n",
       "      <td>0</td>\n",
       "      <td>1</td>\n",
       "      <td>0</td>\n",
       "      <td>0</td>\n",
       "      <td>0</td>\n",
       "      <td>0</td>\n",
       "      <td>0</td>\n",
       "      <td>0</td>\n",
       "      <td>0</td>\n",
       "      <td>0</td>\n",
       "      <td>0</td>\n",
       "      <td>1</td>\n",
       "      <td>0</td>\n",
       "      <td>0</td>\n",
       "      <td>0</td>\n",
       "    </tr>\n",
       "  </tbody>\n",
       "</table>\n",
       "</div>"
      ],
      "text/plain": [
       "      TotalVisits  Total Time Spent on Website  \\\n",
       "4715    -1.128195                    -0.887525   \n",
       "7132    -0.433491                     1.386983   \n",
       "8954     0.261212                    -0.182209   \n",
       "5283     2.692673                     1.315905   \n",
       "3003    -0.086140                     1.580170   \n",
       "\n",
       "      A free copy of Mastering The Interview  Lead Origin_LAF  Lead Origin_LI  \\\n",
       "4715                                       0                0               0   \n",
       "7132                                       0                0               0   \n",
       "8954                                       1                0               0   \n",
       "5283                                       0                0               0   \n",
       "3003                                       1                0               0   \n",
       "\n",
       "      Lead Origin_LPS  Lead Origin_QAF  Lead Source_Google  Lead Source_Olark  \\\n",
       "4715                0                0                   0                  1   \n",
       "7132                0                0                   0                  0   \n",
       "8954                1                0                   0                  0   \n",
       "5283                1                0                   0                  0   \n",
       "3003                1                0                   0                  0   \n",
       "\n",
       "      Lead Source_Organic  Lead Source_Referral  Last Activity_Olark Chat  \\\n",
       "4715                    0                     0                         0   \n",
       "7132                    1                     0                         0   \n",
       "8954                    0                     0                         0   \n",
       "5283                    0                     0                         0   \n",
       "3003                    0                     0                         0   \n",
       "\n",
       "      Last Activity_Open  Last Activity_Unreach  Last Activity_Visit  \\\n",
       "4715                   1                      0                    0   \n",
       "7132                   1                      0                    0   \n",
       "8954                   0                      0                    0   \n",
       "5283                   0                      0                    1   \n",
       "3003                   0                      0                    0   \n",
       "\n",
       "      Last Notable Activity_Modified  Last Notable Activity_Open  \\\n",
       "4715                               0                           1   \n",
       "7132                               0                           1   \n",
       "8954                               0                           0   \n",
       "5283                               0                           0   \n",
       "3003                               1                           0   \n",
       "\n",
       "      Last Notable Activity_Unreach  Last Notable Activity_Visit  \n",
       "4715                              0                            0  \n",
       "7132                              0                            0  \n",
       "8954                              0                            0  \n",
       "5283                              0                            1  \n",
       "3003                              0                            0  "
      ]
     },
     "execution_count": 353,
     "metadata": {},
     "output_type": "execute_result"
    }
   ],
   "source": [
    "X_train.head()"
   ]
  },
  {
   "cell_type": "markdown",
   "metadata": {},
   "source": [
    "### Step 6: Model Building\n"
   ]
  },
  {
   "cell_type": "code",
   "execution_count": 354,
   "metadata": {},
   "outputs": [],
   "source": [
    "import statsmodels.api as sm"
   ]
  },
  {
   "cell_type": "code",
   "execution_count": 355,
   "metadata": {},
   "outputs": [
    {
     "data": {
      "text/html": [
       "<table class=\"simpletable\">\n",
       "<caption>Generalized Linear Model Regression Results</caption>\n",
       "<tr>\n",
       "  <th>Dep. Variable:</th>       <td>Converted</td>    <th>  No. Observations:  </th>  <td>  6468</td> \n",
       "</tr>\n",
       "<tr>\n",
       "  <th>Model:</th>                  <td>GLM</td>       <th>  Df Residuals:      </th>  <td>  6448</td> \n",
       "</tr>\n",
       "<tr>\n",
       "  <th>Model Family:</th>        <td>Binomial</td>     <th>  Df Model:          </th>  <td>    19</td> \n",
       "</tr>\n",
       "<tr>\n",
       "  <th>Link Function:</th>         <td>Logit</td>      <th>  Scale:             </th> <td>  1.0000</td>\n",
       "</tr>\n",
       "<tr>\n",
       "  <th>Method:</th>                <td>IRLS</td>       <th>  Log-Likelihood:    </th> <td> -2996.5</td>\n",
       "</tr>\n",
       "<tr>\n",
       "  <th>Date:</th>            <td>Wed, 17 Jul 2024</td> <th>  Deviance:          </th> <td>  5993.1</td>\n",
       "</tr>\n",
       "<tr>\n",
       "  <th>Time:</th>                <td>00:10:30</td>     <th>  Pearson chi2:      </th> <td>6.80e+03</td>\n",
       "</tr>\n",
       "<tr>\n",
       "  <th>No. Iterations:</th>         <td>19</td>        <th>  Pseudo R-squ. (CS):</th>  <td>0.3333</td> \n",
       "</tr>\n",
       "<tr>\n",
       "  <th>Covariance Type:</th>     <td>nonrobust</td>    <th>                     </th>     <td> </td>   \n",
       "</tr>\n",
       "</table>\n",
       "<table class=\"simpletable\">\n",
       "<tr>\n",
       "                     <td></td>                       <th>coef</th>     <th>std err</th>      <th>z</th>      <th>P>|z|</th>  <th>[0.025</th>    <th>0.975]</th>  \n",
       "</tr>\n",
       "<tr>\n",
       "  <th>const</th>                                  <td>    0.0190</td> <td>    0.124</td> <td>    0.153</td> <td> 0.879</td> <td>   -0.225</td> <td>    0.263</td>\n",
       "</tr>\n",
       "<tr>\n",
       "  <th>TotalVisits</th>                            <td>    0.2099</td> <td>    0.042</td> <td>    4.961</td> <td> 0.000</td> <td>    0.127</td> <td>    0.293</td>\n",
       "</tr>\n",
       "<tr>\n",
       "  <th>Total Time Spent on Website</th>            <td>    1.0713</td> <td>    0.037</td> <td>   28.638</td> <td> 0.000</td> <td>    0.998</td> <td>    1.145</td>\n",
       "</tr>\n",
       "<tr>\n",
       "  <th>A free copy of Mastering The Interview</th> <td>   -0.0825</td> <td>    0.096</td> <td>   -0.860</td> <td> 0.390</td> <td>   -0.270</td> <td>    0.105</td>\n",
       "</tr>\n",
       "<tr>\n",
       "  <th>Lead Origin_LAF</th>                        <td>    4.3284</td> <td>    0.216</td> <td>   20.016</td> <td> 0.000</td> <td>    3.905</td> <td>    4.752</td>\n",
       "</tr>\n",
       "<tr>\n",
       "  <th>Lead Origin_LI</th>                         <td>    0.6124</td> <td>    0.447</td> <td>    1.370</td> <td> 0.171</td> <td>   -0.264</td> <td>    1.489</td>\n",
       "</tr>\n",
       "<tr>\n",
       "  <th>Lead Origin_LPS</th>                        <td>   -0.1490</td> <td>    0.097</td> <td>   -1.541</td> <td> 0.123</td> <td>   -0.338</td> <td>    0.040</td>\n",
       "</tr>\n",
       "<tr>\n",
       "  <th>Lead Origin_QAF</th>                        <td>   18.4907</td> <td> 1.77e+04</td> <td>    0.001</td> <td> 0.999</td> <td>-3.47e+04</td> <td> 3.48e+04</td>\n",
       "</tr>\n",
       "<tr>\n",
       "  <th>Lead Source_Google</th>                     <td>    0.2747</td> <td>    0.102</td> <td>    2.699</td> <td> 0.007</td> <td>    0.075</td> <td>    0.474</td>\n",
       "</tr>\n",
       "<tr>\n",
       "  <th>Lead Source_Olark</th>                      <td>    1.2061</td> <td>    0.146</td> <td>    8.274</td> <td> 0.000</td> <td>    0.920</td> <td>    1.492</td>\n",
       "</tr>\n",
       "<tr>\n",
       "  <th>Lead Source_Organic</th>                    <td>    0.0541</td> <td>    0.116</td> <td>    0.467</td> <td> 0.641</td> <td>   -0.173</td> <td>    0.281</td>\n",
       "</tr>\n",
       "<tr>\n",
       "  <th>Lead Source_Referral</th>                   <td>   -0.0515</td> <td>    0.308</td> <td>   -0.167</td> <td> 0.867</td> <td>   -0.656</td> <td>    0.553</td>\n",
       "</tr>\n",
       "<tr>\n",
       "  <th>Last Activity_Olark Chat</th>               <td>   -1.6230</td> <td>    0.165</td> <td>   -9.849</td> <td> 0.000</td> <td>   -1.946</td> <td>   -1.300</td>\n",
       "</tr>\n",
       "<tr>\n",
       "  <th>Last Activity_Open</th>                     <td>    0.2401</td> <td>    0.145</td> <td>    1.659</td> <td> 0.097</td> <td>   -0.044</td> <td>    0.524</td>\n",
       "</tr>\n",
       "<tr>\n",
       "  <th>Last Activity_Unreach</th>                  <td>   -1.2530</td> <td>    0.567</td> <td>   -2.211</td> <td> 0.027</td> <td>   -2.364</td> <td>   -0.142</td>\n",
       "</tr>\n",
       "<tr>\n",
       "  <th>Last Activity_Visit</th>                    <td>   -0.4339</td> <td>    0.211</td> <td>   -2.057</td> <td> 0.040</td> <td>   -0.847</td> <td>   -0.020</td>\n",
       "</tr>\n",
       "<tr>\n",
       "  <th>Last Notable Activity_Modified</th>         <td>   -1.5780</td> <td>    0.098</td> <td>  -16.150</td> <td> 0.000</td> <td>   -1.769</td> <td>   -1.386</td>\n",
       "</tr>\n",
       "<tr>\n",
       "  <th>Last Notable Activity_Open</th>             <td>   -1.3968</td> <td>    0.163</td> <td>   -8.579</td> <td> 0.000</td> <td>   -1.716</td> <td>   -1.078</td>\n",
       "</tr>\n",
       "<tr>\n",
       "  <th>Last Notable Activity_Unreach</th>          <td>    2.0382</td> <td>    0.767</td> <td>    2.659</td> <td> 0.008</td> <td>    0.536</td> <td>    3.541</td>\n",
       "</tr>\n",
       "<tr>\n",
       "  <th>Last Notable Activity_Visit</th>            <td>   -1.2011</td> <td>    0.273</td> <td>   -4.407</td> <td> 0.000</td> <td>   -1.735</td> <td>   -0.667</td>\n",
       "</tr>\n",
       "</table>"
      ],
      "text/latex": [
       "\\begin{center}\n",
       "\\begin{tabular}{lclc}\n",
       "\\toprule\n",
       "\\textbf{Dep. Variable:}                         &    Converted     & \\textbf{  No. Observations:  } &     6468    \\\\\n",
       "\\textbf{Model:}                                 &       GLM        & \\textbf{  Df Residuals:      } &     6448    \\\\\n",
       "\\textbf{Model Family:}                          &     Binomial     & \\textbf{  Df Model:          } &       19    \\\\\n",
       "\\textbf{Link Function:}                         &      Logit       & \\textbf{  Scale:             } &    1.0000   \\\\\n",
       "\\textbf{Method:}                                &       IRLS       & \\textbf{  Log-Likelihood:    } &   -2996.5   \\\\\n",
       "\\textbf{Date:}                                  & Wed, 17 Jul 2024 & \\textbf{  Deviance:          } &    5993.1   \\\\\n",
       "\\textbf{Time:}                                  &     00:10:30     & \\textbf{  Pearson chi2:      } &  6.80e+03   \\\\\n",
       "\\textbf{No. Iterations:}                        &        19        & \\textbf{  Pseudo R-squ. (CS):} &   0.3333    \\\\\n",
       "\\textbf{Covariance Type:}                       &    nonrobust     & \\textbf{                     } &             \\\\\n",
       "\\bottomrule\n",
       "\\end{tabular}\n",
       "\\begin{tabular}{lcccccc}\n",
       "                                                & \\textbf{coef} & \\textbf{std err} & \\textbf{z} & \\textbf{P$> |$z$|$} & \\textbf{[0.025} & \\textbf{0.975]}  \\\\\n",
       "\\midrule\n",
       "\\textbf{const}                                  &       0.0190  &        0.124     &     0.153  &         0.879        &       -0.225    &        0.263     \\\\\n",
       "\\textbf{TotalVisits}                            &       0.2099  &        0.042     &     4.961  &         0.000        &        0.127    &        0.293     \\\\\n",
       "\\textbf{Total Time Spent on Website}            &       1.0713  &        0.037     &    28.638  &         0.000        &        0.998    &        1.145     \\\\\n",
       "\\textbf{A free copy of Mastering The Interview} &      -0.0825  &        0.096     &    -0.860  &         0.390        &       -0.270    &        0.105     \\\\\n",
       "\\textbf{Lead Origin\\_LAF}                       &       4.3284  &        0.216     &    20.016  &         0.000        &        3.905    &        4.752     \\\\\n",
       "\\textbf{Lead Origin\\_LI}                        &       0.6124  &        0.447     &     1.370  &         0.171        &       -0.264    &        1.489     \\\\\n",
       "\\textbf{Lead Origin\\_LPS}                       &      -0.1490  &        0.097     &    -1.541  &         0.123        &       -0.338    &        0.040     \\\\\n",
       "\\textbf{Lead Origin\\_QAF}                       &      18.4907  &     1.77e+04     &     0.001  &         0.999        &    -3.47e+04    &     3.48e+04     \\\\\n",
       "\\textbf{Lead Source\\_Google}                    &       0.2747  &        0.102     &     2.699  &         0.007        &        0.075    &        0.474     \\\\\n",
       "\\textbf{Lead Source\\_Olark}                     &       1.2061  &        0.146     &     8.274  &         0.000        &        0.920    &        1.492     \\\\\n",
       "\\textbf{Lead Source\\_Organic}                   &       0.0541  &        0.116     &     0.467  &         0.641        &       -0.173    &        0.281     \\\\\n",
       "\\textbf{Lead Source\\_Referral}                  &      -0.0515  &        0.308     &    -0.167  &         0.867        &       -0.656    &        0.553     \\\\\n",
       "\\textbf{Last Activity\\_Olark Chat}              &      -1.6230  &        0.165     &    -9.849  &         0.000        &       -1.946    &       -1.300     \\\\\n",
       "\\textbf{Last Activity\\_Open}                    &       0.2401  &        0.145     &     1.659  &         0.097        &       -0.044    &        0.524     \\\\\n",
       "\\textbf{Last Activity\\_Unreach}                 &      -1.2530  &        0.567     &    -2.211  &         0.027        &       -2.364    &       -0.142     \\\\\n",
       "\\textbf{Last Activity\\_Visit}                   &      -0.4339  &        0.211     &    -2.057  &         0.040        &       -0.847    &       -0.020     \\\\\n",
       "\\textbf{Last Notable Activity\\_Modified}        &      -1.5780  &        0.098     &   -16.150  &         0.000        &       -1.769    &       -1.386     \\\\\n",
       "\\textbf{Last Notable Activity\\_Open}            &      -1.3968  &        0.163     &    -8.579  &         0.000        &       -1.716    &       -1.078     \\\\\n",
       "\\textbf{Last Notable Activity\\_Unreach}         &       2.0382  &        0.767     &     2.659  &         0.008        &        0.536    &        3.541     \\\\\n",
       "\\textbf{Last Notable Activity\\_Visit}           &      -1.2011  &        0.273     &    -4.407  &         0.000        &       -1.735    &       -0.667     \\\\\n",
       "\\bottomrule\n",
       "\\end{tabular}\n",
       "%\\caption{Generalized Linear Model Regression Results}\n",
       "\\end{center}"
      ],
      "text/plain": [
       "<class 'statsmodels.iolib.summary.Summary'>\n",
       "\"\"\"\n",
       "                 Generalized Linear Model Regression Results                  \n",
       "==============================================================================\n",
       "Dep. Variable:              Converted   No. Observations:                 6468\n",
       "Model:                            GLM   Df Residuals:                     6448\n",
       "Model Family:                Binomial   Df Model:                           19\n",
       "Link Function:                  Logit   Scale:                          1.0000\n",
       "Method:                          IRLS   Log-Likelihood:                -2996.5\n",
       "Date:                Wed, 17 Jul 2024   Deviance:                       5993.1\n",
       "Time:                        00:10:30   Pearson chi2:                 6.80e+03\n",
       "No. Iterations:                    19   Pseudo R-squ. (CS):             0.3333\n",
       "Covariance Type:            nonrobust                                         \n",
       "==========================================================================================================\n",
       "                                             coef    std err          z      P>|z|      [0.025      0.975]\n",
       "----------------------------------------------------------------------------------------------------------\n",
       "const                                      0.0190      0.124      0.153      0.879      -0.225       0.263\n",
       "TotalVisits                                0.2099      0.042      4.961      0.000       0.127       0.293\n",
       "Total Time Spent on Website                1.0713      0.037     28.638      0.000       0.998       1.145\n",
       "A free copy of Mastering The Interview    -0.0825      0.096     -0.860      0.390      -0.270       0.105\n",
       "Lead Origin_LAF                            4.3284      0.216     20.016      0.000       3.905       4.752\n",
       "Lead Origin_LI                             0.6124      0.447      1.370      0.171      -0.264       1.489\n",
       "Lead Origin_LPS                           -0.1490      0.097     -1.541      0.123      -0.338       0.040\n",
       "Lead Origin_QAF                           18.4907   1.77e+04      0.001      0.999   -3.47e+04    3.48e+04\n",
       "Lead Source_Google                         0.2747      0.102      2.699      0.007       0.075       0.474\n",
       "Lead Source_Olark                          1.2061      0.146      8.274      0.000       0.920       1.492\n",
       "Lead Source_Organic                        0.0541      0.116      0.467      0.641      -0.173       0.281\n",
       "Lead Source_Referral                      -0.0515      0.308     -0.167      0.867      -0.656       0.553\n",
       "Last Activity_Olark Chat                  -1.6230      0.165     -9.849      0.000      -1.946      -1.300\n",
       "Last Activity_Open                         0.2401      0.145      1.659      0.097      -0.044       0.524\n",
       "Last Activity_Unreach                     -1.2530      0.567     -2.211      0.027      -2.364      -0.142\n",
       "Last Activity_Visit                       -0.4339      0.211     -2.057      0.040      -0.847      -0.020\n",
       "Last Notable Activity_Modified            -1.5780      0.098    -16.150      0.000      -1.769      -1.386\n",
       "Last Notable Activity_Open                -1.3968      0.163     -8.579      0.000      -1.716      -1.078\n",
       "Last Notable Activity_Unreach              2.0382      0.767      2.659      0.008       0.536       3.541\n",
       "Last Notable Activity_Visit               -1.2011      0.273     -4.407      0.000      -1.735      -0.667\n",
       "==========================================================================================================\n",
       "\"\"\""
      ]
     },
     "execution_count": 355,
     "metadata": {},
     "output_type": "execute_result"
    }
   ],
   "source": [
    "# Logistic regression model\n",
    "logm1 = sm.GLM(y_train,(sm.add_constant(X_train)), family = sm.families.Binomial())\n",
    "logm1.fit().summary()"
   ]
  },
  {
   "cell_type": "markdown",
   "metadata": {},
   "source": [
    "### Step 7: Feature Selection Using RFE"
   ]
  },
  {
   "cell_type": "code",
   "execution_count": 356,
   "metadata": {},
   "outputs": [],
   "source": [
    "from sklearn.linear_model import LogisticRegression\n",
    "logreg = LogisticRegression()"
   ]
  },
  {
   "cell_type": "code",
   "execution_count": 357,
   "metadata": {},
   "outputs": [],
   "source": [
    "from sklearn.feature_selection import RFE\n",
    "rfe = RFE(logreg, n_features_to_select=12)             # running RFE with 12 variables as output\n",
    "rfe = rfe.fit(X_train, y_train)"
   ]
  },
  {
   "cell_type": "code",
   "execution_count": 358,
   "metadata": {},
   "outputs": [
    {
     "data": {
      "text/plain": [
       "array([False,  True, False,  True,  True, False, False,  True,  True,\n",
       "       False, False,  True, False,  True,  True,  True,  True,  True,\n",
       "        True])"
      ]
     },
     "execution_count": 358,
     "metadata": {},
     "output_type": "execute_result"
    }
   ],
   "source": [
    "rfe.support_"
   ]
  },
  {
   "cell_type": "code",
   "execution_count": 359,
   "metadata": {},
   "outputs": [
    {
     "data": {
      "text/plain": [
       "[('TotalVisits', np.False_, np.int64(4)),\n",
       " ('Total Time Spent on Website', np.True_, np.int64(1)),\n",
       " ('A free copy of Mastering The Interview', np.False_, np.int64(6)),\n",
       " ('Lead Origin_LAF', np.True_, np.int64(1)),\n",
       " ('Lead Origin_LI', np.True_, np.int64(1)),\n",
       " ('Lead Origin_LPS', np.False_, np.int64(3)),\n",
       " ('Lead Origin_QAF', np.False_, np.int64(7)),\n",
       " ('Lead Source_Google', np.True_, np.int64(1)),\n",
       " ('Lead Source_Olark', np.True_, np.int64(1)),\n",
       " ('Lead Source_Organic', np.False_, np.int64(8)),\n",
       " ('Lead Source_Referral', np.False_, np.int64(5)),\n",
       " ('Last Activity_Olark Chat', np.True_, np.int64(1)),\n",
       " ('Last Activity_Open', np.False_, np.int64(2)),\n",
       " ('Last Activity_Unreach', np.True_, np.int64(1)),\n",
       " ('Last Activity_Visit', np.True_, np.int64(1)),\n",
       " ('Last Notable Activity_Modified', np.True_, np.int64(1)),\n",
       " ('Last Notable Activity_Open', np.True_, np.int64(1)),\n",
       " ('Last Notable Activity_Unreach', np.True_, np.int64(1)),\n",
       " ('Last Notable Activity_Visit', np.True_, np.int64(1))]"
      ]
     },
     "execution_count": 359,
     "metadata": {},
     "output_type": "execute_result"
    }
   ],
   "source": [
    "list(zip(X_train.columns, rfe.support_, rfe.ranking_))"
   ]
  },
  {
   "cell_type": "code",
   "execution_count": 360,
   "metadata": {},
   "outputs": [],
   "source": [
    "col = X_train.columns[rfe.support_]"
   ]
  },
  {
   "cell_type": "code",
   "execution_count": 361,
   "metadata": {},
   "outputs": [
    {
     "data": {
      "text/plain": [
       "Index(['Total Time Spent on Website', 'Lead Origin_LAF', 'Lead Origin_LI',\n",
       "       'Lead Source_Google', 'Lead Source_Olark', 'Last Activity_Olark Chat',\n",
       "       'Last Activity_Unreach', 'Last Activity_Visit',\n",
       "       'Last Notable Activity_Modified', 'Last Notable Activity_Open',\n",
       "       'Last Notable Activity_Unreach', 'Last Notable Activity_Visit'],\n",
       "      dtype='object')"
      ]
     },
     "execution_count": 361,
     "metadata": {},
     "output_type": "execute_result"
    }
   ],
   "source": [
    "col"
   ]
  },
  {
   "cell_type": "code",
   "execution_count": 362,
   "metadata": {},
   "outputs": [
    {
     "data": {
      "text/plain": [
       "Index(['TotalVisits', 'A free copy of Mastering The Interview',\n",
       "       'Lead Origin_LPS', 'Lead Origin_QAF', 'Lead Source_Organic',\n",
       "       'Lead Source_Referral', 'Last Activity_Open'],\n",
       "      dtype='object')"
      ]
     },
     "execution_count": 362,
     "metadata": {},
     "output_type": "execute_result"
    }
   ],
   "source": [
    "X_train.columns[~rfe.support_]"
   ]
  },
  {
   "cell_type": "markdown",
   "metadata": {},
   "source": [
    "##### Assessing the model with StatsModels"
   ]
  },
  {
   "cell_type": "code",
   "execution_count": 363,
   "metadata": {},
   "outputs": [
    {
     "data": {
      "text/plain": [
       "Index(['Total Time Spent on Website', 'Lead Origin_LAF', 'Lead Origin_LI',\n",
       "       'Lead Source_Google', 'Lead Source_Olark', 'Last Activity_Olark Chat',\n",
       "       'Last Activity_Unreach', 'Last Activity_Visit',\n",
       "       'Last Notable Activity_Modified', 'Last Notable Activity_Open',\n",
       "       'Last Notable Activity_Unreach', 'Last Notable Activity_Visit'],\n",
       "      dtype='object')"
      ]
     },
     "execution_count": 363,
     "metadata": {},
     "output_type": "execute_result"
    }
   ],
   "source": [
    "X_train[col].columns"
   ]
  },
  {
   "cell_type": "code",
   "execution_count": 364,
   "metadata": {},
   "outputs": [
    {
     "data": {
      "text/html": [
       "<table class=\"simpletable\">\n",
       "<caption>Generalized Linear Model Regression Results</caption>\n",
       "<tr>\n",
       "  <th>Dep. Variable:</th>       <td>Converted</td>    <th>  No. Observations:  </th>  <td>  6468</td> \n",
       "</tr>\n",
       "<tr>\n",
       "  <th>Model:</th>                  <td>GLM</td>       <th>  Df Residuals:      </th>  <td>  6455</td> \n",
       "</tr>\n",
       "<tr>\n",
       "  <th>Model Family:</th>        <td>Binomial</td>     <th>  Df Model:          </th>  <td>    12</td> \n",
       "</tr>\n",
       "<tr>\n",
       "  <th>Link Function:</th>         <td>Logit</td>      <th>  Scale:             </th> <td>  1.0000</td>\n",
       "</tr>\n",
       "<tr>\n",
       "  <th>Method:</th>                <td>IRLS</td>       <th>  Log-Likelihood:    </th> <td> -3014.4</td>\n",
       "</tr>\n",
       "<tr>\n",
       "  <th>Date:</th>            <td>Wed, 17 Jul 2024</td> <th>  Deviance:          </th> <td>  6028.9</td>\n",
       "</tr>\n",
       "<tr>\n",
       "  <th>Time:</th>                <td>00:10:31</td>     <th>  Pearson chi2:      </th> <td>6.78e+03</td>\n",
       "</tr>\n",
       "<tr>\n",
       "  <th>No. Iterations:</th>          <td>6</td>        <th>  Pseudo R-squ. (CS):</th>  <td>0.3296</td> \n",
       "</tr>\n",
       "<tr>\n",
       "  <th>Covariance Type:</th>     <td>nonrobust</td>    <th>                     </th>     <td> </td>   \n",
       "</tr>\n",
       "</table>\n",
       "<table class=\"simpletable\">\n",
       "<tr>\n",
       "                 <td></td>                   <th>coef</th>     <th>std err</th>      <th>z</th>      <th>P>|z|</th>  <th>[0.025</th>    <th>0.975]</th>  \n",
       "</tr>\n",
       "<tr>\n",
       "  <th>const</th>                          <td>   -0.0745</td> <td>    0.067</td> <td>   -1.112</td> <td> 0.266</td> <td>   -0.206</td> <td>    0.057</td>\n",
       "</tr>\n",
       "<tr>\n",
       "  <th>Total Time Spent on Website</th>    <td>    1.0853</td> <td>    0.037</td> <td>   29.177</td> <td> 0.000</td> <td>    1.012</td> <td>    1.158</td>\n",
       "</tr>\n",
       "<tr>\n",
       "  <th>Lead Origin_LAF</th>                <td>    4.2328</td> <td>    0.189</td> <td>   22.360</td> <td> 0.000</td> <td>    3.862</td> <td>    4.604</td>\n",
       "</tr>\n",
       "<tr>\n",
       "  <th>Lead Origin_LI</th>                 <td>    0.6585</td> <td>    0.431</td> <td>    1.530</td> <td> 0.126</td> <td>   -0.185</td> <td>    1.502</td>\n",
       "</tr>\n",
       "<tr>\n",
       "  <th>Lead Source_Google</th>             <td>    0.3270</td> <td>    0.073</td> <td>    4.474</td> <td> 0.000</td> <td>    0.184</td> <td>    0.470</td>\n",
       "</tr>\n",
       "<tr>\n",
       "  <th>Lead Source_Olark</th>              <td>    1.0997</td> <td>    0.101</td> <td>   10.855</td> <td> 0.000</td> <td>    0.901</td> <td>    1.298</td>\n",
       "</tr>\n",
       "<tr>\n",
       "  <th>Last Activity_Olark Chat</th>       <td>   -1.6089</td> <td>    0.160</td> <td>  -10.035</td> <td> 0.000</td> <td>   -1.923</td> <td>   -1.295</td>\n",
       "</tr>\n",
       "<tr>\n",
       "  <th>Last Activity_Unreach</th>          <td>   -1.2698</td> <td>    0.567</td> <td>   -2.241</td> <td> 0.025</td> <td>   -2.381</td> <td>   -0.159</td>\n",
       "</tr>\n",
       "<tr>\n",
       "  <th>Last Activity_Visit</th>            <td>   -0.4002</td> <td>    0.204</td> <td>   -1.959</td> <td> 0.050</td> <td>   -0.801</td> <td>    0.000</td>\n",
       "</tr>\n",
       "<tr>\n",
       "  <th>Last Notable Activity_Modified</th> <td>   -1.5410</td> <td>    0.086</td> <td>  -17.874</td> <td> 0.000</td> <td>   -1.710</td> <td>   -1.372</td>\n",
       "</tr>\n",
       "<tr>\n",
       "  <th>Last Notable Activity_Open</th>     <td>   -1.1390</td> <td>    0.079</td> <td>  -14.501</td> <td> 0.000</td> <td>   -1.293</td> <td>   -0.985</td>\n",
       "</tr>\n",
       "<tr>\n",
       "  <th>Last Notable Activity_Unreach</th>  <td>    2.0799</td> <td>    0.766</td> <td>    2.716</td> <td> 0.007</td> <td>    0.579</td> <td>    3.581</td>\n",
       "</tr>\n",
       "<tr>\n",
       "  <th>Last Notable Activity_Visit</th>    <td>   -1.0222</td> <td>    0.268</td> <td>   -3.821</td> <td> 0.000</td> <td>   -1.547</td> <td>   -0.498</td>\n",
       "</tr>\n",
       "</table>"
      ],
      "text/latex": [
       "\\begin{center}\n",
       "\\begin{tabular}{lclc}\n",
       "\\toprule\n",
       "\\textbf{Dep. Variable:}                  &    Converted     & \\textbf{  No. Observations:  } &     6468    \\\\\n",
       "\\textbf{Model:}                          &       GLM        & \\textbf{  Df Residuals:      } &     6455    \\\\\n",
       "\\textbf{Model Family:}                   &     Binomial     & \\textbf{  Df Model:          } &       12    \\\\\n",
       "\\textbf{Link Function:}                  &      Logit       & \\textbf{  Scale:             } &    1.0000   \\\\\n",
       "\\textbf{Method:}                         &       IRLS       & \\textbf{  Log-Likelihood:    } &   -3014.4   \\\\\n",
       "\\textbf{Date:}                           & Wed, 17 Jul 2024 & \\textbf{  Deviance:          } &    6028.9   \\\\\n",
       "\\textbf{Time:}                           &     00:10:31     & \\textbf{  Pearson chi2:      } &  6.78e+03   \\\\\n",
       "\\textbf{No. Iterations:}                 &        6         & \\textbf{  Pseudo R-squ. (CS):} &   0.3296    \\\\\n",
       "\\textbf{Covariance Type:}                &    nonrobust     & \\textbf{                     } &             \\\\\n",
       "\\bottomrule\n",
       "\\end{tabular}\n",
       "\\begin{tabular}{lcccccc}\n",
       "                                         & \\textbf{coef} & \\textbf{std err} & \\textbf{z} & \\textbf{P$> |$z$|$} & \\textbf{[0.025} & \\textbf{0.975]}  \\\\\n",
       "\\midrule\n",
       "\\textbf{const}                           &      -0.0745  &        0.067     &    -1.112  &         0.266        &       -0.206    &        0.057     \\\\\n",
       "\\textbf{Total Time Spent on Website}     &       1.0853  &        0.037     &    29.177  &         0.000        &        1.012    &        1.158     \\\\\n",
       "\\textbf{Lead Origin\\_LAF}                &       4.2328  &        0.189     &    22.360  &         0.000        &        3.862    &        4.604     \\\\\n",
       "\\textbf{Lead Origin\\_LI}                 &       0.6585  &        0.431     &     1.530  &         0.126        &       -0.185    &        1.502     \\\\\n",
       "\\textbf{Lead Source\\_Google}             &       0.3270  &        0.073     &     4.474  &         0.000        &        0.184    &        0.470     \\\\\n",
       "\\textbf{Lead Source\\_Olark}              &       1.0997  &        0.101     &    10.855  &         0.000        &        0.901    &        1.298     \\\\\n",
       "\\textbf{Last Activity\\_Olark Chat}       &      -1.6089  &        0.160     &   -10.035  &         0.000        &       -1.923    &       -1.295     \\\\\n",
       "\\textbf{Last Activity\\_Unreach}          &      -1.2698  &        0.567     &    -2.241  &         0.025        &       -2.381    &       -0.159     \\\\\n",
       "\\textbf{Last Activity\\_Visit}            &      -0.4002  &        0.204     &    -1.959  &         0.050        &       -0.801    &        0.000     \\\\\n",
       "\\textbf{Last Notable Activity\\_Modified} &      -1.5410  &        0.086     &   -17.874  &         0.000        &       -1.710    &       -1.372     \\\\\n",
       "\\textbf{Last Notable Activity\\_Open}     &      -1.1390  &        0.079     &   -14.501  &         0.000        &       -1.293    &       -0.985     \\\\\n",
       "\\textbf{Last Notable Activity\\_Unreach}  &       2.0799  &        0.766     &     2.716  &         0.007        &        0.579    &        3.581     \\\\\n",
       "\\textbf{Last Notable Activity\\_Visit}    &      -1.0222  &        0.268     &    -3.821  &         0.000        &       -1.547    &       -0.498     \\\\\n",
       "\\bottomrule\n",
       "\\end{tabular}\n",
       "%\\caption{Generalized Linear Model Regression Results}\n",
       "\\end{center}"
      ],
      "text/plain": [
       "<class 'statsmodels.iolib.summary.Summary'>\n",
       "\"\"\"\n",
       "                 Generalized Linear Model Regression Results                  \n",
       "==============================================================================\n",
       "Dep. Variable:              Converted   No. Observations:                 6468\n",
       "Model:                            GLM   Df Residuals:                     6455\n",
       "Model Family:                Binomial   Df Model:                           12\n",
       "Link Function:                  Logit   Scale:                          1.0000\n",
       "Method:                          IRLS   Log-Likelihood:                -3014.4\n",
       "Date:                Wed, 17 Jul 2024   Deviance:                       6028.9\n",
       "Time:                        00:10:31   Pearson chi2:                 6.78e+03\n",
       "No. Iterations:                     6   Pseudo R-squ. (CS):             0.3296\n",
       "Covariance Type:            nonrobust                                         \n",
       "==================================================================================================\n",
       "                                     coef    std err          z      P>|z|      [0.025      0.975]\n",
       "--------------------------------------------------------------------------------------------------\n",
       "const                             -0.0745      0.067     -1.112      0.266      -0.206       0.057\n",
       "Total Time Spent on Website        1.0853      0.037     29.177      0.000       1.012       1.158\n",
       "Lead Origin_LAF                    4.2328      0.189     22.360      0.000       3.862       4.604\n",
       "Lead Origin_LI                     0.6585      0.431      1.530      0.126      -0.185       1.502\n",
       "Lead Source_Google                 0.3270      0.073      4.474      0.000       0.184       0.470\n",
       "Lead Source_Olark                  1.0997      0.101     10.855      0.000       0.901       1.298\n",
       "Last Activity_Olark Chat          -1.6089      0.160    -10.035      0.000      -1.923      -1.295\n",
       "Last Activity_Unreach             -1.2698      0.567     -2.241      0.025      -2.381      -0.159\n",
       "Last Activity_Visit               -0.4002      0.204     -1.959      0.050      -0.801       0.000\n",
       "Last Notable Activity_Modified    -1.5410      0.086    -17.874      0.000      -1.710      -1.372\n",
       "Last Notable Activity_Open        -1.1390      0.079    -14.501      0.000      -1.293      -0.985\n",
       "Last Notable Activity_Unreach      2.0799      0.766      2.716      0.007       0.579       3.581\n",
       "Last Notable Activity_Visit       -1.0222      0.268     -3.821      0.000      -1.547      -0.498\n",
       "==================================================================================================\n",
       "\"\"\""
      ]
     },
     "execution_count": 364,
     "metadata": {},
     "output_type": "execute_result"
    }
   ],
   "source": [
    "X_train_sm = sm.add_constant(X_train[col])\n",
    "logm2 = sm.GLM(y_train,X_train_sm, family = sm.families.Binomial())\n",
    "res = logm2.fit()\n",
    "res.summary()"
   ]
  },
  {
   "cell_type": "code",
   "execution_count": 365,
   "metadata": {},
   "outputs": [
    {
     "data": {
      "text/plain": [
       "4715    0.254075\n",
       "7132    0.572449\n",
       "8954    0.432358\n",
       "5283    0.482829\n",
       "3003    0.524853\n",
       "478     0.043610\n",
       "1352    0.647561\n",
       "3166    0.387889\n",
       "7700    0.238065\n",
       "2647    0.043610\n",
       "dtype: float64"
      ]
     },
     "execution_count": 365,
     "metadata": {},
     "output_type": "execute_result"
    }
   ],
   "source": [
    "# Getting the predicted values on the train set\n",
    "y_train_pred = res.predict(X_train_sm)\n",
    "y_train_pred[:10]"
   ]
  },
  {
   "cell_type": "code",
   "execution_count": 366,
   "metadata": {},
   "outputs": [
    {
     "data": {
      "text/plain": [
       "array([0.25407494, 0.57244937, 0.43235792, 0.48282928, 0.52485287,\n",
       "       0.04360951, 0.64756106, 0.38788917, 0.23806492, 0.04360951])"
      ]
     },
     "execution_count": 366,
     "metadata": {},
     "output_type": "execute_result"
    }
   ],
   "source": [
    "y_train_pred = y_train_pred.values.reshape(-1)\n",
    "y_train_pred[:10]"
   ]
  },
  {
   "cell_type": "markdown",
   "metadata": {},
   "source": [
    "##### Creating a dataframe with the actual lead conversion and the predicted probabilities"
   ]
  },
  {
   "cell_type": "code",
   "execution_count": 367,
   "metadata": {},
   "outputs": [
    {
     "data": {
      "text/html": [
       "<div>\n",
       "<style scoped>\n",
       "    .dataframe tbody tr th:only-of-type {\n",
       "        vertical-align: middle;\n",
       "    }\n",
       "\n",
       "    .dataframe tbody tr th {\n",
       "        vertical-align: top;\n",
       "    }\n",
       "\n",
       "    .dataframe thead th {\n",
       "        text-align: right;\n",
       "    }\n",
       "</style>\n",
       "<table border=\"1\" class=\"dataframe\">\n",
       "  <thead>\n",
       "    <tr style=\"text-align: right;\">\n",
       "      <th></th>\n",
       "      <th>Conversion</th>\n",
       "      <th>Conversion_Prob</th>\n",
       "      <th>CustID</th>\n",
       "    </tr>\n",
       "  </thead>\n",
       "  <tbody>\n",
       "    <tr>\n",
       "      <th>0</th>\n",
       "      <td>0</td>\n",
       "      <td>0.254075</td>\n",
       "      <td>4715</td>\n",
       "    </tr>\n",
       "    <tr>\n",
       "      <th>1</th>\n",
       "      <td>1</td>\n",
       "      <td>0.572449</td>\n",
       "      <td>7132</td>\n",
       "    </tr>\n",
       "    <tr>\n",
       "      <th>2</th>\n",
       "      <td>0</td>\n",
       "      <td>0.432358</td>\n",
       "      <td>8954</td>\n",
       "    </tr>\n",
       "    <tr>\n",
       "      <th>3</th>\n",
       "      <td>0</td>\n",
       "      <td>0.482829</td>\n",
       "      <td>5283</td>\n",
       "    </tr>\n",
       "    <tr>\n",
       "      <th>4</th>\n",
       "      <td>0</td>\n",
       "      <td>0.524853</td>\n",
       "      <td>3003</td>\n",
       "    </tr>\n",
       "  </tbody>\n",
       "</table>\n",
       "</div>"
      ],
      "text/plain": [
       "   Conversion  Conversion_Prob  CustID\n",
       "0           0         0.254075    4715\n",
       "1           1         0.572449    7132\n",
       "2           0         0.432358    8954\n",
       "3           0         0.482829    5283\n",
       "4           0         0.524853    3003"
      ]
     },
     "execution_count": 367,
     "metadata": {},
     "output_type": "execute_result"
    }
   ],
   "source": [
    "y_train_pred_final = pd.DataFrame({'Conversion':y_train.values, 'Conversion_Prob':y_train_pred})\n",
    "y_train_pred_final['CustID'] = y_train.index\n",
    "y_train_pred_final.head()"
   ]
  },
  {
   "cell_type": "markdown",
   "metadata": {},
   "source": [
    "##### Creating new column 'predicted' with 1 if Conversion_Prob > 0.5 else 0"
   ]
  },
  {
   "cell_type": "code",
   "execution_count": 368,
   "metadata": {},
   "outputs": [
    {
     "data": {
      "text/html": [
       "<div>\n",
       "<style scoped>\n",
       "    .dataframe tbody tr th:only-of-type {\n",
       "        vertical-align: middle;\n",
       "    }\n",
       "\n",
       "    .dataframe tbody tr th {\n",
       "        vertical-align: top;\n",
       "    }\n",
       "\n",
       "    .dataframe thead th {\n",
       "        text-align: right;\n",
       "    }\n",
       "</style>\n",
       "<table border=\"1\" class=\"dataframe\">\n",
       "  <thead>\n",
       "    <tr style=\"text-align: right;\">\n",
       "      <th></th>\n",
       "      <th>Conversion</th>\n",
       "      <th>Conversion_Prob</th>\n",
       "      <th>CustID</th>\n",
       "      <th>predicted</th>\n",
       "    </tr>\n",
       "  </thead>\n",
       "  <tbody>\n",
       "    <tr>\n",
       "      <th>0</th>\n",
       "      <td>0</td>\n",
       "      <td>0.254075</td>\n",
       "      <td>4715</td>\n",
       "      <td>0</td>\n",
       "    </tr>\n",
       "    <tr>\n",
       "      <th>1</th>\n",
       "      <td>1</td>\n",
       "      <td>0.572449</td>\n",
       "      <td>7132</td>\n",
       "      <td>1</td>\n",
       "    </tr>\n",
       "    <tr>\n",
       "      <th>2</th>\n",
       "      <td>0</td>\n",
       "      <td>0.432358</td>\n",
       "      <td>8954</td>\n",
       "      <td>0</td>\n",
       "    </tr>\n",
       "    <tr>\n",
       "      <th>3</th>\n",
       "      <td>0</td>\n",
       "      <td>0.482829</td>\n",
       "      <td>5283</td>\n",
       "      <td>0</td>\n",
       "    </tr>\n",
       "    <tr>\n",
       "      <th>4</th>\n",
       "      <td>0</td>\n",
       "      <td>0.524853</td>\n",
       "      <td>3003</td>\n",
       "      <td>1</td>\n",
       "    </tr>\n",
       "  </tbody>\n",
       "</table>\n",
       "</div>"
      ],
      "text/plain": [
       "   Conversion  Conversion_Prob  CustID  predicted\n",
       "0           0         0.254075    4715          0\n",
       "1           1         0.572449    7132          1\n",
       "2           0         0.432358    8954          0\n",
       "3           0         0.482829    5283          0\n",
       "4           0         0.524853    3003          1"
      ]
     },
     "execution_count": 368,
     "metadata": {},
     "output_type": "execute_result"
    }
   ],
   "source": [
    "y_train_pred_final['predicted'] = y_train_pred_final.Conversion_Prob.map(lambda x: 1 if x > 0.5 else 0)\n",
    "\n",
    "# Let's see the head\n",
    "y_train_pred_final.head()"
   ]
  },
  {
   "cell_type": "code",
   "execution_count": 369,
   "metadata": {},
   "outputs": [],
   "source": [
    "from sklearn import metrics"
   ]
  },
  {
   "cell_type": "code",
   "execution_count": 370,
   "metadata": {},
   "outputs": [
    {
     "name": "stdout",
     "output_type": "stream",
     "text": [
      "[[3432  552]\n",
      " [ 824 1660]]\n"
     ]
    }
   ],
   "source": [
    "# Confusion matrix \n",
    "confusion = metrics.confusion_matrix(y_train_pred_final.Conversion, y_train_pred_final.predicted )\n",
    "print(confusion)"
   ]
  },
  {
   "cell_type": "code",
   "execution_count": 371,
   "metadata": {},
   "outputs": [],
   "source": [
    "# [[3439  545]\n",
    "# [ 817 1667]]\n",
    "# True Positives (TP): 1667 (Predicted Converted and actually Converted)\n",
    "# True Negatives (TN): 3439 (Predicted Not Converted and actually Not Converted)\n",
    "# False Positives (FP): 545 (Predicted Converted but actually Not Converted)\n",
    "# False Negatives (FN): 817 (Predicted Not Converted but actually Converted)"
   ]
  },
  {
   "cell_type": "code",
   "execution_count": 372,
   "metadata": {},
   "outputs": [
    {
     "name": "stdout",
     "output_type": "stream",
     "text": [
      "0.7872603586889301\n"
     ]
    }
   ],
   "source": [
    "# Let's check the overall accuracy.\n",
    "print(metrics.accuracy_score(y_train_pred_final.Conversion, y_train_pred_final.predicted))"
   ]
  },
  {
   "cell_type": "markdown",
   "metadata": {},
   "source": [
    "#### Checking VIFs"
   ]
  },
  {
   "cell_type": "markdown",
   "metadata": {},
   "source": []
  },
  {
   "cell_type": "code",
   "execution_count": 373,
   "metadata": {},
   "outputs": [],
   "source": [
    "# Check for the VIF values of the feature variables. \n",
    "from statsmodels.stats.outliers_influence import variance_inflation_factor"
   ]
  },
  {
   "cell_type": "code",
   "execution_count": 374,
   "metadata": {},
   "outputs": [],
   "source": [
    "def calculate_vif(df, col_names):\n",
    "    \"\"\"\n",
    "    Calculate VIF for the columns in the DataFrame.\n",
    "\n",
    "    Parameters:\n",
    "    - df: DataFrame containing the data.\n",
    "    - col_names: List of column names for which VIF needs to be calculated.\n",
    "\n",
    "    Returns:\n",
    "    - DataFrame with columns 'Features' and 'VIF' sorted by VIF in descending order.\n",
    "    \"\"\"\n",
    "    # Subset the DataFrame with the specified columns\n",
    "    df_subset = df[col_names]\n",
    "    \n",
    "    # Calculate VIF for each column\n",
    "    vif_data = pd.DataFrame()\n",
    "    vif_data['Features'] = df_subset.columns\n",
    "    vif_data['VIF'] = [variance_inflation_factor(df_subset.values, i) for i in range(df_subset.shape[1])]\n",
    "    vif_data['VIF'] = round(vif_data['VIF'], 2)\n",
    "    \n",
    "    # Sort by VIF in descending order\n",
    "    vif_data = vif_data.sort_values(by='VIF', ascending=False).reset_index(drop=True)\n",
    "    \n",
    "    return vif_data\n"
   ]
  },
  {
   "cell_type": "code",
   "execution_count": 375,
   "metadata": {},
   "outputs": [
    {
     "name": "stdout",
     "output_type": "stream",
     "text": [
      "                          Features   VIF\n",
      "0              Last Activity_Visit  2.41\n",
      "1      Last Notable Activity_Visit  2.30\n",
      "2   Last Notable Activity_Modified  1.76\n",
      "3                Lead Source_Olark  1.70\n",
      "4            Last Activity_Unreach  1.64\n",
      "5    Last Notable Activity_Unreach  1.62\n",
      "6         Last Activity_Olark Chat  1.58\n",
      "7               Lead Source_Google  1.42\n",
      "8       Last Notable Activity_Open  1.31\n",
      "9      Total Time Spent on Website  1.20\n",
      "10                 Lead Origin_LAF  1.09\n",
      "11                  Lead Origin_LI  1.02\n"
     ]
    }
   ],
   "source": [
    "vif_result = calculate_vif(X_train, col)\n",
    "print(vif_result)"
   ]
  },
  {
   "cell_type": "code",
   "execution_count": 376,
   "metadata": {},
   "outputs": [
    {
     "data": {
      "text/html": [
       "<table class=\"simpletable\">\n",
       "<caption>Generalized Linear Model Regression Results</caption>\n",
       "<tr>\n",
       "  <th>Dep. Variable:</th>       <td>Converted</td>    <th>  No. Observations:  </th>  <td>  6468</td> \n",
       "</tr>\n",
       "<tr>\n",
       "  <th>Model:</th>                  <td>GLM</td>       <th>  Df Residuals:      </th>  <td>  6455</td> \n",
       "</tr>\n",
       "<tr>\n",
       "  <th>Model Family:</th>        <td>Binomial</td>     <th>  Df Model:          </th>  <td>    12</td> \n",
       "</tr>\n",
       "<tr>\n",
       "  <th>Link Function:</th>         <td>Logit</td>      <th>  Scale:             </th> <td>  1.0000</td>\n",
       "</tr>\n",
       "<tr>\n",
       "  <th>Method:</th>                <td>IRLS</td>       <th>  Log-Likelihood:    </th> <td> -3014.4</td>\n",
       "</tr>\n",
       "<tr>\n",
       "  <th>Date:</th>            <td>Wed, 17 Jul 2024</td> <th>  Deviance:          </th> <td>  6028.9</td>\n",
       "</tr>\n",
       "<tr>\n",
       "  <th>Time:</th>                <td>00:10:33</td>     <th>  Pearson chi2:      </th> <td>6.78e+03</td>\n",
       "</tr>\n",
       "<tr>\n",
       "  <th>No. Iterations:</th>          <td>6</td>        <th>  Pseudo R-squ. (CS):</th>  <td>0.3296</td> \n",
       "</tr>\n",
       "<tr>\n",
       "  <th>Covariance Type:</th>     <td>nonrobust</td>    <th>                     </th>     <td> </td>   \n",
       "</tr>\n",
       "</table>\n",
       "<table class=\"simpletable\">\n",
       "<tr>\n",
       "                 <td></td>                   <th>coef</th>     <th>std err</th>      <th>z</th>      <th>P>|z|</th>  <th>[0.025</th>    <th>0.975]</th>  \n",
       "</tr>\n",
       "<tr>\n",
       "  <th>const</th>                          <td>   -0.0745</td> <td>    0.067</td> <td>   -1.112</td> <td> 0.266</td> <td>   -0.206</td> <td>    0.057</td>\n",
       "</tr>\n",
       "<tr>\n",
       "  <th>Total Time Spent on Website</th>    <td>    1.0853</td> <td>    0.037</td> <td>   29.177</td> <td> 0.000</td> <td>    1.012</td> <td>    1.158</td>\n",
       "</tr>\n",
       "<tr>\n",
       "  <th>Lead Origin_LAF</th>                <td>    4.2328</td> <td>    0.189</td> <td>   22.360</td> <td> 0.000</td> <td>    3.862</td> <td>    4.604</td>\n",
       "</tr>\n",
       "<tr>\n",
       "  <th>Lead Origin_LI</th>                 <td>    0.6585</td> <td>    0.431</td> <td>    1.530</td> <td> 0.126</td> <td>   -0.185</td> <td>    1.502</td>\n",
       "</tr>\n",
       "<tr>\n",
       "  <th>Lead Source_Google</th>             <td>    0.3270</td> <td>    0.073</td> <td>    4.474</td> <td> 0.000</td> <td>    0.184</td> <td>    0.470</td>\n",
       "</tr>\n",
       "<tr>\n",
       "  <th>Lead Source_Olark</th>              <td>    1.0997</td> <td>    0.101</td> <td>   10.855</td> <td> 0.000</td> <td>    0.901</td> <td>    1.298</td>\n",
       "</tr>\n",
       "<tr>\n",
       "  <th>Last Activity_Olark Chat</th>       <td>   -1.6089</td> <td>    0.160</td> <td>  -10.035</td> <td> 0.000</td> <td>   -1.923</td> <td>   -1.295</td>\n",
       "</tr>\n",
       "<tr>\n",
       "  <th>Last Activity_Unreach</th>          <td>   -1.2698</td> <td>    0.567</td> <td>   -2.241</td> <td> 0.025</td> <td>   -2.381</td> <td>   -0.159</td>\n",
       "</tr>\n",
       "<tr>\n",
       "  <th>Last Activity_Visit</th>            <td>   -0.4002</td> <td>    0.204</td> <td>   -1.959</td> <td> 0.050</td> <td>   -0.801</td> <td>    0.000</td>\n",
       "</tr>\n",
       "<tr>\n",
       "  <th>Last Notable Activity_Modified</th> <td>   -1.5410</td> <td>    0.086</td> <td>  -17.874</td> <td> 0.000</td> <td>   -1.710</td> <td>   -1.372</td>\n",
       "</tr>\n",
       "<tr>\n",
       "  <th>Last Notable Activity_Open</th>     <td>   -1.1390</td> <td>    0.079</td> <td>  -14.501</td> <td> 0.000</td> <td>   -1.293</td> <td>   -0.985</td>\n",
       "</tr>\n",
       "<tr>\n",
       "  <th>Last Notable Activity_Unreach</th>  <td>    2.0799</td> <td>    0.766</td> <td>    2.716</td> <td> 0.007</td> <td>    0.579</td> <td>    3.581</td>\n",
       "</tr>\n",
       "<tr>\n",
       "  <th>Last Notable Activity_Visit</th>    <td>   -1.0222</td> <td>    0.268</td> <td>   -3.821</td> <td> 0.000</td> <td>   -1.547</td> <td>   -0.498</td>\n",
       "</tr>\n",
       "</table>"
      ],
      "text/latex": [
       "\\begin{center}\n",
       "\\begin{tabular}{lclc}\n",
       "\\toprule\n",
       "\\textbf{Dep. Variable:}                  &    Converted     & \\textbf{  No. Observations:  } &     6468    \\\\\n",
       "\\textbf{Model:}                          &       GLM        & \\textbf{  Df Residuals:      } &     6455    \\\\\n",
       "\\textbf{Model Family:}                   &     Binomial     & \\textbf{  Df Model:          } &       12    \\\\\n",
       "\\textbf{Link Function:}                  &      Logit       & \\textbf{  Scale:             } &    1.0000   \\\\\n",
       "\\textbf{Method:}                         &       IRLS       & \\textbf{  Log-Likelihood:    } &   -3014.4   \\\\\n",
       "\\textbf{Date:}                           & Wed, 17 Jul 2024 & \\textbf{  Deviance:          } &    6028.9   \\\\\n",
       "\\textbf{Time:}                           &     00:10:33     & \\textbf{  Pearson chi2:      } &  6.78e+03   \\\\\n",
       "\\textbf{No. Iterations:}                 &        6         & \\textbf{  Pseudo R-squ. (CS):} &   0.3296    \\\\\n",
       "\\textbf{Covariance Type:}                &    nonrobust     & \\textbf{                     } &             \\\\\n",
       "\\bottomrule\n",
       "\\end{tabular}\n",
       "\\begin{tabular}{lcccccc}\n",
       "                                         & \\textbf{coef} & \\textbf{std err} & \\textbf{z} & \\textbf{P$> |$z$|$} & \\textbf{[0.025} & \\textbf{0.975]}  \\\\\n",
       "\\midrule\n",
       "\\textbf{const}                           &      -0.0745  &        0.067     &    -1.112  &         0.266        &       -0.206    &        0.057     \\\\\n",
       "\\textbf{Total Time Spent on Website}     &       1.0853  &        0.037     &    29.177  &         0.000        &        1.012    &        1.158     \\\\\n",
       "\\textbf{Lead Origin\\_LAF}                &       4.2328  &        0.189     &    22.360  &         0.000        &        3.862    &        4.604     \\\\\n",
       "\\textbf{Lead Origin\\_LI}                 &       0.6585  &        0.431     &     1.530  &         0.126        &       -0.185    &        1.502     \\\\\n",
       "\\textbf{Lead Source\\_Google}             &       0.3270  &        0.073     &     4.474  &         0.000        &        0.184    &        0.470     \\\\\n",
       "\\textbf{Lead Source\\_Olark}              &       1.0997  &        0.101     &    10.855  &         0.000        &        0.901    &        1.298     \\\\\n",
       "\\textbf{Last Activity\\_Olark Chat}       &      -1.6089  &        0.160     &   -10.035  &         0.000        &       -1.923    &       -1.295     \\\\\n",
       "\\textbf{Last Activity\\_Unreach}          &      -1.2698  &        0.567     &    -2.241  &         0.025        &       -2.381    &       -0.159     \\\\\n",
       "\\textbf{Last Activity\\_Visit}            &      -0.4002  &        0.204     &    -1.959  &         0.050        &       -0.801    &        0.000     \\\\\n",
       "\\textbf{Last Notable Activity\\_Modified} &      -1.5410  &        0.086     &   -17.874  &         0.000        &       -1.710    &       -1.372     \\\\\n",
       "\\textbf{Last Notable Activity\\_Open}     &      -1.1390  &        0.079     &   -14.501  &         0.000        &       -1.293    &       -0.985     \\\\\n",
       "\\textbf{Last Notable Activity\\_Unreach}  &       2.0799  &        0.766     &     2.716  &         0.007        &        0.579    &        3.581     \\\\\n",
       "\\textbf{Last Notable Activity\\_Visit}    &      -1.0222  &        0.268     &    -3.821  &         0.000        &       -1.547    &       -0.498     \\\\\n",
       "\\bottomrule\n",
       "\\end{tabular}\n",
       "%\\caption{Generalized Linear Model Regression Results}\n",
       "\\end{center}"
      ],
      "text/plain": [
       "<class 'statsmodels.iolib.summary.Summary'>\n",
       "\"\"\"\n",
       "                 Generalized Linear Model Regression Results                  \n",
       "==============================================================================\n",
       "Dep. Variable:              Converted   No. Observations:                 6468\n",
       "Model:                            GLM   Df Residuals:                     6455\n",
       "Model Family:                Binomial   Df Model:                           12\n",
       "Link Function:                  Logit   Scale:                          1.0000\n",
       "Method:                          IRLS   Log-Likelihood:                -3014.4\n",
       "Date:                Wed, 17 Jul 2024   Deviance:                       6028.9\n",
       "Time:                        00:10:33   Pearson chi2:                 6.78e+03\n",
       "No. Iterations:                     6   Pseudo R-squ. (CS):             0.3296\n",
       "Covariance Type:            nonrobust                                         \n",
       "==================================================================================================\n",
       "                                     coef    std err          z      P>|z|      [0.025      0.975]\n",
       "--------------------------------------------------------------------------------------------------\n",
       "const                             -0.0745      0.067     -1.112      0.266      -0.206       0.057\n",
       "Total Time Spent on Website        1.0853      0.037     29.177      0.000       1.012       1.158\n",
       "Lead Origin_LAF                    4.2328      0.189     22.360      0.000       3.862       4.604\n",
       "Lead Origin_LI                     0.6585      0.431      1.530      0.126      -0.185       1.502\n",
       "Lead Source_Google                 0.3270      0.073      4.474      0.000       0.184       0.470\n",
       "Lead Source_Olark                  1.0997      0.101     10.855      0.000       0.901       1.298\n",
       "Last Activity_Olark Chat          -1.6089      0.160    -10.035      0.000      -1.923      -1.295\n",
       "Last Activity_Unreach             -1.2698      0.567     -2.241      0.025      -2.381      -0.159\n",
       "Last Activity_Visit               -0.4002      0.204     -1.959      0.050      -0.801       0.000\n",
       "Last Notable Activity_Modified    -1.5410      0.086    -17.874      0.000      -1.710      -1.372\n",
       "Last Notable Activity_Open        -1.1390      0.079    -14.501      0.000      -1.293      -0.985\n",
       "Last Notable Activity_Unreach      2.0799      0.766      2.716      0.007       0.579       3.581\n",
       "Last Notable Activity_Visit       -1.0222      0.268     -3.821      0.000      -1.547      -0.498\n",
       "==================================================================================================\n",
       "\"\"\""
      ]
     },
     "execution_count": 376,
     "metadata": {},
     "output_type": "execute_result"
    }
   ],
   "source": [
    "# Let's re-run the model using the selected variables\n",
    "X_train_sm = sm.add_constant(X_train[col])\n",
    "logm3 = sm.GLM(y_train,X_train_sm, family = sm.families.Binomial())\n",
    "res = logm3.fit()\n",
    "res.summary()"
   ]
  },
  {
   "cell_type": "markdown",
   "metadata": {},
   "source": [
    "**Lead Origin_LI** has P value>0.05 lets drop it to run the model again. "
   ]
  },
  {
   "cell_type": "code",
   "execution_count": 377,
   "metadata": {},
   "outputs": [],
   "source": [
    "col=col.drop(\"Lead Origin_LI\",1)"
   ]
  },
  {
   "cell_type": "code",
   "execution_count": 378,
   "metadata": {},
   "outputs": [
    {
     "name": "stdout",
     "output_type": "stream",
     "text": [
      "                          Features   VIF\n",
      "0              Last Activity_Visit  2.40\n",
      "1      Last Notable Activity_Visit  2.29\n",
      "2   Last Notable Activity_Modified  1.74\n",
      "3                Lead Source_Olark  1.69\n",
      "4            Last Activity_Unreach  1.64\n",
      "5    Last Notable Activity_Unreach  1.62\n",
      "6         Last Activity_Olark Chat  1.58\n",
      "7               Lead Source_Google  1.41\n",
      "8       Last Notable Activity_Open  1.30\n",
      "9      Total Time Spent on Website  1.20\n",
      "10                 Lead Origin_LAF  1.09\n"
     ]
    }
   ],
   "source": [
    "vif_result = calculate_vif(X_train, col)\n",
    "print(vif_result)"
   ]
  },
  {
   "cell_type": "code",
   "execution_count": 379,
   "metadata": {},
   "outputs": [
    {
     "data": {
      "text/html": [
       "<table class=\"simpletable\">\n",
       "<caption>Generalized Linear Model Regression Results</caption>\n",
       "<tr>\n",
       "  <th>Dep. Variable:</th>       <td>Converted</td>    <th>  No. Observations:  </th>  <td>  6468</td> \n",
       "</tr>\n",
       "<tr>\n",
       "  <th>Model:</th>                  <td>GLM</td>       <th>  Df Residuals:      </th>  <td>  6456</td> \n",
       "</tr>\n",
       "<tr>\n",
       "  <th>Model Family:</th>        <td>Binomial</td>     <th>  Df Model:          </th>  <td>    11</td> \n",
       "</tr>\n",
       "<tr>\n",
       "  <th>Link Function:</th>         <td>Logit</td>      <th>  Scale:             </th> <td>  1.0000</td>\n",
       "</tr>\n",
       "<tr>\n",
       "  <th>Method:</th>                <td>IRLS</td>       <th>  Log-Likelihood:    </th> <td> -3015.5</td>\n",
       "</tr>\n",
       "<tr>\n",
       "  <th>Date:</th>            <td>Wed, 17 Jul 2024</td> <th>  Deviance:          </th> <td>  6030.9</td>\n",
       "</tr>\n",
       "<tr>\n",
       "  <th>Time:</th>                <td>00:10:33</td>     <th>  Pearson chi2:      </th> <td>6.79e+03</td>\n",
       "</tr>\n",
       "<tr>\n",
       "  <th>No. Iterations:</th>          <td>6</td>        <th>  Pseudo R-squ. (CS):</th>  <td>0.3294</td> \n",
       "</tr>\n",
       "<tr>\n",
       "  <th>Covariance Type:</th>     <td>nonrobust</td>    <th>                     </th>     <td> </td>   \n",
       "</tr>\n",
       "</table>\n",
       "<table class=\"simpletable\">\n",
       "<tr>\n",
       "                 <td></td>                   <th>coef</th>     <th>std err</th>      <th>z</th>      <th>P>|z|</th>  <th>[0.025</th>    <th>0.975]</th>  \n",
       "</tr>\n",
       "<tr>\n",
       "  <th>const</th>                          <td>   -0.0697</td> <td>    0.067</td> <td>   -1.042</td> <td> 0.297</td> <td>   -0.201</td> <td>    0.061</td>\n",
       "</tr>\n",
       "<tr>\n",
       "  <th>Total Time Spent on Website</th>    <td>    1.0818</td> <td>    0.037</td> <td>   29.171</td> <td> 0.000</td> <td>    1.009</td> <td>    1.155</td>\n",
       "</tr>\n",
       "<tr>\n",
       "  <th>Lead Origin_LAF</th>                <td>    4.2206</td> <td>    0.189</td> <td>   22.326</td> <td> 0.000</td> <td>    3.850</td> <td>    4.591</td>\n",
       "</tr>\n",
       "<tr>\n",
       "  <th>Lead Source_Google</th>             <td>    0.3203</td> <td>    0.073</td> <td>    4.394</td> <td> 0.000</td> <td>    0.177</td> <td>    0.463</td>\n",
       "</tr>\n",
       "<tr>\n",
       "  <th>Lead Source_Olark</th>              <td>    1.0891</td> <td>    0.101</td> <td>   10.788</td> <td> 0.000</td> <td>    0.891</td> <td>    1.287</td>\n",
       "</tr>\n",
       "<tr>\n",
       "  <th>Last Activity_Olark Chat</th>       <td>   -1.6112</td> <td>    0.160</td> <td>  -10.057</td> <td> 0.000</td> <td>   -1.925</td> <td>   -1.297</td>\n",
       "</tr>\n",
       "<tr>\n",
       "  <th>Last Activity_Unreach</th>          <td>   -1.2763</td> <td>    0.566</td> <td>   -2.254</td> <td> 0.024</td> <td>   -2.386</td> <td>   -0.166</td>\n",
       "</tr>\n",
       "<tr>\n",
       "  <th>Last Activity_Visit</th>            <td>   -0.4080</td> <td>    0.204</td> <td>   -1.999</td> <td> 0.046</td> <td>   -0.808</td> <td>   -0.008</td>\n",
       "</tr>\n",
       "<tr>\n",
       "  <th>Last Notable Activity_Modified</th> <td>   -1.5324</td> <td>    0.086</td> <td>  -17.831</td> <td> 0.000</td> <td>   -1.701</td> <td>   -1.364</td>\n",
       "</tr>\n",
       "<tr>\n",
       "  <th>Last Notable Activity_Open</th>     <td>   -1.1349</td> <td>    0.078</td> <td>  -14.465</td> <td> 0.000</td> <td>   -1.289</td> <td>   -0.981</td>\n",
       "</tr>\n",
       "<tr>\n",
       "  <th>Last Notable Activity_Unreach</th>  <td>    2.0854</td> <td>    0.765</td> <td>    2.725</td> <td> 0.006</td> <td>    0.585</td> <td>    3.586</td>\n",
       "</tr>\n",
       "<tr>\n",
       "  <th>Last Notable Activity_Visit</th>    <td>   -1.0144</td> <td>    0.267</td> <td>   -3.795</td> <td> 0.000</td> <td>   -1.538</td> <td>   -0.491</td>\n",
       "</tr>\n",
       "</table>"
      ],
      "text/latex": [
       "\\begin{center}\n",
       "\\begin{tabular}{lclc}\n",
       "\\toprule\n",
       "\\textbf{Dep. Variable:}                  &    Converted     & \\textbf{  No. Observations:  } &     6468    \\\\\n",
       "\\textbf{Model:}                          &       GLM        & \\textbf{  Df Residuals:      } &     6456    \\\\\n",
       "\\textbf{Model Family:}                   &     Binomial     & \\textbf{  Df Model:          } &       11    \\\\\n",
       "\\textbf{Link Function:}                  &      Logit       & \\textbf{  Scale:             } &    1.0000   \\\\\n",
       "\\textbf{Method:}                         &       IRLS       & \\textbf{  Log-Likelihood:    } &   -3015.5   \\\\\n",
       "\\textbf{Date:}                           & Wed, 17 Jul 2024 & \\textbf{  Deviance:          } &    6030.9   \\\\\n",
       "\\textbf{Time:}                           &     00:10:33     & \\textbf{  Pearson chi2:      } &  6.79e+03   \\\\\n",
       "\\textbf{No. Iterations:}                 &        6         & \\textbf{  Pseudo R-squ. (CS):} &   0.3294    \\\\\n",
       "\\textbf{Covariance Type:}                &    nonrobust     & \\textbf{                     } &             \\\\\n",
       "\\bottomrule\n",
       "\\end{tabular}\n",
       "\\begin{tabular}{lcccccc}\n",
       "                                         & \\textbf{coef} & \\textbf{std err} & \\textbf{z} & \\textbf{P$> |$z$|$} & \\textbf{[0.025} & \\textbf{0.975]}  \\\\\n",
       "\\midrule\n",
       "\\textbf{const}                           &      -0.0697  &        0.067     &    -1.042  &         0.297        &       -0.201    &        0.061     \\\\\n",
       "\\textbf{Total Time Spent on Website}     &       1.0818  &        0.037     &    29.171  &         0.000        &        1.009    &        1.155     \\\\\n",
       "\\textbf{Lead Origin\\_LAF}                &       4.2206  &        0.189     &    22.326  &         0.000        &        3.850    &        4.591     \\\\\n",
       "\\textbf{Lead Source\\_Google}             &       0.3203  &        0.073     &     4.394  &         0.000        &        0.177    &        0.463     \\\\\n",
       "\\textbf{Lead Source\\_Olark}              &       1.0891  &        0.101     &    10.788  &         0.000        &        0.891    &        1.287     \\\\\n",
       "\\textbf{Last Activity\\_Olark Chat}       &      -1.6112  &        0.160     &   -10.057  &         0.000        &       -1.925    &       -1.297     \\\\\n",
       "\\textbf{Last Activity\\_Unreach}          &      -1.2763  &        0.566     &    -2.254  &         0.024        &       -2.386    &       -0.166     \\\\\n",
       "\\textbf{Last Activity\\_Visit}            &      -0.4080  &        0.204     &    -1.999  &         0.046        &       -0.808    &       -0.008     \\\\\n",
       "\\textbf{Last Notable Activity\\_Modified} &      -1.5324  &        0.086     &   -17.831  &         0.000        &       -1.701    &       -1.364     \\\\\n",
       "\\textbf{Last Notable Activity\\_Open}     &      -1.1349  &        0.078     &   -14.465  &         0.000        &       -1.289    &       -0.981     \\\\\n",
       "\\textbf{Last Notable Activity\\_Unreach}  &       2.0854  &        0.765     &     2.725  &         0.006        &        0.585    &        3.586     \\\\\n",
       "\\textbf{Last Notable Activity\\_Visit}    &      -1.0144  &        0.267     &    -3.795  &         0.000        &       -1.538    &       -0.491     \\\\\n",
       "\\bottomrule\n",
       "\\end{tabular}\n",
       "%\\caption{Generalized Linear Model Regression Results}\n",
       "\\end{center}"
      ],
      "text/plain": [
       "<class 'statsmodels.iolib.summary.Summary'>\n",
       "\"\"\"\n",
       "                 Generalized Linear Model Regression Results                  \n",
       "==============================================================================\n",
       "Dep. Variable:              Converted   No. Observations:                 6468\n",
       "Model:                            GLM   Df Residuals:                     6456\n",
       "Model Family:                Binomial   Df Model:                           11\n",
       "Link Function:                  Logit   Scale:                          1.0000\n",
       "Method:                          IRLS   Log-Likelihood:                -3015.5\n",
       "Date:                Wed, 17 Jul 2024   Deviance:                       6030.9\n",
       "Time:                        00:10:33   Pearson chi2:                 6.79e+03\n",
       "No. Iterations:                     6   Pseudo R-squ. (CS):             0.3294\n",
       "Covariance Type:            nonrobust                                         \n",
       "==================================================================================================\n",
       "                                     coef    std err          z      P>|z|      [0.025      0.975]\n",
       "--------------------------------------------------------------------------------------------------\n",
       "const                             -0.0697      0.067     -1.042      0.297      -0.201       0.061\n",
       "Total Time Spent on Website        1.0818      0.037     29.171      0.000       1.009       1.155\n",
       "Lead Origin_LAF                    4.2206      0.189     22.326      0.000       3.850       4.591\n",
       "Lead Source_Google                 0.3203      0.073      4.394      0.000       0.177       0.463\n",
       "Lead Source_Olark                  1.0891      0.101     10.788      0.000       0.891       1.287\n",
       "Last Activity_Olark Chat          -1.6112      0.160    -10.057      0.000      -1.925      -1.297\n",
       "Last Activity_Unreach             -1.2763      0.566     -2.254      0.024      -2.386      -0.166\n",
       "Last Activity_Visit               -0.4080      0.204     -1.999      0.046      -0.808      -0.008\n",
       "Last Notable Activity_Modified    -1.5324      0.086    -17.831      0.000      -1.701      -1.364\n",
       "Last Notable Activity_Open        -1.1349      0.078    -14.465      0.000      -1.289      -0.981\n",
       "Last Notable Activity_Unreach      2.0854      0.765      2.725      0.006       0.585       3.586\n",
       "Last Notable Activity_Visit       -1.0144      0.267     -3.795      0.000      -1.538      -0.491\n",
       "==================================================================================================\n",
       "\"\"\""
      ]
     },
     "execution_count": 379,
     "metadata": {},
     "output_type": "execute_result"
    }
   ],
   "source": [
    "# Let's re-run the model using the selected variables\n",
    "X_train_sm = sm.add_constant(X_train[col])\n",
    "logm4 = sm.GLM(y_train,X_train_sm, family = sm.families.Binomial())\n",
    "res = logm4.fit()\n",
    "res.summary()"
   ]
  },
  {
   "cell_type": "markdown",
   "metadata": {},
   "source": [
    "All variables have a good value of VIF and P value<0.05. So we need not drop any more variables and we can proceed with making predictions using this model only"
   ]
  },
  {
   "cell_type": "code",
   "execution_count": 380,
   "metadata": {},
   "outputs": [],
   "source": [
    "y_train_pred = res.predict(X_train_sm).values.reshape(-1)"
   ]
  },
  {
   "cell_type": "code",
   "execution_count": 381,
   "metadata": {},
   "outputs": [
    {
     "data": {
      "text/plain": [
       "array([0.25432868, 0.57342847, 0.43368652, 0.48288249, 0.52683036,\n",
       "       0.04376007, 0.64824183, 0.38931539, 0.23860256, 0.04376007])"
      ]
     },
     "execution_count": 381,
     "metadata": {},
     "output_type": "execute_result"
    }
   ],
   "source": [
    "y_train_pred[:10]"
   ]
  },
  {
   "cell_type": "code",
   "execution_count": 382,
   "metadata": {},
   "outputs": [],
   "source": [
    "y_train_pred_final['Conversion_Prob'] = y_train_pred"
   ]
  },
  {
   "cell_type": "markdown",
   "metadata": {},
   "source": [
    "##### Creating a dataframe with the actual lead conversion and the predicted probabilities"
   ]
  },
  {
   "cell_type": "code",
   "execution_count": 383,
   "metadata": {},
   "outputs": [
    {
     "data": {
      "text/html": [
       "<div>\n",
       "<style scoped>\n",
       "    .dataframe tbody tr th:only-of-type {\n",
       "        vertical-align: middle;\n",
       "    }\n",
       "\n",
       "    .dataframe tbody tr th {\n",
       "        vertical-align: top;\n",
       "    }\n",
       "\n",
       "    .dataframe thead th {\n",
       "        text-align: right;\n",
       "    }\n",
       "</style>\n",
       "<table border=\"1\" class=\"dataframe\">\n",
       "  <thead>\n",
       "    <tr style=\"text-align: right;\">\n",
       "      <th></th>\n",
       "      <th>Conversion</th>\n",
       "      <th>Conversion_Prob</th>\n",
       "      <th>CustID</th>\n",
       "    </tr>\n",
       "  </thead>\n",
       "  <tbody>\n",
       "    <tr>\n",
       "      <th>0</th>\n",
       "      <td>0</td>\n",
       "      <td>0.254329</td>\n",
       "      <td>4715</td>\n",
       "    </tr>\n",
       "    <tr>\n",
       "      <th>1</th>\n",
       "      <td>1</td>\n",
       "      <td>0.573428</td>\n",
       "      <td>7132</td>\n",
       "    </tr>\n",
       "    <tr>\n",
       "      <th>2</th>\n",
       "      <td>0</td>\n",
       "      <td>0.433687</td>\n",
       "      <td>8954</td>\n",
       "    </tr>\n",
       "    <tr>\n",
       "      <th>3</th>\n",
       "      <td>0</td>\n",
       "      <td>0.482882</td>\n",
       "      <td>5283</td>\n",
       "    </tr>\n",
       "    <tr>\n",
       "      <th>4</th>\n",
       "      <td>0</td>\n",
       "      <td>0.526830</td>\n",
       "      <td>3003</td>\n",
       "    </tr>\n",
       "  </tbody>\n",
       "</table>\n",
       "</div>"
      ],
      "text/plain": [
       "   Conversion  Conversion_Prob  CustID\n",
       "0           0         0.254329    4715\n",
       "1           1         0.573428    7132\n",
       "2           0         0.433687    8954\n",
       "3           0         0.482882    5283\n",
       "4           0         0.526830    3003"
      ]
     },
     "execution_count": 383,
     "metadata": {},
     "output_type": "execute_result"
    }
   ],
   "source": [
    "y_train_pred_final = pd.DataFrame({'Conversion':y_train.values, 'Conversion_Prob':y_train_pred})\n",
    "y_train_pred_final['CustID'] = y_train.index\n",
    "y_train_pred_final.head()"
   ]
  },
  {
   "cell_type": "markdown",
   "metadata": {},
   "source": [
    "##### Creating new column 'predicted' with 1 if Conversion_Prob > 0.5 else 0"
   ]
  },
  {
   "cell_type": "code",
   "execution_count": 384,
   "metadata": {},
   "outputs": [
    {
     "data": {
      "text/html": [
       "<div>\n",
       "<style scoped>\n",
       "    .dataframe tbody tr th:only-of-type {\n",
       "        vertical-align: middle;\n",
       "    }\n",
       "\n",
       "    .dataframe tbody tr th {\n",
       "        vertical-align: top;\n",
       "    }\n",
       "\n",
       "    .dataframe thead th {\n",
       "        text-align: right;\n",
       "    }\n",
       "</style>\n",
       "<table border=\"1\" class=\"dataframe\">\n",
       "  <thead>\n",
       "    <tr style=\"text-align: right;\">\n",
       "      <th></th>\n",
       "      <th>Conversion</th>\n",
       "      <th>Conversion_Prob</th>\n",
       "      <th>CustID</th>\n",
       "      <th>predicted</th>\n",
       "    </tr>\n",
       "  </thead>\n",
       "  <tbody>\n",
       "    <tr>\n",
       "      <th>0</th>\n",
       "      <td>0</td>\n",
       "      <td>0.254329</td>\n",
       "      <td>4715</td>\n",
       "      <td>0</td>\n",
       "    </tr>\n",
       "    <tr>\n",
       "      <th>1</th>\n",
       "      <td>1</td>\n",
       "      <td>0.573428</td>\n",
       "      <td>7132</td>\n",
       "      <td>1</td>\n",
       "    </tr>\n",
       "    <tr>\n",
       "      <th>2</th>\n",
       "      <td>0</td>\n",
       "      <td>0.433687</td>\n",
       "      <td>8954</td>\n",
       "      <td>0</td>\n",
       "    </tr>\n",
       "    <tr>\n",
       "      <th>3</th>\n",
       "      <td>0</td>\n",
       "      <td>0.482882</td>\n",
       "      <td>5283</td>\n",
       "      <td>0</td>\n",
       "    </tr>\n",
       "    <tr>\n",
       "      <th>4</th>\n",
       "      <td>0</td>\n",
       "      <td>0.526830</td>\n",
       "      <td>3003</td>\n",
       "      <td>1</td>\n",
       "    </tr>\n",
       "  </tbody>\n",
       "</table>\n",
       "</div>"
      ],
      "text/plain": [
       "   Conversion  Conversion_Prob  CustID  predicted\n",
       "0           0         0.254329    4715          0\n",
       "1           1         0.573428    7132          1\n",
       "2           0         0.433687    8954          0\n",
       "3           0         0.482882    5283          0\n",
       "4           0         0.526830    3003          1"
      ]
     },
     "execution_count": 384,
     "metadata": {},
     "output_type": "execute_result"
    }
   ],
   "source": [
    "y_train_pred_final['predicted'] = y_train_pred_final.Conversion_Prob.map(lambda x: 1 if x > 0.5 else 0)\n",
    "\n",
    "# Let's see the head\n",
    "y_train_pred_final.head()"
   ]
  },
  {
   "cell_type": "code",
   "execution_count": 385,
   "metadata": {},
   "outputs": [],
   "source": [
    "from sklearn import metrics"
   ]
  },
  {
   "cell_type": "code",
   "execution_count": 386,
   "metadata": {},
   "outputs": [
    {
     "name": "stdout",
     "output_type": "stream",
     "text": [
      "[[3431  553]\n",
      " [ 825 1659]]\n"
     ]
    }
   ],
   "source": [
    "# Confusion matrix \n",
    "confusion = metrics.confusion_matrix(y_train_pred_final.Conversion, y_train_pred_final.predicted )\n",
    "print(confusion)"
   ]
  },
  {
   "cell_type": "code",
   "execution_count": 387,
   "metadata": {},
   "outputs": [],
   "source": [
    "# [[3431  553]\n",
    "# [ 825 1659]]\n",
    "# True Positives (TP): 1659 (Predicted Converted and actually Converted)\n",
    "# True Negatives (TN): 3431 (Predicted Not Converted and actually Not Converted)\n",
    "# False Positives (FP): 553 (Predicted Converted but actually Not Converted)\n",
    "# False Negatives (FN): 825 (Predicted Not Converted but actually Converted)"
   ]
  },
  {
   "cell_type": "code",
   "execution_count": 388,
   "metadata": {},
   "outputs": [
    {
     "name": "stdout",
     "output_type": "stream",
     "text": [
      "0.7869511440940012\n"
     ]
    }
   ],
   "source": [
    "# Let's check the overall accuracy.\n",
    "print(metrics.accuracy_score(y_train_pred_final.Conversion, y_train_pred_final.predicted))"
   ]
  },
  {
   "cell_type": "markdown",
   "metadata": {},
   "source": [
    "The accuracy is still practically the same."
   ]
  },
  {
   "cell_type": "markdown",
   "metadata": {},
   "source": [
    "## Metrics beyond simply accuracy"
   ]
  },
  {
   "cell_type": "code",
   "execution_count": 389,
   "metadata": {},
   "outputs": [],
   "source": [
    "TP = confusion[1,1] # true positive \n",
    "TN = confusion[0,0] # true negatives\n",
    "FP = confusion[0,1] # false positives\n",
    "FN = confusion[1,0] # false negatives"
   ]
  },
  {
   "cell_type": "code",
   "execution_count": 390,
   "metadata": {},
   "outputs": [
    {
     "data": {
      "text/plain": [
       "np.float64(0.6678743961352657)"
      ]
     },
     "execution_count": 390,
     "metadata": {},
     "output_type": "execute_result"
    }
   ],
   "source": [
    "# Let's see the sensitivity of our logistic regression model\n",
    "TP / float(TP+FN)"
   ]
  },
  {
   "cell_type": "code",
   "execution_count": 391,
   "metadata": {},
   "outputs": [
    {
     "data": {
      "text/plain": [
       "np.float64(0.8611947791164659)"
      ]
     },
     "execution_count": 391,
     "metadata": {},
     "output_type": "execute_result"
    }
   ],
   "source": [
    "# Let us calculate specificity\n",
    "TN / float(TN+FP)"
   ]
  },
  {
   "cell_type": "code",
   "execution_count": 392,
   "metadata": {},
   "outputs": [
    {
     "name": "stdout",
     "output_type": "stream",
     "text": [
      "0.13880522088353414\n"
     ]
    }
   ],
   "source": [
    "# Calculate false postive rate - predicting conversion when customer does not have converted\n",
    "print(FP/ float(TN+FP))"
   ]
  },
  {
   "cell_type": "code",
   "execution_count": 393,
   "metadata": {},
   "outputs": [
    {
     "name": "stdout",
     "output_type": "stream",
     "text": [
      "0.75\n"
     ]
    }
   ],
   "source": [
    "# positive predictive value \n",
    "print (TP / float(TP+FP))"
   ]
  },
  {
   "cell_type": "code",
   "execution_count": 394,
   "metadata": {},
   "outputs": [
    {
     "name": "stdout",
     "output_type": "stream",
     "text": [
      "0.8061560150375939\n"
     ]
    }
   ],
   "source": [
    "# Negative predictive value\n",
    "print (TN / float(TN+ FN))"
   ]
  },
  {
   "cell_type": "markdown",
   "metadata": {},
   "source": [
    "### Step 8: Plotting the ROC Curve"
   ]
  },
  {
   "cell_type": "markdown",
   "metadata": {},
   "source": [
    "An ROC curve demonstrates several things:\n",
    "\n",
    "- It shows the tradeoff between sensitivity and specificity (any increase in sensitivity will be accompanied by a decrease in specificity).\n",
    "- The closer the curve follows the left-hand border and then the top border of the ROC space, the more accurate the test.\n",
    "- The closer the curve comes to the 45-degree diagonal of the ROC space, the less accurate the test."
   ]
  },
  {
   "cell_type": "code",
   "execution_count": 395,
   "metadata": {},
   "outputs": [],
   "source": [
    "def draw_roc( actual, probs ):\n",
    "    fpr, tpr, thresholds = metrics.roc_curve( actual, probs,\n",
    "                                              drop_intermediate = False )\n",
    "    auc_score = metrics.roc_auc_score( actual, probs )\n",
    "    plt.figure(figsize=(5, 5))\n",
    "    plt.plot( fpr, tpr, label='ROC curve (area = %0.2f)' % auc_score )\n",
    "    plt.plot([0, 1], [0, 1], 'k--')\n",
    "    plt.xlim([0.0, 1.0])\n",
    "    plt.ylim([0.0, 1.05])\n",
    "    plt.xlabel('False Positive Rate or [1 - True Negative Rate]')\n",
    "    plt.ylabel('True Positive Rate')\n",
    "    plt.title('Receiver operating characteristic example')\n",
    "    plt.legend(loc=\"lower right\")\n",
    "    plt.show()\n",
    "\n",
    "    return None"
   ]
  },
  {
   "cell_type": "code",
   "execution_count": 396,
   "metadata": {},
   "outputs": [],
   "source": [
    "fpr, tpr, thresholds = metrics.roc_curve( y_train_pred_final.Conversion, y_train_pred_final.Conversion_Prob, drop_intermediate = False )"
   ]
  },
  {
   "cell_type": "code",
   "execution_count": 397,
   "metadata": {},
   "outputs": [
    {
     "data": {
      "image/png": "[encoded data removed]",
      "text/plain": [
       "<Figure size 500x500 with 1 Axes>"
      ]
     },
     "metadata": {},
     "output_type": "display_data"
    }
   ],
   "source": [
    "draw_roc(y_train_pred_final.Conversion, y_train_pred_final.Conversion_Prob)"
   ]
  },
  {
   "cell_type": "markdown",
   "metadata": {},
   "source": [
    "### Step 9: Finding Optimal Cutoff Point"
   ]
  },
  {
   "cell_type": "markdown",
   "metadata": {},
   "source": [
    "Optimal cutoff probability is that prob where we get balanced sensitivity and specificity"
   ]
  },
  {
   "cell_type": "code",
   "execution_count": 398,
   "metadata": {},
   "outputs": [
    {
     "data": {
      "text/html": [
       "<div>\n",
       "<style scoped>\n",
       "    .dataframe tbody tr th:only-of-type {\n",
       "        vertical-align: middle;\n",
       "    }\n",
       "\n",
       "    .dataframe tbody tr th {\n",
       "        vertical-align: top;\n",
       "    }\n",
       "\n",
       "    .dataframe thead th {\n",
       "        text-align: right;\n",
       "    }\n",
       "</style>\n",
       "<table border=\"1\" class=\"dataframe\">\n",
       "  <thead>\n",
       "    <tr style=\"text-align: right;\">\n",
       "      <th></th>\n",
       "      <th>Conversion</th>\n",
       "      <th>Conversion_Prob</th>\n",
       "      <th>CustID</th>\n",
       "      <th>predicted</th>\n",
       "      <th>0.0</th>\n",
       "      <th>0.1</th>\n",
       "      <th>0.2</th>\n",
       "      <th>0.3</th>\n",
       "      <th>0.4</th>\n",
       "      <th>0.5</th>\n",
       "      <th>0.6</th>\n",
       "      <th>0.7</th>\n",
       "      <th>0.8</th>\n",
       "      <th>0.9</th>\n",
       "    </tr>\n",
       "  </thead>\n",
       "  <tbody>\n",
       "    <tr>\n",
       "      <th>0</th>\n",
       "      <td>0</td>\n",
       "      <td>0.254329</td>\n",
       "      <td>4715</td>\n",
       "      <td>0</td>\n",
       "      <td>1</td>\n",
       "      <td>1</td>\n",
       "      <td>1</td>\n",
       "      <td>0</td>\n",
       "      <td>0</td>\n",
       "      <td>0</td>\n",
       "      <td>0</td>\n",
       "      <td>0</td>\n",
       "      <td>0</td>\n",
       "      <td>0</td>\n",
       "    </tr>\n",
       "    <tr>\n",
       "      <th>1</th>\n",
       "      <td>1</td>\n",
       "      <td>0.573428</td>\n",
       "      <td>7132</td>\n",
       "      <td>1</td>\n",
       "      <td>1</td>\n",
       "      <td>1</td>\n",
       "      <td>1</td>\n",
       "      <td>1</td>\n",
       "      <td>1</td>\n",
       "      <td>1</td>\n",
       "      <td>0</td>\n",
       "      <td>0</td>\n",
       "      <td>0</td>\n",
       "      <td>0</td>\n",
       "    </tr>\n",
       "    <tr>\n",
       "      <th>2</th>\n",
       "      <td>0</td>\n",
       "      <td>0.433687</td>\n",
       "      <td>8954</td>\n",
       "      <td>0</td>\n",
       "      <td>1</td>\n",
       "      <td>1</td>\n",
       "      <td>1</td>\n",
       "      <td>1</td>\n",
       "      <td>1</td>\n",
       "      <td>0</td>\n",
       "      <td>0</td>\n",
       "      <td>0</td>\n",
       "      <td>0</td>\n",
       "      <td>0</td>\n",
       "    </tr>\n",
       "    <tr>\n",
       "      <th>3</th>\n",
       "      <td>0</td>\n",
       "      <td>0.482882</td>\n",
       "      <td>5283</td>\n",
       "      <td>0</td>\n",
       "      <td>1</td>\n",
       "      <td>1</td>\n",
       "      <td>1</td>\n",
       "      <td>1</td>\n",
       "      <td>1</td>\n",
       "      <td>0</td>\n",
       "      <td>0</td>\n",
       "      <td>0</td>\n",
       "      <td>0</td>\n",
       "      <td>0</td>\n",
       "    </tr>\n",
       "    <tr>\n",
       "      <th>4</th>\n",
       "      <td>0</td>\n",
       "      <td>0.526830</td>\n",
       "      <td>3003</td>\n",
       "      <td>1</td>\n",
       "      <td>1</td>\n",
       "      <td>1</td>\n",
       "      <td>1</td>\n",
       "      <td>1</td>\n",
       "      <td>1</td>\n",
       "      <td>1</td>\n",
       "      <td>0</td>\n",
       "      <td>0</td>\n",
       "      <td>0</td>\n",
       "      <td>0</td>\n",
       "    </tr>\n",
       "  </tbody>\n",
       "</table>\n",
       "</div>"
      ],
      "text/plain": [
       "   Conversion  Conversion_Prob  CustID  predicted  0.0  0.1  0.2  0.3  0.4  \\\n",
       "0           0         0.254329    4715          0    1    1    1    0    0   \n",
       "1           1         0.573428    7132          1    1    1    1    1    1   \n",
       "2           0         0.433687    8954          0    1    1    1    1    1   \n",
       "3           0         0.482882    5283          0    1    1    1    1    1   \n",
       "4           0         0.526830    3003          1    1    1    1    1    1   \n",
       "\n",
       "   0.5  0.6  0.7  0.8  0.9  \n",
       "0    0    0    0    0    0  \n",
       "1    1    0    0    0    0  \n",
       "2    0    0    0    0    0  \n",
       "3    0    0    0    0    0  \n",
       "4    1    0    0    0    0  "
      ]
     },
     "execution_count": 398,
     "metadata": {},
     "output_type": "execute_result"
    }
   ],
   "source": [
    "# Let's create columns with different probability cutoffs \n",
    "numbers = [float(x)/10 for x in range(10)]\n",
    "for i in numbers:\n",
    "    y_train_pred_final[i]= y_train_pred_final.Conversion_Prob.map(lambda x: 1 if x > i else 0)\n",
    "y_train_pred_final.head()"
   ]
  },
  {
   "cell_type": "code",
   "execution_count": 399,
   "metadata": {},
   "outputs": [
    {
     "name": "stdout",
     "output_type": "stream",
     "text": [
      "     prob  accuracy     sensi     speci\n",
      "0.0   0.0  0.384045  1.000000  0.000000\n",
      "0.1   0.1  0.513142  0.975040  0.225151\n",
      "0.2   0.2  0.708720  0.899758  0.589608\n",
      "0.3   0.3  0.774583  0.831723  0.738956\n",
      "0.4   0.4  0.785869  0.748390  0.809237\n",
      "0.5   0.5  0.786951  0.667874  0.861195\n",
      "0.6   0.6  0.768862  0.531804  0.916667\n",
      "0.7   0.7  0.747526  0.433977  0.943022\n",
      "0.8   0.8  0.721552  0.324477  0.969127\n",
      "0.9   0.9  0.667285  0.149356  0.990211\n"
     ]
    }
   ],
   "source": [
    "# Now let's calculate accuracy sensitivity and specificity for various probability cutoffs.\n",
    "cutoff_df = pd.DataFrame( columns = ['prob','accuracy','sensi','speci'])\n",
    "from sklearn.metrics import confusion_matrix\n",
    "\n",
    "# TP = confusion[1,1] # true positive \n",
    "# TN = confusion[0,0] # true negatives\n",
    "# FP = confusion[0,1] # false positives\n",
    "# FN = confusion[1,0] # false negatives\n",
    "\n",
    "num = [0.0,0.1,0.2,0.3,0.4,0.5,0.6,0.7,0.8,0.9]\n",
    "for i in num:\n",
    "    cm1 = metrics.confusion_matrix(y_train_pred_final.Conversion, y_train_pred_final[i] )\n",
    "    total1=sum(sum(cm1))\n",
    "    accuracy = (cm1[0,0]+cm1[1,1])/total1\n",
    "    \n",
    "    speci = cm1[0,0]/(cm1[0,0]+cm1[0,1])\n",
    "    sensi = cm1[1,1]/(cm1[1,0]+cm1[1,1])\n",
    "    cutoff_df.loc[i] =[ i ,accuracy,sensi,speci]\n",
    "print(cutoff_df)"
   ]
  },
  {
   "cell_type": "code",
   "execution_count": 400,
   "metadata": {},
   "outputs": [
    {
     "data": {
      "image/png": "[encoded data removed]",
      "text/plain": [
       "<Figure size 640x480 with 1 Axes>"
      ]
     },
     "metadata": {},
     "output_type": "display_data"
    }
   ],
   "source": [
    "# Let's plot accuracy sensitivity and specificity for various probabilities.\n",
    "cutoff_df.plot.line(x='prob', y=['accuracy','sensi','speci'])\n",
    "plt.show()"
   ]
  },
  {
   "cell_type": "markdown",
   "metadata": {},
   "source": [
    "#### From the curve above, 0.4 is the optimum point to take it as a cutoff probability."
   ]
  },
  {
   "cell_type": "code",
   "execution_count": 401,
   "metadata": {},
   "outputs": [
    {
     "data": {
      "text/html": [
       "<div>\n",
       "<style scoped>\n",
       "    .dataframe tbody tr th:only-of-type {\n",
       "        vertical-align: middle;\n",
       "    }\n",
       "\n",
       "    .dataframe tbody tr th {\n",
       "        vertical-align: top;\n",
       "    }\n",
       "\n",
       "    .dataframe thead th {\n",
       "        text-align: right;\n",
       "    }\n",
       "</style>\n",
       "<table border=\"1\" class=\"dataframe\">\n",
       "  <thead>\n",
       "    <tr style=\"text-align: right;\">\n",
       "      <th></th>\n",
       "      <th>Conversion</th>\n",
       "      <th>Conversion_Prob</th>\n",
       "      <th>CustID</th>\n",
       "      <th>predicted</th>\n",
       "      <th>0.0</th>\n",
       "      <th>0.1</th>\n",
       "      <th>0.2</th>\n",
       "      <th>0.3</th>\n",
       "      <th>0.4</th>\n",
       "      <th>0.5</th>\n",
       "      <th>0.6</th>\n",
       "      <th>0.7</th>\n",
       "      <th>0.8</th>\n",
       "      <th>0.9</th>\n",
       "      <th>final_predicted</th>\n",
       "    </tr>\n",
       "  </thead>\n",
       "  <tbody>\n",
       "    <tr>\n",
       "      <th>0</th>\n",
       "      <td>0</td>\n",
       "      <td>0.254329</td>\n",
       "      <td>4715</td>\n",
       "      <td>0</td>\n",
       "      <td>1</td>\n",
       "      <td>1</td>\n",
       "      <td>1</td>\n",
       "      <td>0</td>\n",
       "      <td>0</td>\n",
       "      <td>0</td>\n",
       "      <td>0</td>\n",
       "      <td>0</td>\n",
       "      <td>0</td>\n",
       "      <td>0</td>\n",
       "      <td>0</td>\n",
       "    </tr>\n",
       "    <tr>\n",
       "      <th>1</th>\n",
       "      <td>1</td>\n",
       "      <td>0.573428</td>\n",
       "      <td>7132</td>\n",
       "      <td>1</td>\n",
       "      <td>1</td>\n",
       "      <td>1</td>\n",
       "      <td>1</td>\n",
       "      <td>1</td>\n",
       "      <td>1</td>\n",
       "      <td>1</td>\n",
       "      <td>0</td>\n",
       "      <td>0</td>\n",
       "      <td>0</td>\n",
       "      <td>0</td>\n",
       "      <td>1</td>\n",
       "    </tr>\n",
       "    <tr>\n",
       "      <th>2</th>\n",
       "      <td>0</td>\n",
       "      <td>0.433687</td>\n",
       "      <td>8954</td>\n",
       "      <td>0</td>\n",
       "      <td>1</td>\n",
       "      <td>1</td>\n",
       "      <td>1</td>\n",
       "      <td>1</td>\n",
       "      <td>1</td>\n",
       "      <td>0</td>\n",
       "      <td>0</td>\n",
       "      <td>0</td>\n",
       "      <td>0</td>\n",
       "      <td>0</td>\n",
       "      <td>1</td>\n",
       "    </tr>\n",
       "    <tr>\n",
       "      <th>3</th>\n",
       "      <td>0</td>\n",
       "      <td>0.482882</td>\n",
       "      <td>5283</td>\n",
       "      <td>0</td>\n",
       "      <td>1</td>\n",
       "      <td>1</td>\n",
       "      <td>1</td>\n",
       "      <td>1</td>\n",
       "      <td>1</td>\n",
       "      <td>0</td>\n",
       "      <td>0</td>\n",
       "      <td>0</td>\n",
       "      <td>0</td>\n",
       "      <td>0</td>\n",
       "      <td>1</td>\n",
       "    </tr>\n",
       "    <tr>\n",
       "      <th>4</th>\n",
       "      <td>0</td>\n",
       "      <td>0.526830</td>\n",
       "      <td>3003</td>\n",
       "      <td>1</td>\n",
       "      <td>1</td>\n",
       "      <td>1</td>\n",
       "      <td>1</td>\n",
       "      <td>1</td>\n",
       "      <td>1</td>\n",
       "      <td>1</td>\n",
       "      <td>0</td>\n",
       "      <td>0</td>\n",
       "      <td>0</td>\n",
       "      <td>0</td>\n",
       "      <td>1</td>\n",
       "    </tr>\n",
       "  </tbody>\n",
       "</table>\n",
       "</div>"
      ],
      "text/plain": [
       "   Conversion  Conversion_Prob  CustID  predicted  0.0  0.1  0.2  0.3  0.4  \\\n",
       "0           0         0.254329    4715          0    1    1    1    0    0   \n",
       "1           1         0.573428    7132          1    1    1    1    1    1   \n",
       "2           0         0.433687    8954          0    1    1    1    1    1   \n",
       "3           0         0.482882    5283          0    1    1    1    1    1   \n",
       "4           0         0.526830    3003          1    1    1    1    1    1   \n",
       "\n",
       "   0.5  0.6  0.7  0.8  0.9  final_predicted  \n",
       "0    0    0    0    0    0                0  \n",
       "1    1    0    0    0    0                1  \n",
       "2    0    0    0    0    0                1  \n",
       "3    0    0    0    0    0                1  \n",
       "4    1    0    0    0    0                1  "
      ]
     },
     "execution_count": 401,
     "metadata": {},
     "output_type": "execute_result"
    }
   ],
   "source": [
    "y_train_pred_final['final_predicted'] = y_train_pred_final.Conversion_Prob.map( lambda x: 1 if x > 0.4 else 0)\n",
    "\n",
    "y_train_pred_final.head()"
   ]
  },
  {
   "cell_type": "code",
   "execution_count": 402,
   "metadata": {},
   "outputs": [
    {
     "data": {
      "text/plain": [
       "0.7858688930117501"
      ]
     },
     "execution_count": 402,
     "metadata": {},
     "output_type": "execute_result"
    }
   ],
   "source": [
    "# Let's check the overall accuracy.\n",
    "metrics.accuracy_score(y_train_pred_final.Conversion, y_train_pred_final.final_predicted)"
   ]
  },
  {
   "cell_type": "code",
   "execution_count": 403,
   "metadata": {},
   "outputs": [
    {
     "data": {
      "text/plain": [
       "array([[3224,  760],\n",
       "       [ 625, 1859]])"
      ]
     },
     "execution_count": 403,
     "metadata": {},
     "output_type": "execute_result"
    }
   ],
   "source": [
    "confusion2 = metrics.confusion_matrix(y_train_pred_final.Conversion, y_train_pred_final.final_predicted )\n",
    "confusion2"
   ]
  },
  {
   "cell_type": "code",
   "execution_count": 404,
   "metadata": {},
   "outputs": [],
   "source": [
    "TP = confusion2[1,1] # true positive \n",
    "TN = confusion2[0,0] # true negatives\n",
    "FP = confusion2[0,1] # false positives\n",
    "FN = confusion2[1,0] # false negatives"
   ]
  },
  {
   "cell_type": "code",
   "execution_count": 405,
   "metadata": {},
   "outputs": [
    {
     "data": {
      "text/plain": [
       "np.float64(0.748389694041868)"
      ]
     },
     "execution_count": 405,
     "metadata": {},
     "output_type": "execute_result"
    }
   ],
   "source": [
    "# Let's see the sensitivity of our logistic regression model\n",
    "TP / float(TP+FN)"
   ]
  },
  {
   "cell_type": "code",
   "execution_count": 406,
   "metadata": {},
   "outputs": [
    {
     "data": {
      "text/plain": [
       "np.float64(0.8092369477911646)"
      ]
     },
     "execution_count": 406,
     "metadata": {},
     "output_type": "execute_result"
    }
   ],
   "source": [
    "# Let us calculate specificity\n",
    "TN / float(TN+FP)"
   ]
  },
  {
   "cell_type": "code",
   "execution_count": 407,
   "metadata": {},
   "outputs": [
    {
     "name": "stdout",
     "output_type": "stream",
     "text": [
      "0.19076305220883535\n"
     ]
    }
   ],
   "source": [
    "# Calculate false postive rate - predicting conversion when customer does not have converted\n",
    "print(FP/ float(TN+FP))"
   ]
  },
  {
   "cell_type": "code",
   "execution_count": 408,
   "metadata": {},
   "outputs": [
    {
     "name": "stdout",
     "output_type": "stream",
     "text": [
      "0.7098129056891943\n"
     ]
    }
   ],
   "source": [
    "# Positive predictive value \n",
    "print (TP / float(TP+FP))"
   ]
  },
  {
   "cell_type": "code",
   "execution_count": 409,
   "metadata": {},
   "outputs": [
    {
     "name": "stdout",
     "output_type": "stream",
     "text": [
      "0.8376201610808002\n"
     ]
    }
   ],
   "source": [
    "# Negative predictive value\n",
    "print (TN / float(TN+ FN))"
   ]
  },
  {
   "cell_type": "code",
   "execution_count": 410,
   "metadata": {},
   "outputs": [],
   "source": [
    "# # Define thresholds\n",
    "# thresholds = [0.5, 0.4]\n",
    "\n",
    "# # Function to compute metrics from the confusion matrix\n",
    "# def compute_metrics(confusion):\n",
    "#     TP = confusion[1,1]\n",
    "#     TN = confusion[0,0]\n",
    "#     FP = confusion[0,1]\n",
    "#     FN = confusion[1,0]\n",
    "#     accuracy = (TP + TN) / float(TP + TN + FP + FN)\n",
    "#     sensitivity = TP / float(TP + FN)\n",
    "#     specificity = TN / float(TN + FP)\n",
    "#     false_positive_rate = FP / float(TN + FP)\n",
    "#     positive_predictive_value = TP / float(TP + FP)\n",
    "#     negative_predictive_value = TN / float(TN + FN)\n",
    "#     return {\n",
    "#         'TN': TN,\n",
    "#         'FP': FP,\n",
    "#         'FN': FN,\n",
    "#         'TP': TP,\n",
    "#         'Accuracy': accuracy,\n",
    "#         'Sensitivity': sensitivity,\n",
    "#         'Specificity': specificity,\n",
    "#         'False_Positive_Rate': false_positive_rate,\n",
    "#         'Positive_Predictive_Value': positive_predictive_value,\n",
    "#         'Negative_Predictive_Value': negative_predictive_value\n",
    "#     }\n",
    "\n",
    "# # Create a list to store the results\n",
    "# results = []\n",
    "\n",
    "# # Calculate confusion matrix values and metrics for each threshold\n",
    "# for threshold in thresholds:\n",
    "#     y_train_pred_final[f'predicted_{threshold}'] = y_train_pred_final['Conversion_Prob'].map(lambda x: 1 if x >= threshold else 0)\n",
    "#     confusion = confusion_matrix(y_train_pred_final['Conversion'], y_train_pred_final[f'predicted_{threshold}'])\n",
    "#     metrics = compute_metrics(confusion)\n",
    "#     metrics['Threshold'] = threshold\n",
    "#     results.append(metrics)\n",
    "\n",
    "# # Convert the list of results to a DataFrame\n",
    "# metrics_df = pd.DataFrame(results)\n",
    "\n",
    "# metrics_df"
   ]
  },
  {
   "cell_type": "markdown",
   "metadata": {},
   "source": [
    "## Precision and Recall"
   ]
  },
  {
   "cell_type": "markdown",
   "metadata": {},
   "source": [
    "##### Precision\n",
    "TP / TP + FP"
   ]
  },
  {
   "cell_type": "code",
   "execution_count": 411,
   "metadata": {},
   "outputs": [
    {
     "data": {
      "text/plain": [
       "np.float64(0.75)"
      ]
     },
     "execution_count": 411,
     "metadata": {},
     "output_type": "execute_result"
    }
   ],
   "source": [
    "confusion[1,1]/(confusion[0,1]+confusion[1,1])"
   ]
  },
  {
   "cell_type": "markdown",
   "metadata": {},
   "source": [
    "##### Recall\n",
    "TP / TP + FN"
   ]
  },
  {
   "cell_type": "code",
   "execution_count": 412,
   "metadata": {},
   "outputs": [
    {
     "data": {
      "text/plain": [
       "np.float64(0.6678743961352657)"
      ]
     },
     "execution_count": 412,
     "metadata": {},
     "output_type": "execute_result"
    }
   ],
   "source": [
    "confusion[1,1]/(confusion[1,0]+confusion[1,1])"
   ]
  },
  {
   "cell_type": "markdown",
   "metadata": {},
   "source": [
    "Using sklearn utilities for the same"
   ]
  },
  {
   "cell_type": "code",
   "execution_count": 413,
   "metadata": {},
   "outputs": [],
   "source": [
    "from sklearn.metrics import precision_score, recall_score"
   ]
  },
  {
   "cell_type": "code",
   "execution_count": 414,
   "metadata": {},
   "outputs": [
    {
     "name": "stdout",
     "output_type": "stream",
     "text": [
      "\u001b[1;31mSignature:\u001b[0m\n",
      "\u001b[0mprecision_score\u001b[0m\u001b[1;33m(\u001b[0m\u001b[1;33m\n",
      "\u001b[0m    \u001b[0my_true\u001b[0m\u001b[1;33m,\u001b[0m\u001b[1;33m\n",
      "\u001b[0m    \u001b[0my_pred\u001b[0m\u001b[1;33m,\u001b[0m\u001b[1;33m\n",
      "\u001b[0m    \u001b[1;33m*\u001b[0m\u001b[1;33m,\u001b[0m\u001b[1;33m\n",
      "\u001b[0m    \u001b[0mlabels\u001b[0m\u001b[1;33m=\u001b[0m\u001b[1;32mNone\u001b[0m\u001b[1;33m,\u001b[0m\u001b[1;33m\n",
      "\u001b[0m    \u001b[0mpos_label\u001b[0m\u001b[1;33m=\u001b[0m\u001b[1;36m1\u001b[0m\u001b[1;33m,\u001b[0m\u001b[1;33m\n",
      "\u001b[0m    \u001b[0maverage\u001b[0m\u001b[1;33m=\u001b[0m\u001b[1;34m'binary'\u001b[0m\u001b[1;33m,\u001b[0m\u001b[1;33m\n",
      "\u001b[0m    \u001b[0msample_weight\u001b[0m\u001b[1;33m=\u001b[0m\u001b[1;32mNone\u001b[0m\u001b[1;33m,\u001b[0m\u001b[1;33m\n",
      "\u001b[0m    \u001b[0mzero_division\u001b[0m\u001b[1;33m=\u001b[0m\u001b[1;34m'warn'\u001b[0m\u001b[1;33m,\u001b[0m\u001b[1;33m\n",
      "\u001b[0m\u001b[1;33m)\u001b[0m\u001b[1;33m\u001b[0m\u001b[1;33m\u001b[0m\u001b[0m\n",
      "\u001b[1;31mDocstring:\u001b[0m\n",
      "Compute the precision.\n",
      "\n",
      "The precision is the ratio ``tp / (tp + fp)`` where ``tp`` is the number of\n",
      "true positives and ``fp`` the number of false positives. The precision is\n",
      "intuitively the ability of the classifier not to label as positive a sample\n",
      "that is negative.\n",
      "\n",
      "The best value is 1 and the worst value is 0.\n",
      "\n",
      "Support beyond term:`binary` targets is achieved by treating :term:`multiclass`\n",
      "and :term:`multilabel` data as a collection of binary problems, one for each\n",
      "label. For the :term:`binary` case, setting `average='binary'` will return\n",
      "precision for `pos_label`. If `average` is not `'binary'`, `pos_label` is ignored\n",
      "and precision for both classes are computed, then averaged or both returned (when\n",
      "`average=None`). Similarly, for :term:`multiclass` and :term:`multilabel` targets,\n",
      "precision for all `labels` are either returned or averaged depending on the\n",
      "`average` parameter. Use `labels` specify the set of labels to calculate precision\n",
      "for.\n",
      "\n",
      "Read more in the :ref:`User Guide <precision_recall_f_measure_metrics>`.\n",
      "\n",
      "Parameters\n",
      "----------\n",
      "y_true : 1d array-like, or label indicator array / sparse matrix\n",
      "    Ground truth (correct) target values.\n",
      "\n",
      "y_pred : 1d array-like, or label indicator array / sparse matrix\n",
      "    Estimated targets as returned by a classifier.\n",
      "\n",
      "labels : array-like, default=None\n",
      "    The set of labels to include when `average != 'binary'`, and their\n",
      "    order if `average is None`. Labels present in the data can be\n",
      "    excluded, for example in multiclass classification to exclude a \"negative\n",
      "    class\". Labels not present in the data can be included and will be\n",
      "    \"assigned\" 0 samples. For multilabel targets, labels are column indices.\n",
      "    By default, all labels in `y_true` and `y_pred` are used in sorted order.\n",
      "\n",
      "    .. versionchanged:: 0.17\n",
      "       Parameter `labels` improved for multiclass problem.\n",
      "\n",
      "pos_label : int, float, bool or str, default=1\n",
      "    The class to report if `average='binary'` and the data is binary,\n",
      "    otherwise this parameter is ignored.\n",
      "    For multiclass or multilabel targets, set `labels=[pos_label]` and\n",
      "    `average != 'binary'` to report metrics for one label only.\n",
      "\n",
      "average : {'micro', 'macro', 'samples', 'weighted', 'binary'} or None,             default='binary'\n",
      "    This parameter is required for multiclass/multilabel targets.\n",
      "    If ``None``, the scores for each class are returned. Otherwise, this\n",
      "    determines the type of averaging performed on the data:\n",
      "\n",
      "    ``'binary'``:\n",
      "        Only report results for the class specified by ``pos_label``.\n",
      "        This is applicable only if targets (``y_{true,pred}``) are binary.\n",
      "    ``'micro'``:\n",
      "        Calculate metrics globally by counting the total true positives,\n",
      "        false negatives and false positives.\n",
      "    ``'macro'``:\n",
      "        Calculate metrics for each label, and find their unweighted\n",
      "        mean.  This does not take label imbalance into account.\n",
      "    ``'weighted'``:\n",
      "        Calculate metrics for each label, and find their average weighted\n",
      "        by support (the number of true instances for each label). This\n",
      "        alters 'macro' to account for label imbalance; it can result in an\n",
      "        F-score that is not between precision and recall.\n",
      "    ``'samples'``:\n",
      "        Calculate metrics for each instance, and find their average (only\n",
      "        meaningful for multilabel classification where this differs from\n",
      "        :func:`accuracy_score`).\n",
      "\n",
      "sample_weight : array-like of shape (n_samples,), default=None\n",
      "    Sample weights.\n",
      "\n",
      "zero_division : {\"warn\", 0.0, 1.0, np.nan}, default=\"warn\"\n",
      "    Sets the value to return when there is a zero division.\n",
      "\n",
      "    Notes:\n",
      "    - If set to \"warn\", this acts like 0, but a warning is also raised.\n",
      "    - If set to `np.nan`, such values will be excluded from the average.\n",
      "\n",
      "    .. versionadded:: 1.3\n",
      "       `np.nan` option was added.\n",
      "\n",
      "Returns\n",
      "-------\n",
      "precision : float (if average is not None) or array of float of shape                 (n_unique_labels,)\n",
      "    Precision of the positive class in binary classification or weighted\n",
      "    average of the precision of each class for the multiclass task.\n",
      "\n",
      "See Also\n",
      "--------\n",
      "precision_recall_fscore_support : Compute precision, recall, F-measure and\n",
      "    support for each class.\n",
      "recall_score :  Compute the ratio ``tp / (tp + fn)`` where ``tp`` is the\n",
      "    number of true positives and ``fn`` the number of false negatives.\n",
      "PrecisionRecallDisplay.from_estimator : Plot precision-recall curve given\n",
      "    an estimator and some data.\n",
      "PrecisionRecallDisplay.from_predictions : Plot precision-recall curve given\n",
      "    binary class predictions.\n",
      "multilabel_confusion_matrix : Compute a confusion matrix for each class or\n",
      "    sample.\n",
      "\n",
      "Notes\n",
      "-----\n",
      "When ``true positive + false positive == 0``, precision returns 0 and\n",
      "raises ``UndefinedMetricWarning``. This behavior can be\n",
      "modified with ``zero_division``.\n",
      "\n",
      "Examples\n",
      "--------\n",
      ">>> import numpy as np\n",
      ">>> from sklearn.metrics import precision_score\n",
      ">>> y_true = [0, 1, 2, 0, 1, 2]\n",
      ">>> y_pred = [0, 2, 1, 0, 0, 1]\n",
      ">>> precision_score(y_true, y_pred, average='macro')\n",
      "0.22...\n",
      ">>> precision_score(y_true, y_pred, average='micro')\n",
      "0.33...\n",
      ">>> precision_score(y_true, y_pred, average='weighted')\n",
      "0.22...\n",
      ">>> precision_score(y_true, y_pred, average=None)\n",
      "array([0.66..., 0.        , 0.        ])\n",
      ">>> y_pred = [0, 0, 0, 0, 0, 0]\n",
      ">>> precision_score(y_true, y_pred, average=None)\n",
      "array([0.33..., 0.        , 0.        ])\n",
      ">>> precision_score(y_true, y_pred, average=None, zero_division=1)\n",
      "array([0.33..., 1.        , 1.        ])\n",
      ">>> precision_score(y_true, y_pred, average=None, zero_division=np.nan)\n",
      "array([0.33...,        nan,        nan])\n",
      "\n",
      ">>> # multilabel classification\n",
      ">>> y_true = [[0, 0, 0], [1, 1, 1], [0, 1, 1]]\n",
      ">>> y_pred = [[0, 0, 0], [1, 1, 1], [1, 1, 0]]\n",
      ">>> precision_score(y_true, y_pred, average=None)\n",
      "array([0.5, 1. , 1. ])\n",
      "\u001b[1;31mFile:\u001b[0m      c:\\users\\dell\\anaconda3\\envs\\cs_lead_score\\lib\\site-packages\\sklearn\\metrics\\_classification.py\n",
      "\u001b[1;31mType:\u001b[0m      function"
     ]
    }
   ],
   "source": [
    "?precision_score"
   ]
  },
  {
   "cell_type": "code",
   "execution_count": 415,
   "metadata": {},
   "outputs": [
    {
     "data": {
      "text/plain": [
       "np.float64(0.75)"
      ]
     },
     "execution_count": 415,
     "metadata": {},
     "output_type": "execute_result"
    }
   ],
   "source": [
    "precision_score(y_train_pred_final.Conversion, y_train_pred_final.predicted)"
   ]
  },
  {
   "cell_type": "code",
   "execution_count": 416,
   "metadata": {},
   "outputs": [
    {
     "data": {
      "text/plain": [
       "np.float64(0.6678743961352657)"
      ]
     },
     "execution_count": 416,
     "metadata": {},
     "output_type": "execute_result"
    }
   ],
   "source": [
    "recall_score(y_train_pred_final.Conversion, y_train_pred_final.predicted)"
   ]
  },
  {
   "cell_type": "markdown",
   "metadata": {},
   "source": [
    "### Precision and recall tradeoff"
   ]
  },
  {
   "cell_type": "code",
   "execution_count": 417,
   "metadata": {},
   "outputs": [],
   "source": [
    "from sklearn.metrics import precision_recall_curve"
   ]
  },
  {
   "cell_type": "code",
   "execution_count": 418,
   "metadata": {},
   "outputs": [
    {
     "data": {
      "text/plain": [
       "(0       0\n",
       " 1       1\n",
       " 2       0\n",
       " 3       0\n",
       " 4       0\n",
       "        ..\n",
       " 6463    0\n",
       " 6464    0\n",
       " 6465    1\n",
       " 6466    0\n",
       " 6467    1\n",
       " Name: Conversion, Length: 6468, dtype: int64,\n",
       " 0       0\n",
       " 1       1\n",
       " 2       0\n",
       " 3       0\n",
       " 4       1\n",
       "        ..\n",
       " 6463    0\n",
       " 6464    0\n",
       " 6465    1\n",
       " 6466    0\n",
       " 6467    1\n",
       " Name: predicted, Length: 6468, dtype: int64)"
      ]
     },
     "execution_count": 418,
     "metadata": {},
     "output_type": "execute_result"
    }
   ],
   "source": [
    "y_train_pred_final.Conversion, y_train_pred_final.predicted"
   ]
  },
  {
   "cell_type": "code",
   "execution_count": 419,
   "metadata": {},
   "outputs": [],
   "source": [
    "p, r, thresholds = precision_recall_curve(y_train_pred_final.Conversion, y_train_pred_final.Conversion_Prob)"
   ]
  },
  {
   "cell_type": "code",
   "execution_count": 420,
   "metadata": {},
   "outputs": [
    {
     "data": {
      "image/png": "[encoded data removed]",
      "text/plain": [
       "<Figure size 640x480 with 1 Axes>"
      ]
     },
     "metadata": {},
     "output_type": "display_data"
    }
   ],
   "source": [
    "plt.plot(thresholds, p[:-1], \"g-\")\n",
    "plt.plot(thresholds, r[:-1], \"r-\")\n",
    "plt.show()"
   ]
  },
  {
   "cell_type": "markdown",
   "metadata": {},
   "source": [
    "### Step 10: Making predictions on the test set"
   ]
  },
  {
   "cell_type": "code",
   "execution_count": 421,
   "metadata": {},
   "outputs": [],
   "source": [
    "X_test[['TotalVisits', 'Total Time Spent on Website']]=scaler.transform(X_test[['TotalVisits', 'Total Time Spent on Website']])"
   ]
  },
  {
   "cell_type": "code",
   "execution_count": 422,
   "metadata": {},
   "outputs": [
    {
     "data": {
      "text/html": [
       "<div>\n",
       "<style scoped>\n",
       "    .dataframe tbody tr th:only-of-type {\n",
       "        vertical-align: middle;\n",
       "    }\n",
       "\n",
       "    .dataframe tbody tr th {\n",
       "        vertical-align: top;\n",
       "    }\n",
       "\n",
       "    .dataframe thead th {\n",
       "        text-align: right;\n",
       "    }\n",
       "</style>\n",
       "<table border=\"1\" class=\"dataframe\">\n",
       "  <thead>\n",
       "    <tr style=\"text-align: right;\">\n",
       "      <th></th>\n",
       "      <th>Total Time Spent on Website</th>\n",
       "      <th>Lead Origin_LAF</th>\n",
       "      <th>Lead Source_Google</th>\n",
       "      <th>Lead Source_Olark</th>\n",
       "      <th>Last Activity_Olark Chat</th>\n",
       "      <th>Last Activity_Unreach</th>\n",
       "      <th>Last Activity_Visit</th>\n",
       "      <th>Last Notable Activity_Modified</th>\n",
       "      <th>Last Notable Activity_Open</th>\n",
       "      <th>Last Notable Activity_Unreach</th>\n",
       "      <th>Last Notable Activity_Visit</th>\n",
       "    </tr>\n",
       "  </thead>\n",
       "  <tbody>\n",
       "    <tr>\n",
       "      <th>4608</th>\n",
       "      <td>-0.428249</td>\n",
       "      <td>0</td>\n",
       "      <td>1</td>\n",
       "      <td>0</td>\n",
       "      <td>0</td>\n",
       "      <td>0</td>\n",
       "      <td>0</td>\n",
       "      <td>0</td>\n",
       "      <td>1</td>\n",
       "      <td>0</td>\n",
       "      <td>0</td>\n",
       "    </tr>\n",
       "    <tr>\n",
       "      <th>7935</th>\n",
       "      <td>0.805598</td>\n",
       "      <td>0</td>\n",
       "      <td>0</td>\n",
       "      <td>0</td>\n",
       "      <td>0</td>\n",
       "      <td>0</td>\n",
       "      <td>0</td>\n",
       "      <td>1</td>\n",
       "      <td>0</td>\n",
       "      <td>0</td>\n",
       "      <td>0</td>\n",
       "    </tr>\n",
       "    <tr>\n",
       "      <th>4043</th>\n",
       "      <td>-0.883879</td>\n",
       "      <td>0</td>\n",
       "      <td>0</td>\n",
       "      <td>0</td>\n",
       "      <td>0</td>\n",
       "      <td>0</td>\n",
       "      <td>0</td>\n",
       "      <td>1</td>\n",
       "      <td>0</td>\n",
       "      <td>0</td>\n",
       "      <td>0</td>\n",
       "    </tr>\n",
       "    <tr>\n",
       "      <th>7821</th>\n",
       "      <td>-0.298850</td>\n",
       "      <td>0</td>\n",
       "      <td>0</td>\n",
       "      <td>0</td>\n",
       "      <td>0</td>\n",
       "      <td>0</td>\n",
       "      <td>0</td>\n",
       "      <td>0</td>\n",
       "      <td>1</td>\n",
       "      <td>0</td>\n",
       "      <td>0</td>\n",
       "    </tr>\n",
       "    <tr>\n",
       "      <th>856</th>\n",
       "      <td>-0.521198</td>\n",
       "      <td>0</td>\n",
       "      <td>1</td>\n",
       "      <td>0</td>\n",
       "      <td>0</td>\n",
       "      <td>0</td>\n",
       "      <td>0</td>\n",
       "      <td>0</td>\n",
       "      <td>1</td>\n",
       "      <td>0</td>\n",
       "      <td>0</td>\n",
       "    </tr>\n",
       "  </tbody>\n",
       "</table>\n",
       "</div>"
      ],
      "text/plain": [
       "      Total Time Spent on Website  Lead Origin_LAF  Lead Source_Google  \\\n",
       "4608                    -0.428249                0                   1   \n",
       "7935                     0.805598                0                   0   \n",
       "4043                    -0.883879                0                   0   \n",
       "7821                    -0.298850                0                   0   \n",
       "856                     -0.521198                0                   1   \n",
       "\n",
       "      Lead Source_Olark  Last Activity_Olark Chat  Last Activity_Unreach  \\\n",
       "4608                  0                         0                      0   \n",
       "7935                  0                         0                      0   \n",
       "4043                  0                         0                      0   \n",
       "7821                  0                         0                      0   \n",
       "856                   0                         0                      0   \n",
       "\n",
       "      Last Activity_Visit  Last Notable Activity_Modified  \\\n",
       "4608                    0                               0   \n",
       "7935                    0                               1   \n",
       "4043                    0                               1   \n",
       "7821                    0                               0   \n",
       "856                     0                               0   \n",
       "\n",
       "      Last Notable Activity_Open  Last Notable Activity_Unreach  \\\n",
       "4608                           1                              0   \n",
       "7935                           0                              0   \n",
       "4043                           0                              0   \n",
       "7821                           1                              0   \n",
       "856                            1                              0   \n",
       "\n",
       "      Last Notable Activity_Visit  \n",
       "4608                            0  \n",
       "7935                            0  \n",
       "4043                            0  \n",
       "7821                            0  \n",
       "856                             0  "
      ]
     },
     "execution_count": 422,
     "metadata": {},
     "output_type": "execute_result"
    }
   ],
   "source": [
    "X_test = X_test[col]\n",
    "X_test.head()"
   ]
  },
  {
   "cell_type": "code",
   "execution_count": 423,
   "metadata": {},
   "outputs": [],
   "source": [
    "X_test_sm = sm.add_constant(X_test)"
   ]
  },
  {
   "cell_type": "markdown",
   "metadata": {},
   "source": [
    "Making predictions on the test set"
   ]
  },
  {
   "cell_type": "code",
   "execution_count": 424,
   "metadata": {},
   "outputs": [],
   "source": [
    "y_test_pred = res.predict(X_test_sm)"
   ]
  },
  {
   "cell_type": "code",
   "execution_count": 425,
   "metadata": {},
   "outputs": [
    {
     "data": {
      "text/plain": [
       "4608    0.206252\n",
       "7935    0.325078\n",
       "4043    0.071873\n",
       "7821    0.178295\n",
       "856     0.190276\n",
       "927     0.174251\n",
       "318     0.703432\n",
       "1018    0.354786\n",
       "8151    0.272388\n",
       "1570    0.840015\n",
       "dtype: float64"
      ]
     },
     "execution_count": 425,
     "metadata": {},
     "output_type": "execute_result"
    }
   ],
   "source": [
    "y_test_pred[:10]"
   ]
  },
  {
   "cell_type": "code",
   "execution_count": 426,
   "metadata": {},
   "outputs": [],
   "source": [
    "# Converting y_pred to a dataframe which is an array\n",
    "y_pred_1 = pd.DataFrame(y_test_pred)"
   ]
  },
  {
   "cell_type": "code",
   "execution_count": 427,
   "metadata": {},
   "outputs": [
    {
     "data": {
      "text/html": [
       "<div>\n",
       "<style scoped>\n",
       "    .dataframe tbody tr th:only-of-type {\n",
       "        vertical-align: middle;\n",
       "    }\n",
       "\n",
       "    .dataframe tbody tr th {\n",
       "        vertical-align: top;\n",
       "    }\n",
       "\n",
       "    .dataframe thead th {\n",
       "        text-align: right;\n",
       "    }\n",
       "</style>\n",
       "<table border=\"1\" class=\"dataframe\">\n",
       "  <thead>\n",
       "    <tr style=\"text-align: right;\">\n",
       "      <th></th>\n",
       "      <th>0</th>\n",
       "    </tr>\n",
       "  </thead>\n",
       "  <tbody>\n",
       "    <tr>\n",
       "      <th>4608</th>\n",
       "      <td>0.206252</td>\n",
       "    </tr>\n",
       "    <tr>\n",
       "      <th>7935</th>\n",
       "      <td>0.325078</td>\n",
       "    </tr>\n",
       "    <tr>\n",
       "      <th>4043</th>\n",
       "      <td>0.071873</td>\n",
       "    </tr>\n",
       "    <tr>\n",
       "      <th>7821</th>\n",
       "      <td>0.178295</td>\n",
       "    </tr>\n",
       "    <tr>\n",
       "      <th>856</th>\n",
       "      <td>0.190276</td>\n",
       "    </tr>\n",
       "  </tbody>\n",
       "</table>\n",
       "</div>"
      ],
      "text/plain": [
       "             0\n",
       "4608  0.206252\n",
       "7935  0.325078\n",
       "4043  0.071873\n",
       "7821  0.178295\n",
       "856   0.190276"
      ]
     },
     "execution_count": 427,
     "metadata": {},
     "output_type": "execute_result"
    }
   ],
   "source": [
    "# Let's see the head\n",
    "y_pred_1.head()"
   ]
  },
  {
   "cell_type": "code",
   "execution_count": 428,
   "metadata": {},
   "outputs": [],
   "source": [
    "# Converting y_test to dataframe\n",
    "y_test_df = pd.DataFrame(y_test)"
   ]
  },
  {
   "cell_type": "code",
   "execution_count": 429,
   "metadata": {},
   "outputs": [],
   "source": [
    "# Putting CustID to index\n",
    "y_test_df['CustID'] = y_test_df.index"
   ]
  },
  {
   "cell_type": "code",
   "execution_count": 430,
   "metadata": {},
   "outputs": [],
   "source": [
    "# Removing index for both dataframes to append them side by side \n",
    "y_pred_1.reset_index(drop=True, inplace=True)\n",
    "y_test_df.reset_index(drop=True, inplace=True)"
   ]
  },
  {
   "cell_type": "code",
   "execution_count": 431,
   "metadata": {},
   "outputs": [
    {
     "data": {
      "text/html": [
       "<div>\n",
       "<style scoped>\n",
       "    .dataframe tbody tr th:only-of-type {\n",
       "        vertical-align: middle;\n",
       "    }\n",
       "\n",
       "    .dataframe tbody tr th {\n",
       "        vertical-align: top;\n",
       "    }\n",
       "\n",
       "    .dataframe thead th {\n",
       "        text-align: right;\n",
       "    }\n",
       "</style>\n",
       "<table border=\"1\" class=\"dataframe\">\n",
       "  <thead>\n",
       "    <tr style=\"text-align: right;\">\n",
       "      <th></th>\n",
       "      <th>Converted</th>\n",
       "      <th>CustID</th>\n",
       "    </tr>\n",
       "  </thead>\n",
       "  <tbody>\n",
       "    <tr>\n",
       "      <th>0</th>\n",
       "      <td>1</td>\n",
       "      <td>4608</td>\n",
       "    </tr>\n",
       "    <tr>\n",
       "      <th>1</th>\n",
       "      <td>0</td>\n",
       "      <td>7935</td>\n",
       "    </tr>\n",
       "    <tr>\n",
       "      <th>2</th>\n",
       "      <td>0</td>\n",
       "      <td>4043</td>\n",
       "    </tr>\n",
       "    <tr>\n",
       "      <th>3</th>\n",
       "      <td>0</td>\n",
       "      <td>7821</td>\n",
       "    </tr>\n",
       "    <tr>\n",
       "      <th>4</th>\n",
       "      <td>0</td>\n",
       "      <td>856</td>\n",
       "    </tr>\n",
       "    <tr>\n",
       "      <th>...</th>\n",
       "      <td>...</td>\n",
       "      <td>...</td>\n",
       "    </tr>\n",
       "    <tr>\n",
       "      <th>2767</th>\n",
       "      <td>0</td>\n",
       "      <td>4184</td>\n",
       "    </tr>\n",
       "    <tr>\n",
       "      <th>2768</th>\n",
       "      <td>0</td>\n",
       "      <td>5023</td>\n",
       "    </tr>\n",
       "    <tr>\n",
       "      <th>2769</th>\n",
       "      <td>0</td>\n",
       "      <td>6661</td>\n",
       "    </tr>\n",
       "    <tr>\n",
       "      <th>2770</th>\n",
       "      <td>0</td>\n",
       "      <td>2201</td>\n",
       "    </tr>\n",
       "    <tr>\n",
       "      <th>2771</th>\n",
       "      <td>0</td>\n",
       "      <td>1160</td>\n",
       "    </tr>\n",
       "  </tbody>\n",
       "</table>\n",
       "<p>2772 rows × 2 columns</p>\n",
       "</div>"
      ],
      "text/plain": [
       "      Converted  CustID\n",
       "0             1    4608\n",
       "1             0    7935\n",
       "2             0    4043\n",
       "3             0    7821\n",
       "4             0     856\n",
       "...         ...     ...\n",
       "2767          0    4184\n",
       "2768          0    5023\n",
       "2769          0    6661\n",
       "2770          0    2201\n",
       "2771          0    1160\n",
       "\n",
       "[2772 rows x 2 columns]"
      ]
     },
     "execution_count": 431,
     "metadata": {},
     "output_type": "execute_result"
    }
   ],
   "source": [
    "y_test_df"
   ]
  },
  {
   "cell_type": "code",
   "execution_count": 432,
   "metadata": {},
   "outputs": [],
   "source": [
    "# Appending y_test_df and y_pred_1\n",
    "y_pred_final = pd.concat([y_test_df, y_pred_1],axis=1)"
   ]
  },
  {
   "cell_type": "code",
   "execution_count": 433,
   "metadata": {},
   "outputs": [
    {
     "data": {
      "text/html": [
       "<div>\n",
       "<style scoped>\n",
       "    .dataframe tbody tr th:only-of-type {\n",
       "        vertical-align: middle;\n",
       "    }\n",
       "\n",
       "    .dataframe tbody tr th {\n",
       "        vertical-align: top;\n",
       "    }\n",
       "\n",
       "    .dataframe thead th {\n",
       "        text-align: right;\n",
       "    }\n",
       "</style>\n",
       "<table border=\"1\" class=\"dataframe\">\n",
       "  <thead>\n",
       "    <tr style=\"text-align: right;\">\n",
       "      <th></th>\n",
       "      <th>Converted</th>\n",
       "      <th>CustID</th>\n",
       "      <th>0</th>\n",
       "    </tr>\n",
       "  </thead>\n",
       "  <tbody>\n",
       "    <tr>\n",
       "      <th>0</th>\n",
       "      <td>1</td>\n",
       "      <td>4608</td>\n",
       "      <td>0.206252</td>\n",
       "    </tr>\n",
       "    <tr>\n",
       "      <th>1</th>\n",
       "      <td>0</td>\n",
       "      <td>7935</td>\n",
       "      <td>0.325078</td>\n",
       "    </tr>\n",
       "    <tr>\n",
       "      <th>2</th>\n",
       "      <td>0</td>\n",
       "      <td>4043</td>\n",
       "      <td>0.071873</td>\n",
       "    </tr>\n",
       "    <tr>\n",
       "      <th>3</th>\n",
       "      <td>0</td>\n",
       "      <td>7821</td>\n",
       "      <td>0.178295</td>\n",
       "    </tr>\n",
       "    <tr>\n",
       "      <th>4</th>\n",
       "      <td>0</td>\n",
       "      <td>856</td>\n",
       "      <td>0.190276</td>\n",
       "    </tr>\n",
       "  </tbody>\n",
       "</table>\n",
       "</div>"
      ],
      "text/plain": [
       "   Converted  CustID         0\n",
       "0          1    4608  0.206252\n",
       "1          0    7935  0.325078\n",
       "2          0    4043  0.071873\n",
       "3          0    7821  0.178295\n",
       "4          0     856  0.190276"
      ]
     },
     "execution_count": 433,
     "metadata": {},
     "output_type": "execute_result"
    }
   ],
   "source": [
    "y_pred_final.head()"
   ]
  },
  {
   "cell_type": "code",
   "execution_count": 434,
   "metadata": {},
   "outputs": [],
   "source": [
    "# Renaming the column\n",
    "y_pred_final = y_pred_final.rename(columns={0: 'Conversion_Prob'})\n",
    "\n",
    "\n"
   ]
  },
  {
   "cell_type": "code",
   "execution_count": 435,
   "metadata": {},
   "outputs": [
    {
     "data": {
      "text/html": [
       "<div>\n",
       "<style scoped>\n",
       "    .dataframe tbody tr th:only-of-type {\n",
       "        vertical-align: middle;\n",
       "    }\n",
       "\n",
       "    .dataframe tbody tr th {\n",
       "        vertical-align: top;\n",
       "    }\n",
       "\n",
       "    .dataframe thead th {\n",
       "        text-align: right;\n",
       "    }\n",
       "</style>\n",
       "<table border=\"1\" class=\"dataframe\">\n",
       "  <thead>\n",
       "    <tr style=\"text-align: right;\">\n",
       "      <th></th>\n",
       "      <th>Converted</th>\n",
       "      <th>CustID</th>\n",
       "      <th>Conversion_Prob</th>\n",
       "    </tr>\n",
       "  </thead>\n",
       "  <tbody>\n",
       "    <tr>\n",
       "      <th>0</th>\n",
       "      <td>1</td>\n",
       "      <td>4608</td>\n",
       "      <td>0.206252</td>\n",
       "    </tr>\n",
       "    <tr>\n",
       "      <th>1</th>\n",
       "      <td>0</td>\n",
       "      <td>7935</td>\n",
       "      <td>0.325078</td>\n",
       "    </tr>\n",
       "    <tr>\n",
       "      <th>2</th>\n",
       "      <td>0</td>\n",
       "      <td>4043</td>\n",
       "      <td>0.071873</td>\n",
       "    </tr>\n",
       "    <tr>\n",
       "      <th>3</th>\n",
       "      <td>0</td>\n",
       "      <td>7821</td>\n",
       "      <td>0.178295</td>\n",
       "    </tr>\n",
       "    <tr>\n",
       "      <th>4</th>\n",
       "      <td>0</td>\n",
       "      <td>856</td>\n",
       "      <td>0.190276</td>\n",
       "    </tr>\n",
       "    <tr>\n",
       "      <th>...</th>\n",
       "      <td>...</td>\n",
       "      <td>...</td>\n",
       "      <td>...</td>\n",
       "    </tr>\n",
       "    <tr>\n",
       "      <th>2767</th>\n",
       "      <td>0</td>\n",
       "      <td>4184</td>\n",
       "      <td>0.514813</td>\n",
       "    </tr>\n",
       "    <tr>\n",
       "      <th>2768</th>\n",
       "      <td>0</td>\n",
       "      <td>5023</td>\n",
       "      <td>0.158665</td>\n",
       "    </tr>\n",
       "    <tr>\n",
       "      <th>2769</th>\n",
       "      <td>0</td>\n",
       "      <td>6661</td>\n",
       "      <td>0.043760</td>\n",
       "    </tr>\n",
       "    <tr>\n",
       "      <th>2770</th>\n",
       "      <td>0</td>\n",
       "      <td>2201</td>\n",
       "      <td>0.019473</td>\n",
       "    </tr>\n",
       "    <tr>\n",
       "      <th>2771</th>\n",
       "      <td>0</td>\n",
       "      <td>1160</td>\n",
       "      <td>0.113810</td>\n",
       "    </tr>\n",
       "  </tbody>\n",
       "</table>\n",
       "<p>2772 rows × 3 columns</p>\n",
       "</div>"
      ],
      "text/plain": [
       "      Converted  CustID  Conversion_Prob\n",
       "0             1    4608         0.206252\n",
       "1             0    7935         0.325078\n",
       "2             0    4043         0.071873\n",
       "3             0    7821         0.178295\n",
       "4             0     856         0.190276\n",
       "...         ...     ...              ...\n",
       "2767          0    4184         0.514813\n",
       "2768          0    5023         0.158665\n",
       "2769          0    6661         0.043760\n",
       "2770          0    2201         0.019473\n",
       "2771          0    1160         0.113810\n",
       "\n",
       "[2772 rows x 3 columns]"
      ]
     },
     "execution_count": 435,
     "metadata": {},
     "output_type": "execute_result"
    }
   ],
   "source": [
    "y_pred_final"
   ]
  },
  {
   "cell_type": "code",
   "execution_count": 436,
   "metadata": {},
   "outputs": [],
   "source": [
    "# Rearranging the columns\n",
    "y_pred_final = y_pred_final[['CustID', 'Converted', 'Conversion_Prob']]\n"
   ]
  },
  {
   "cell_type": "code",
   "execution_count": 437,
   "metadata": {},
   "outputs": [
    {
     "data": {
      "text/html": [
       "<div>\n",
       "<style scoped>\n",
       "    .dataframe tbody tr th:only-of-type {\n",
       "        vertical-align: middle;\n",
       "    }\n",
       "\n",
       "    .dataframe tbody tr th {\n",
       "        vertical-align: top;\n",
       "    }\n",
       "\n",
       "    .dataframe thead th {\n",
       "        text-align: right;\n",
       "    }\n",
       "</style>\n",
       "<table border=\"1\" class=\"dataframe\">\n",
       "  <thead>\n",
       "    <tr style=\"text-align: right;\">\n",
       "      <th></th>\n",
       "      <th>CustID</th>\n",
       "      <th>Converted</th>\n",
       "      <th>Conversion_Prob</th>\n",
       "    </tr>\n",
       "  </thead>\n",
       "  <tbody>\n",
       "    <tr>\n",
       "      <th>0</th>\n",
       "      <td>4608</td>\n",
       "      <td>1</td>\n",
       "      <td>0.206252</td>\n",
       "    </tr>\n",
       "    <tr>\n",
       "      <th>1</th>\n",
       "      <td>7935</td>\n",
       "      <td>0</td>\n",
       "      <td>0.325078</td>\n",
       "    </tr>\n",
       "    <tr>\n",
       "      <th>2</th>\n",
       "      <td>4043</td>\n",
       "      <td>0</td>\n",
       "      <td>0.071873</td>\n",
       "    </tr>\n",
       "    <tr>\n",
       "      <th>3</th>\n",
       "      <td>7821</td>\n",
       "      <td>0</td>\n",
       "      <td>0.178295</td>\n",
       "    </tr>\n",
       "    <tr>\n",
       "      <th>4</th>\n",
       "      <td>856</td>\n",
       "      <td>0</td>\n",
       "      <td>0.190276</td>\n",
       "    </tr>\n",
       "  </tbody>\n",
       "</table>\n",
       "</div>"
      ],
      "text/plain": [
       "   CustID  Converted  Conversion_Prob\n",
       "0    4608          1         0.206252\n",
       "1    7935          0         0.325078\n",
       "2    4043          0         0.071873\n",
       "3    7821          0         0.178295\n",
       "4     856          0         0.190276"
      ]
     },
     "execution_count": 437,
     "metadata": {},
     "output_type": "execute_result"
    }
   ],
   "source": [
    "# Let's see the head of y_pred_final\n",
    "y_pred_final.head()"
   ]
  },
  {
   "cell_type": "code",
   "execution_count": 442,
   "metadata": {},
   "outputs": [],
   "source": [
    "y_pred_final.loc[:, 'final_predicted'] = y_pred_final['Conversion_Prob'].map(lambda x: 1 if x > 0.40 else 0)\n"
   ]
  },
  {
   "cell_type": "code",
   "execution_count": 439,
   "metadata": {},
   "outputs": [
    {
     "data": {
      "text/html": [
       "<div>\n",
       "<style scoped>\n",
       "    .dataframe tbody tr th:only-of-type {\n",
       "        vertical-align: middle;\n",
       "    }\n",
       "\n",
       "    .dataframe tbody tr th {\n",
       "        vertical-align: top;\n",
       "    }\n",
       "\n",
       "    .dataframe thead th {\n",
       "        text-align: right;\n",
       "    }\n",
       "</style>\n",
       "<table border=\"1\" class=\"dataframe\">\n",
       "  <thead>\n",
       "    <tr style=\"text-align: right;\">\n",
       "      <th></th>\n",
       "      <th>CustID</th>\n",
       "      <th>Converted</th>\n",
       "      <th>Conversion_Prob</th>\n",
       "      <th>final_predicted</th>\n",
       "    </tr>\n",
       "  </thead>\n",
       "  <tbody>\n",
       "    <tr>\n",
       "      <th>0</th>\n",
       "      <td>4608</td>\n",
       "      <td>1</td>\n",
       "      <td>0.206252</td>\n",
       "      <td>0</td>\n",
       "    </tr>\n",
       "    <tr>\n",
       "      <th>1</th>\n",
       "      <td>7935</td>\n",
       "      <td>0</td>\n",
       "      <td>0.325078</td>\n",
       "      <td>0</td>\n",
       "    </tr>\n",
       "    <tr>\n",
       "      <th>2</th>\n",
       "      <td>4043</td>\n",
       "      <td>0</td>\n",
       "      <td>0.071873</td>\n",
       "      <td>0</td>\n",
       "    </tr>\n",
       "    <tr>\n",
       "      <th>3</th>\n",
       "      <td>7821</td>\n",
       "      <td>0</td>\n",
       "      <td>0.178295</td>\n",
       "      <td>0</td>\n",
       "    </tr>\n",
       "    <tr>\n",
       "      <th>4</th>\n",
       "      <td>856</td>\n",
       "      <td>0</td>\n",
       "      <td>0.190276</td>\n",
       "      <td>0</td>\n",
       "    </tr>\n",
       "  </tbody>\n",
       "</table>\n",
       "</div>"
      ],
      "text/plain": [
       "   CustID  Converted  Conversion_Prob  final_predicted\n",
       "0    4608          1         0.206252                0\n",
       "1    7935          0         0.325078                0\n",
       "2    4043          0         0.071873                0\n",
       "3    7821          0         0.178295                0\n",
       "4     856          0         0.190276                0"
      ]
     },
     "execution_count": 439,
     "metadata": {},
     "output_type": "execute_result"
    }
   ],
   "source": [
    "y_pred_final.head()"
   ]
  },
  {
   "cell_type": "code",
   "execution_count": 445,
   "metadata": {},
   "outputs": [
    {
     "data": {
      "text/plain": [
       "0.7972582972582972"
      ]
     },
     "execution_count": 445,
     "metadata": {},
     "output_type": "execute_result"
    }
   ],
   "source": [
    "# Let's check the overall accuracy.\n",
    "metrics.accuracy_score(y_pred_final.Converted, y_pred_final.final_predicted)"
   ]
  },
  {
   "cell_type": "code",
   "execution_count": 446,
   "metadata": {},
   "outputs": [
    {
     "data": {
      "text/plain": [
       "array([[1378,  317],\n",
       "       [ 245,  832]])"
      ]
     },
     "execution_count": 446,
     "metadata": {},
     "output_type": "execute_result"
    }
   ],
   "source": [
    "confusion2 = metrics.confusion_matrix(y_pred_final.Converted, y_pred_final.final_predicted )\n",
    "confusion2"
   ]
  },
  {
   "cell_type": "code",
   "execution_count": 447,
   "metadata": {},
   "outputs": [],
   "source": [
    "TP = confusion2[1,1] # true positive \n",
    "TN = confusion2[0,0] # true negatives\n",
    "FP = confusion2[0,1] # false positives\n",
    "FN = confusion2[1,0] # false negatives"
   ]
  },
  {
   "cell_type": "code",
   "execution_count": 448,
   "metadata": {},
   "outputs": [
    {
     "data": {
      "text/plain": [
       "np.float64(0.7725162488393686)"
      ]
     },
     "execution_count": 448,
     "metadata": {},
     "output_type": "execute_result"
    }
   ],
   "source": [
    "# Let's see the sensitivity of our logistic regression model\n",
    "TP / float(TP+FN)"
   ]
  },
  {
   "cell_type": "code",
   "execution_count": 449,
   "metadata": {},
   "outputs": [
    {
     "data": {
      "text/plain": [
       "np.float64(0.8129793510324483)"
      ]
     },
     "execution_count": 449,
     "metadata": {},
     "output_type": "execute_result"
    }
   ],
   "source": [
    "# Let us calculate specificity\n",
    "TN / float(TN+FP)"
   ]
  }
 ],
 "metadata": {
  "kernelspec": {
   "display_name": "Upgrad_ML",
   "language": "python",
   "name": "python3"
  },
  "language_info": {
   "codemirror_mode": {
    "name": "ipython",
    "version": 3
   },
   "file_extension": ".py",
   "mimetype": "text/x-python",
   "name": "python",
   "nbconvert_exporter": "python",
   "pygments_lexer": "ipython3",
   "version": "3.9.19"
  }
 },
 "nbformat": 4,
 "nbformat_minor": 2
}
